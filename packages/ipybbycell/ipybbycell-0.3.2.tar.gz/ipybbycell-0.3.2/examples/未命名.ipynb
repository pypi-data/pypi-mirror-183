{
 "cells": [
  {
   "cell_type": "code",
   "execution_count": null,
   "id": "308d937c",
   "metadata": {
    "bxyCellId": "id_u2rwbag"
   },
   "outputs": [],
   "source": []
  },
  {
   "cell_type": "markdown",
   "id": "f8d084cd",
   "metadata": {
    "bxyCellId": "id_re3cg5p"
   },
   "source": [
    "1\n",
    "\n",
    "<!-----------------------图片播放器 Begin----------------------->\n",
    "\n",
    "<!--------请勿修改此处内容-------->\n",
    "<div class=\"image-player\">\n",
    "<div class=\"image-viewer\">\n",
    "<!-- ------请勿修改此处内容-------->\n",
    "\n",
    "\n",
    "<!-- 在此处添加图片资源-->\n",
    "<img src=\"https://staticcdn.boyuai.com/user-assets/14398/uLkYavzXiGnvZxCYhtMdsT/1.png\" />\n",
    "<img src=\"https://staticcdn.boyuai.com/user-assets/14398/jUs1thD7ZX71RFgZNWWyi9/2.png\" />\n",
    "<img src=\"https://staticcdn.boyuai.com/user-assets/14398/iXXtqXm7DFyRt9NnfafTYE/3.png\" />\n",
    "<img src=\"https://staticcdn.boyuai.com/user-assets/34/frP95sM4pUSKf6PcUKmHhE/A01-1-p-2.png\" />\n",
    "<img src=\"https://staticcdn.boyuai.com/user-assets/34/bvECBC9CkKwQRRVmY8yHza/A01-1-p-3.png\" />\n",
    "<img src=\"https://staticcdn.boyuai.com/user-assets/34/tpnBBtVKCs9eEjNVEDnqCz/A02-1-p-1.png!png\" />\n",
    "<!-- 在此处添加图片资源-->\n",
    "\n",
    "\n",
    "<!-- ------请勿修改此处内容-------->\n",
    "</div>\n",
    "<div class=\"button-wrapper\">\n",
    "<button class=\"last\"></button>\n",
    "<div>\n",
    "<span class=\"current\">0</span>\n",
    "<span>/</span>\n",
    "<span class=\"total\">0</span>\n",
    "</div>\n",
    "<button class=\"next\"></button>\n",
    "</div>\n",
    "<!-- ------请勿修改此处内容-------->\n",
    "\n",
    "<!-----------------------图片播放器 End----------------------->\n",
    "    \n",
    "    12312321312323132131\n",
    "    \n",
    "    \n",
    "\n",
    "\n",
    "<details>\n",
    "\n",
    "<summary>标题</summary>\n",
    "\n",
    "内容\n",
    "\n",
    "</details>\n",
    "    \n",
    "    这是一段话\n",
    "  "
   ]
  },
  {
   "cell_type": "markdown",
   "id": "96ddbd38",
   "metadata": {
    "bxyCellId": "id_py6k1jq"
   },
   "source": [
    "### 步骤标题"
   ]
  },
  {
   "cell_type": "code",
   "execution_count": null,
   "id": "a7c13ea2",
   "metadata": {
    "bxyCellId": "id_juka34i"
   },
   "outputs": [],
   "source": [
    "#platform-desc\n",
    "from ipyaliplayer import Player\n",
    "Player(vid='--替换你的视频id，上传地址 https://www.boyuai.com/elites/admin/public-video', aspect_ratio=4/3)\n"
   ]
  },
  {
   "cell_type": "markdown",
   "id": "59dfda17",
   "metadata": {
    "bxyCellId": "id_yf9b854"
   },
   "source": [
    "<!--步骤描述 -->\n",
    "\n",
    "#### 知识点\n",
    "- 总结视频中的知识点\n",
    "\n",
    "#### 代码练习说明\n",
    "- 代码练习题目说明\n",
    "\n",
    "#### 代码练习提示\n",
    "- 代码练习提示"
   ]
  },
  {
   "cell_type": "code",
   "execution_count": null,
   "id": "b7da32ca",
   "metadata": {
    "bxyCellId": "id_9fogn8m"
   },
   "outputs": [],
   "source": [
    "#platform-edit\n",
    "\n",
    "import matplotlib.pyplot as plt\n",
    "plt.plot([1, 2, 3])\n",
    "plt.show()"
   ]
  },
  {
   "cell_type": "code",
   "execution_count": null,
   "id": "c08853ae",
   "metadata": {
    "bxyCellId": "id_fi62f4w"
   },
   "outputs": [],
   "source": [
    "#platform-edit-answer\n",
    "\n",
    "import matplotlib.pyplot as plt\n",
    "plt.plot([1, 2, 3, 4])\n",
    "plt.show()"
   ]
  },
  {
   "cell_type": "code",
   "execution_count": null,
   "id": "c1cc40bc",
   "metadata": {
    "bxyCellId": "id_ycx04fe"
   },
   "outputs": [],
   "source": [
    "#platform-lock-hidden\n",
    "\n",
    "# 不要修改\n",
    "print(\"#matplotlib#\")"
   ]
  },
  {
   "cell_type": "markdown",
   "id": "4c8179e3",
   "metadata": {
    "bxyCellId": "id_awfllco"
   },
   "source": [
    "#matplotlib#"
   ]
  },
  {
   "cell_type": "code",
   "execution_count": null,
   "id": "afe46458",
   "metadata": {
    "bxyCellId": "id_ojebqk9"
   },
   "outputs": [],
   "source": []
  }
 ],
 "metadata": {
  "bxyId": "id_sbn2d6w",
  "kernelspec": {
   "display_name": "Python 3",
   "language": "python",
   "name": "python3"
  },
  "language_info": {
   "codemirror_mode": {
    "name": "ipython",
    "version": 3
   },
   "file_extension": ".py",
   "mimetype": "text/x-python",
   "name": "python",
   "nbconvert_exporter": "python",
   "pygments_lexer": "ipython3",
   "version": "3.6.8"
  }
 },
 "nbformat": 4,
 "nbformat_minor": 5
}
