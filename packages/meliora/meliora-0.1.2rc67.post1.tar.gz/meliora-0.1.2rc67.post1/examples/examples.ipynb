{
 "cells": [
  {
   "cell_type": "markdown",
   "metadata": {},
   "source": [
    "## Examples of usage"
   ]
  },
  {
   "cell_type": "code",
   "execution_count": 1,
   "metadata": {},
   "outputs": [],
   "source": [
    "import numpy as np\n",
    "import random\n",
    "import pandas as pd\n",
    "import meliora.src.meliora.core as vt\n",
    "from scipy.stats import norm"
   ]
  },
  {
   "cell_type": "code",
   "execution_count": 2,
   "metadata": {},
   "outputs": [],
   "source": [
    "# Import data\n",
    "test_data_main = pd.read_csv('../data/pd_test_data_main.csv')\n",
    "test_data_add = pd.read_csv('../data/pd_test_data_period_2.csv')\n",
    "pd_test_data = pd.read_csv('../data/pd_test_data_main.csv')\n",
    "test_pd_psi = pd.read_csv('../data/pd_bellini.csv')\n",
    "german_data = pd.read_csv('../data/german_data.csv')\n",
    "lgd_t_test = pd.read_csv('../data/lgd_t_test.csv')\n",
    "pd_transition_matrix = pd.read_csv('../data/pd_transition_matrix.csv')\n",
    "pd_calibration = pd.read_csv('../data/pd_calibration.csv')\n",
    "lgd_dataset = pd.read_csv('../data/lgd_dataset.csv')"
   ]
  },
  {
   "cell_type": "code",
   "execution_count": 3,
   "metadata": {},
   "outputs": [
    {
     "data": {
      "text/html": [
       "<div>\n",
       "<style scoped>\n",
       "    .dataframe tbody tr th:only-of-type {\n",
       "        vertical-align: middle;\n",
       "    }\n",
       "\n",
       "    .dataframe tbody tr th {\n",
       "        vertical-align: top;\n",
       "    }\n",
       "\n",
       "    .dataframe thead th {\n",
       "        text-align: right;\n",
       "    }\n",
       "</style>\n",
       "<table border=\"1\" class=\"dataframe\">\n",
       "  <thead>\n",
       "    <tr style=\"text-align: right;\">\n",
       "      <th></th>\n",
       "      <th>facility</th>\n",
       "      <th>predicted_lgd</th>\n",
       "      <th>realised_lgd</th>\n",
       "      <th>segment</th>\n",
       "      <th>ead</th>\n",
       "    </tr>\n",
       "  </thead>\n",
       "  <tbody>\n",
       "    <tr>\n",
       "      <th>0</th>\n",
       "      <td>1</td>\n",
       "      <td>0.80</td>\n",
       "      <td>0.83</td>\n",
       "      <td>8</td>\n",
       "      <td>5860</td>\n",
       "    </tr>\n",
       "    <tr>\n",
       "      <th>1</th>\n",
       "      <td>2</td>\n",
       "      <td>0.75</td>\n",
       "      <td>0.81</td>\n",
       "      <td>7</td>\n",
       "      <td>6653</td>\n",
       "    </tr>\n",
       "    <tr>\n",
       "      <th>2</th>\n",
       "      <td>3</td>\n",
       "      <td>0.42</td>\n",
       "      <td>0.45</td>\n",
       "      <td>4</td>\n",
       "      <td>3192</td>\n",
       "    </tr>\n",
       "    <tr>\n",
       "      <th>3</th>\n",
       "      <td>4</td>\n",
       "      <td>0.99</td>\n",
       "      <td>1.00</td>\n",
       "      <td>9</td>\n",
       "      <td>7322</td>\n",
       "    </tr>\n",
       "    <tr>\n",
       "      <th>4</th>\n",
       "      <td>5</td>\n",
       "      <td>0.90</td>\n",
       "      <td>0.86</td>\n",
       "      <td>9</td>\n",
       "      <td>5513</td>\n",
       "    </tr>\n",
       "  </tbody>\n",
       "</table>\n",
       "</div>"
      ],
      "text/plain": [
       "   facility  predicted_lgd  realised_lgd  segment   ead\n",
       "0         1           0.80          0.83        8  5860\n",
       "1         2           0.75          0.81        7  6653\n",
       "2         3           0.42          0.45        4  3192\n",
       "3         4           0.99          1.00        9  7322\n",
       "4         5           0.90          0.86        9  5513"
      ]
     },
     "execution_count": 3,
     "metadata": {},
     "output_type": "execute_result"
    }
   ],
   "source": [
    "lgd_t_test.head()"
   ]
  },
  {
   "cell_type": "code",
   "execution_count": 4,
   "metadata": {},
   "outputs": [
    {
     "data": {
      "text/html": [
       "<div>\n",
       "<style scoped>\n",
       "    .dataframe tbody tr th:only-of-type {\n",
       "        vertical-align: middle;\n",
       "    }\n",
       "\n",
       "    .dataframe tbody tr th {\n",
       "        vertical-align: top;\n",
       "    }\n",
       "\n",
       "    .dataframe thead th {\n",
       "        text-align: right;\n",
       "    }\n",
       "</style>\n",
       "<table border=\"1\" class=\"dataframe\">\n",
       "  <thead>\n",
       "    <tr style=\"text-align: right;\">\n",
       "      <th></th>\n",
       "      <th>realised_outcome</th>\n",
       "      <th>predicted_outcome</th>\n",
       "    </tr>\n",
       "  </thead>\n",
       "  <tbody>\n",
       "    <tr>\n",
       "      <th>0</th>\n",
       "      <td>1</td>\n",
       "      <td>3</td>\n",
       "    </tr>\n",
       "    <tr>\n",
       "      <th>1</th>\n",
       "      <td>1</td>\n",
       "      <td>3</td>\n",
       "    </tr>\n",
       "    <tr>\n",
       "      <th>2</th>\n",
       "      <td>1</td>\n",
       "      <td>3</td>\n",
       "    </tr>\n",
       "    <tr>\n",
       "      <th>3</th>\n",
       "      <td>2</td>\n",
       "      <td>2</td>\n",
       "    </tr>\n",
       "    <tr>\n",
       "      <th>4</th>\n",
       "      <td>2</td>\n",
       "      <td>2</td>\n",
       "    </tr>\n",
       "  </tbody>\n",
       "</table>\n",
       "</div>"
      ],
      "text/plain": [
       "   realised_outcome  predicted_outcome\n",
       "0                 1                  3\n",
       "1                 1                  3\n",
       "2                 1                  3\n",
       "3                 2                  2\n",
       "4                 2                  2"
      ]
     },
     "execution_count": 4,
     "metadata": {},
     "output_type": "execute_result"
    }
   ],
   "source": [
    "lgd_dataset.head()"
   ]
  },
  {
   "cell_type": "code",
   "execution_count": 5,
   "metadata": {},
   "outputs": [
    {
     "data": {
      "text/html": [
       "<div>\n",
       "<style scoped>\n",
       "    .dataframe tbody tr th:only-of-type {\n",
       "        vertical-align: middle;\n",
       "    }\n",
       "\n",
       "    .dataframe tbody tr th {\n",
       "        vertical-align: top;\n",
       "    }\n",
       "\n",
       "    .dataframe thead th {\n",
       "        text-align: right;\n",
       "    }\n",
       "</style>\n",
       "<table border=\"1\" class=\"dataframe\">\n",
       "  <thead>\n",
       "    <tr style=\"text-align: right;\">\n",
       "      <th></th>\n",
       "      <th>period_1_ratings</th>\n",
       "      <th>period_2_ratings</th>\n",
       "    </tr>\n",
       "  </thead>\n",
       "  <tbody>\n",
       "    <tr>\n",
       "      <th>0</th>\n",
       "      <td>6</td>\n",
       "      <td>4</td>\n",
       "    </tr>\n",
       "    <tr>\n",
       "      <th>1</th>\n",
       "      <td>6</td>\n",
       "      <td>5</td>\n",
       "    </tr>\n",
       "    <tr>\n",
       "      <th>2</th>\n",
       "      <td>3</td>\n",
       "      <td>2</td>\n",
       "    </tr>\n",
       "    <tr>\n",
       "      <th>3</th>\n",
       "      <td>5</td>\n",
       "      <td>2</td>\n",
       "    </tr>\n",
       "    <tr>\n",
       "      <th>4</th>\n",
       "      <td>7</td>\n",
       "      <td>8</td>\n",
       "    </tr>\n",
       "  </tbody>\n",
       "</table>\n",
       "</div>"
      ],
      "text/plain": [
       "   period_1_ratings  period_2_ratings\n",
       "0                 6                 4\n",
       "1                 6                 5\n",
       "2                 3                 2\n",
       "3                 5                 2\n",
       "4                 7                 8"
      ]
     },
     "execution_count": 5,
     "metadata": {},
     "output_type": "execute_result"
    }
   ],
   "source": [
    "pd_transition_matrix.head()"
   ]
  },
  {
   "cell_type": "code",
   "execution_count": 6,
   "metadata": {},
   "outputs": [
    {
     "data": {
      "text/html": [
       "<div>\n",
       "<style scoped>\n",
       "    .dataframe tbody tr th:only-of-type {\n",
       "        vertical-align: middle;\n",
       "    }\n",
       "\n",
       "    .dataframe tbody tr th {\n",
       "        vertical-align: top;\n",
       "    }\n",
       "\n",
       "    .dataframe thead th {\n",
       "        text-align: right;\n",
       "    }\n",
       "</style>\n",
       "<table border=\"1\" class=\"dataframe\">\n",
       "  <thead>\n",
       "    <tr style=\"text-align: right;\">\n",
       "      <th></th>\n",
       "      <th>Rating class</th>\n",
       "      <th>Predicted PD</th>\n",
       "      <th>Total count</th>\n",
       "      <th>Defaults</th>\n",
       "      <th>Actual Default Rate</th>\n",
       "      <th>p_value</th>\n",
       "      <th>Reject H0</th>\n",
       "    </tr>\n",
       "  </thead>\n",
       "  <tbody>\n",
       "    <tr>\n",
       "      <th>0</th>\n",
       "      <td>A</td>\n",
       "      <td>0.103429</td>\n",
       "      <td>406</td>\n",
       "      <td>55</td>\n",
       "      <td>0.135468</td>\n",
       "      <td>0.023892</td>\n",
       "      <td>True</td>\n",
       "    </tr>\n",
       "    <tr>\n",
       "      <th>1</th>\n",
       "      <td>B</td>\n",
       "      <td>0.099524</td>\n",
       "      <td>480</td>\n",
       "      <td>41</td>\n",
       "      <td>0.085417</td>\n",
       "      <td>0.867441</td>\n",
       "      <td>False</td>\n",
       "    </tr>\n",
       "    <tr>\n",
       "      <th>2</th>\n",
       "      <td>C</td>\n",
       "      <td>0.095719</td>\n",
       "      <td>114</td>\n",
       "      <td>10</td>\n",
       "      <td>0.087719</td>\n",
       "      <td>0.660553</td>\n",
       "      <td>False</td>\n",
       "    </tr>\n",
       "  </tbody>\n",
       "</table>\n",
       "</div>"
      ],
      "text/plain": [
       "  Rating class  Predicted PD  Total count  Defaults  Actual Default Rate  \\\n",
       "0            A      0.103429          406        55             0.135468   \n",
       "1            B      0.099524          480        41             0.085417   \n",
       "2            C      0.095719          114        10             0.087719   \n",
       "\n",
       "    p_value  Reject H0  \n",
       "0  0.023892       True  \n",
       "1  0.867441      False  \n",
       "2  0.660553      False  "
      ]
     },
     "execution_count": 6,
     "metadata": {},
     "output_type": "execute_result"
    }
   ],
   "source": [
    "# Binomial test\n",
    "vt.binomial_test(test_data_main, \"ratings\", \"default_flag\", \"predicted_pd\")"
   ]
  },
  {
   "cell_type": "code",
   "execution_count": 7,
   "metadata": {},
   "outputs": [
    {
     "data": {
      "text/html": [
       "<div>\n",
       "<style scoped>\n",
       "    .dataframe tbody tr th:only-of-type {\n",
       "        vertical-align: middle;\n",
       "    }\n",
       "\n",
       "    .dataframe tbody tr th {\n",
       "        vertical-align: top;\n",
       "    }\n",
       "\n",
       "    .dataframe thead th {\n",
       "        text-align: right;\n",
       "    }\n",
       "</style>\n",
       "<table border=\"1\" class=\"dataframe\">\n",
       "  <thead>\n",
       "    <tr style=\"text-align: right;\">\n",
       "      <th></th>\n",
       "      <th>Rating class</th>\n",
       "      <th>Predicted PD</th>\n",
       "      <th>Total count</th>\n",
       "      <th>Defaults</th>\n",
       "      <th>Actual Default Rate</th>\n",
       "      <th>p_value</th>\n",
       "      <th>Reject H0</th>\n",
       "    </tr>\n",
       "  </thead>\n",
       "  <tbody>\n",
       "    <tr>\n",
       "      <th>0</th>\n",
       "      <td>A</td>\n",
       "      <td>0.103429</td>\n",
       "      <td>406</td>\n",
       "      <td>55</td>\n",
       "      <td>0.135468</td>\n",
       "      <td>0.019959</td>\n",
       "      <td>True</td>\n",
       "    </tr>\n",
       "    <tr>\n",
       "      <th>1</th>\n",
       "      <td>B</td>\n",
       "      <td>0.099524</td>\n",
       "      <td>480</td>\n",
       "      <td>41</td>\n",
       "      <td>0.085417</td>\n",
       "      <td>0.849552</td>\n",
       "      <td>False</td>\n",
       "    </tr>\n",
       "    <tr>\n",
       "      <th>2</th>\n",
       "      <td>C</td>\n",
       "      <td>0.095719</td>\n",
       "      <td>114</td>\n",
       "      <td>10</td>\n",
       "      <td>0.087719</td>\n",
       "      <td>0.598649</td>\n",
       "      <td>False</td>\n",
       "    </tr>\n",
       "  </tbody>\n",
       "</table>\n",
       "</div>"
      ],
      "text/plain": [
       "  Rating class  Predicted PD  Total count  Defaults  Actual Default Rate  \\\n",
       "0            A      0.103429          406        55             0.135468   \n",
       "1            B      0.099524          480        41             0.085417   \n",
       "2            C      0.095719          114        10             0.087719   \n",
       "\n",
       "    p_value  Reject H0  \n",
       "0  0.019959       True  \n",
       "1  0.849552      False  \n",
       "2  0.598649      False  "
      ]
     },
     "execution_count": 7,
     "metadata": {},
     "output_type": "execute_result"
    }
   ],
   "source": [
    "# Jeffrey's test\n",
    "vt.jeffreys_test(test_data_main, 'ratings', 'default_flag', 'predicted_pd', 0.05)"
   ]
  },
  {
   "cell_type": "code",
   "execution_count": 8,
   "metadata": {},
   "outputs": [
    {
     "data": {
      "text/plain": [
       "0.0012895084997917349"
      ]
     },
     "execution_count": 8,
     "metadata": {},
     "output_type": "execute_result"
    }
   ],
   "source": [
    "# Brier score\n",
    "vt.brier_score(test_data_main, \"ratings\", \"default_flag\", \"predicted_pd\")"
   ]
  },
  {
   "cell_type": "code",
   "execution_count": 9,
   "metadata": {},
   "outputs": [
    {
     "data": {
      "text/plain": [
       "[0.1302500370047408, False]"
      ]
     },
     "execution_count": 9,
     "metadata": {},
     "output_type": "execute_result"
    }
   ],
   "source": [
    "# Hosmer-Lemeshow test\n",
    "vt.hosmer_test(test_data_main, \"ratings\", \"default_flag\", \"predicted_pd\")"
   ]
  },
  {
   "cell_type": "code",
   "execution_count": 10,
   "metadata": {},
   "outputs": [
    {
     "data": {
      "text/plain": [
       "(-0.6637590511485174, False)"
      ]
     },
     "execution_count": 10,
     "metadata": {},
     "output_type": "execute_result"
    }
   ],
   "source": [
    "# Spiegelhalter test\n",
    "vt.spiegelhalter_test(test_data_main, \"ratings\", \"default_flag\", \"predicted_pd\")"
   ]
  },
  {
   "cell_type": "code",
   "execution_count": 11,
   "metadata": {},
   "outputs": [
    {
     "data": {
      "text/plain": [
       "0.5008547549702419"
      ]
     },
     "execution_count": 11,
     "metadata": {},
     "output_type": "execute_result"
    }
   ],
   "source": [
    "# ROC test\n",
    "vt.roc_auc(test_data_main, \"default_flag\", \"predicted_pd\")"
   ]
  },
  {
   "cell_type": "code",
   "execution_count": 12,
   "metadata": {},
   "outputs": [
    {
     "data": {
      "text/plain": [
       "0.8207826816681233"
      ]
     },
     "execution_count": 12,
     "metadata": {},
     "output_type": "execute_result"
    }
   ],
   "source": [
    "# Spearman correlation\n",
    "x = [1,2,3,4,5]\n",
    "y = [5,6,7,8,7]\n",
    "vt.spearman_correlation(x, y).correlation"
   ]
  },
  {
   "cell_type": "code",
   "execution_count": 13,
   "metadata": {},
   "outputs": [
    {
     "data": {
      "text/plain": [
       "SomersDResult(statistic=-0.25, pvalue=0.3613104285261787, table=array([[0, 1],\n",
       "       [1, 3]]))"
      ]
     },
     "execution_count": 13,
     "metadata": {},
     "output_type": "execute_result"
    }
   ],
   "source": [
    "# Somers D\n",
    "x = [0, 1, 1, 1, 1] \n",
    "y = [1, 1, 1, 0, 1]\n",
    "vt.somersd(x, y)"
   ]
  },
  {
   "cell_type": "code",
   "execution_count": 14,
   "metadata": {},
   "outputs": [
    {
     "data": {
      "text/plain": [
       "0.030306509211290782"
      ]
     },
     "execution_count": 14,
     "metadata": {},
     "output_type": "execute_result"
    }
   ],
   "source": [
    "# Kendall tau\n",
    "x = [1, 2, 3, 2, 1, 3, 4, 2, 5, 2, 6, 5, 5]\n",
    "y = [5, 5, 6, 2, 1, 4, 4, 2, 1, 2, 1, 5, 5]\n",
    "\n",
    "tau, pvalue = vt.kendall_tau(x, y)\n",
    "tau"
   ]
  },
  {
   "cell_type": "code",
   "execution_count": 15,
   "metadata": {},
   "outputs": [
    {
     "data": {
      "text/plain": [
       "1.0344129494141174"
      ]
     },
     "execution_count": 15,
     "metadata": {},
     "output_type": "execute_result"
    }
   ],
   "source": [
    "# PSI test\n",
    "test_pd_psi['remaining_mat' + \"_bin\"] = pd.cut(test_pd_psi['remaining_mat'], bins=10, labels=False)\n",
    "test_pd_psi['year_bins'] = np.where(test_pd_psi['vintage_year'] < 2007, 'period_1', 'period_2')\n",
    "\n",
    "# Export data\n",
    "test_pd_psi.to_csv('test_pd_psi.csv', index=False)\n",
    "\n",
    "# Show results\n",
    "kala = vt.population_stability_index(test_pd_psi, 'year_bins', 'remaining_mat_bin')\n",
    "kala[1]"
   ]
  },
  {
   "cell_type": "code",
   "execution_count": 16,
   "metadata": {},
   "outputs": [
    {
     "data": {
      "text/plain": [
       "0.6660115033513336"
      ]
     },
     "execution_count": 16,
     "metadata": {},
     "output_type": "execute_result"
    }
   ],
   "source": [
    "# IV\n",
    "zen = vt.information_value(german_data, 'checkingstatus', 'GoodCredit')\n",
    "\n",
    "zen[1]"
   ]
  },
  {
   "cell_type": "code",
   "execution_count": 17,
   "metadata": {},
   "outputs": [
    {
     "data": {
      "text/html": [
       "<div>\n",
       "<style scoped>\n",
       "    .dataframe tbody tr th:only-of-type {\n",
       "        vertical-align: middle;\n",
       "    }\n",
       "\n",
       "    .dataframe tbody tr th {\n",
       "        vertical-align: top;\n",
       "    }\n",
       "\n",
       "    .dataframe thead th {\n",
       "        text-align: right;\n",
       "    }\n",
       "</style>\n",
       "<table border=\"1\" class=\"dataframe\">\n",
       "  <thead>\n",
       "    <tr style=\"text-align: right;\">\n",
       "      <th></th>\n",
       "      <th>Variable</th>\n",
       "      <th>Value</th>\n",
       "      <th>All</th>\n",
       "      <th>Bad</th>\n",
       "      <th>Share</th>\n",
       "      <th>Bad Rate</th>\n",
       "      <th>Distribution Good</th>\n",
       "      <th>Distribution Bad</th>\n",
       "      <th>WoE</th>\n",
       "      <th>IV</th>\n",
       "    </tr>\n",
       "  </thead>\n",
       "  <tbody>\n",
       "    <tr>\n",
       "      <th>0</th>\n",
       "      <td>checkingstatus</td>\n",
       "      <td>A11</td>\n",
       "      <td>274</td>\n",
       "      <td>135</td>\n",
       "      <td>0.274</td>\n",
       "      <td>0.492701</td>\n",
       "      <td>0.198571</td>\n",
       "      <td>0.450000</td>\n",
       "      <td>-0.818099</td>\n",
       "      <td>0.205693</td>\n",
       "    </tr>\n",
       "    <tr>\n",
       "      <th>1</th>\n",
       "      <td>checkingstatus</td>\n",
       "      <td>A12</td>\n",
       "      <td>269</td>\n",
       "      <td>105</td>\n",
       "      <td>0.269</td>\n",
       "      <td>0.390335</td>\n",
       "      <td>0.234286</td>\n",
       "      <td>0.350000</td>\n",
       "      <td>-0.401392</td>\n",
       "      <td>0.046447</td>\n",
       "    </tr>\n",
       "    <tr>\n",
       "      <th>3</th>\n",
       "      <td>checkingstatus</td>\n",
       "      <td>A13</td>\n",
       "      <td>63</td>\n",
       "      <td>14</td>\n",
       "      <td>0.063</td>\n",
       "      <td>0.222222</td>\n",
       "      <td>0.070000</td>\n",
       "      <td>0.046667</td>\n",
       "      <td>0.405465</td>\n",
       "      <td>0.009461</td>\n",
       "    </tr>\n",
       "    <tr>\n",
       "      <th>2</th>\n",
       "      <td>checkingstatus</td>\n",
       "      <td>A14</td>\n",
       "      <td>394</td>\n",
       "      <td>46</td>\n",
       "      <td>0.394</td>\n",
       "      <td>0.116751</td>\n",
       "      <td>0.497143</td>\n",
       "      <td>0.153333</td>\n",
       "      <td>1.176263</td>\n",
       "      <td>0.404410</td>\n",
       "    </tr>\n",
       "  </tbody>\n",
       "</table>\n",
       "</div>"
      ],
      "text/plain": [
       "         Variable Value  All  Bad  Share  Bad Rate  Distribution Good  \\\n",
       "0  checkingstatus   A11  274  135  0.274  0.492701           0.198571   \n",
       "1  checkingstatus   A12  269  105  0.269  0.390335           0.234286   \n",
       "3  checkingstatus   A13   63   14  0.063  0.222222           0.070000   \n",
       "2  checkingstatus   A14  394   46  0.394  0.116751           0.497143   \n",
       "\n",
       "   Distribution Bad       WoE        IV  \n",
       "0          0.450000 -0.818099  0.205693  \n",
       "1          0.350000 -0.401392  0.046447  \n",
       "3          0.046667  0.405465  0.009461  \n",
       "2          0.153333  1.176263  0.404410  "
      ]
     },
     "execution_count": 17,
     "metadata": {},
     "output_type": "execute_result"
    }
   ],
   "source": [
    "zen[0]"
   ]
  },
  {
   "cell_type": "code",
   "execution_count": 18,
   "metadata": {},
   "outputs": [
    {
     "data": {
      "text/html": [
       "<div>\n",
       "<style scoped>\n",
       "    .dataframe tbody tr th:only-of-type {\n",
       "        vertical-align: middle;\n",
       "    }\n",
       "\n",
       "    .dataframe tbody tr th {\n",
       "        vertical-align: top;\n",
       "    }\n",
       "\n",
       "    .dataframe thead th {\n",
       "        text-align: right;\n",
       "    }\n",
       "</style>\n",
       "<table border=\"1\" class=\"dataframe\">\n",
       "  <thead>\n",
       "    <tr style=\"text-align: right;\">\n",
       "      <th></th>\n",
       "      <th>segment</th>\n",
       "      <th>N</th>\n",
       "      <th>realised_lgd_mean</th>\n",
       "      <th>pred_lgd_mean</th>\n",
       "      <th>s2</th>\n",
       "      <th>mean_error</th>\n",
       "      <th>t_stat</th>\n",
       "      <th>p_value</th>\n",
       "    </tr>\n",
       "  </thead>\n",
       "  <tbody>\n",
       "    <tr>\n",
       "      <th>0</th>\n",
       "      <td>None</td>\n",
       "      <td>1000</td>\n",
       "      <td>0.49726</td>\n",
       "      <td>0.49357</td>\n",
       "      <td>0.00317</td>\n",
       "      <td>0.00369</td>\n",
       "      <td>2.072427</td>\n",
       "      <td>0.019241</td>\n",
       "    </tr>\n",
       "  </tbody>\n",
       "</table>\n",
       "</div>"
      ],
      "text/plain": [
       "  segment     N  realised_lgd_mean  pred_lgd_mean       s2  mean_error  \\\n",
       "0    None  1000            0.49726        0.49357  0.00317     0.00369   \n",
       "\n",
       "     t_stat   p_value  \n",
       "0  2.072427  0.019241  "
      ]
     },
     "execution_count": 18,
     "metadata": {},
     "output_type": "execute_result"
    }
   ],
   "source": [
    "# LGD t test\n",
    "df = vt.lgd_t_test(lgd_t_test, \n",
    "                                'predicted_lgd', \n",
    "                                'realised_lgd',\n",
    "                                level=\"segment\",\n",
    "                                segment_col='segment'\n",
    "                               ).sort_values(by='segment')\n",
    "df"
   ]
  },
  {
   "cell_type": "code",
   "execution_count": 19,
   "metadata": {},
   "outputs": [
    {
     "data": {
      "text/plain": [
       "0.019240819246654106"
      ]
     },
     "execution_count": 19,
     "metadata": {},
     "output_type": "execute_result"
    }
   ],
   "source": [
    "df['p_value'].sum()"
   ]
  },
  {
   "cell_type": "code",
   "execution_count": 20,
   "metadata": {},
   "outputs": [
    {
     "data": {
      "text/plain": [
       "(0.18376068376068377, 0.1751824817518248)"
      ]
     },
     "execution_count": 20,
     "metadata": {},
     "output_type": "execute_result"
    }
   ],
   "source": [
    "# Migration matrix stats\n",
    "vt.migration_matrices_statistics(pd_transition_matrix, 'period_1_ratings', 'period_2_ratings')"
   ]
  },
  {
   "cell_type": "code",
   "execution_count": 21,
   "metadata": {},
   "outputs": [
    {
     "data": {
      "text/plain": [
       "0.106"
      ]
     },
     "execution_count": 21,
     "metadata": {},
     "output_type": "execute_result"
    }
   ],
   "source": [
    "# Bayesian error rate\n",
    "vt.bayesian_error_rate(test_data_main, \"default_flag\", \"predicted_pd\")"
   ]
  },
  {
   "cell_type": "code",
   "execution_count": 22,
   "metadata": {},
   "outputs": [
    {
     "data": {
      "text/plain": [
       "0.024548595310375846"
      ]
     },
     "execution_count": 22,
     "metadata": {},
     "output_type": "execute_result"
    }
   ],
   "source": [
    "# cier\n",
    "vt.conditional_information_entropy_ratio(pd_calibration, \"realised_pd\", \"count\")"
   ]
  },
  {
   "cell_type": "code",
   "execution_count": 23,
   "metadata": {},
   "outputs": [
    {
     "data": {
      "text/plain": [
       "0.006240325352140225"
      ]
     },
     "execution_count": 23,
     "metadata": {},
     "output_type": "execute_result"
    }
   ],
   "source": [
    "# kullback_leibler_dist\n",
    "vt.kullback_leibler_dist(pd_calibration, \"realised_pd\", \"count\")"
   ]
  },
  {
   "cell_type": "code",
   "execution_count": 24,
   "metadata": {},
   "outputs": [
    {
     "data": {
      "text/plain": [
       "0.0017095099404838"
      ]
     },
     "execution_count": 24,
     "metadata": {},
     "output_type": "execute_result"
    }
   ],
   "source": [
    "# test Gini\n",
    "vt.gini(pd_test_data, \"default_flag\", \"predicted_pd\")"
   ]
  },
  {
   "cell_type": "code",
   "execution_count": 25,
   "metadata": {},
   "outputs": [
    {
     "data": {
      "text/plain": [
       "KstestResult(statistic=0.869, pvalue=0.0)"
      ]
     },
     "execution_count": 25,
     "metadata": {},
     "output_type": "execute_result"
    }
   ],
   "source": [
    "# KS\n",
    "vt.kolmogorov_smirnov_stat(test_data_main, \"default_flag\", \"predicted_pd\")"
   ]
  },
  {
   "cell_type": "code",
   "execution_count": 26,
   "metadata": {},
   "outputs": [],
   "source": [
    "a = vt.kolmogorov_smirnov_stat(test_data_main, \"default_flag\", \"predicted_pd\")"
   ]
  },
  {
   "cell_type": "code",
   "execution_count": 27,
   "metadata": {},
   "outputs": [
    {
     "data": {
      "text/plain": [
       "0.869"
      ]
     },
     "execution_count": 27,
     "metadata": {},
     "output_type": "execute_result"
    }
   ],
   "source": [
    "a[0]"
   ]
  },
  {
   "cell_type": "code",
   "execution_count": 28,
   "metadata": {},
   "outputs": [
    {
     "data": {
      "text/html": [
       "<div>\n",
       "<style scoped>\n",
       "    .dataframe tbody tr th:only-of-type {\n",
       "        vertical-align: middle;\n",
       "    }\n",
       "\n",
       "    .dataframe tbody tr th {\n",
       "        vertical-align: top;\n",
       "    }\n",
       "\n",
       "    .dataframe thead th {\n",
       "        text-align: right;\n",
       "    }\n",
       "</style>\n",
       "<table border=\"1\" class=\"dataframe\">\n",
       "  <thead>\n",
       "    <tr style=\"text-align: right;\">\n",
       "      <th></th>\n",
       "      <th>N_initial</th>\n",
       "      <th>h_initial</th>\n",
       "      <th>N_current</th>\n",
       "      <th>h_current</th>\n",
       "      <th>p_value</th>\n",
       "      <th>reject</th>\n",
       "    </tr>\n",
       "  </thead>\n",
       "  <tbody>\n",
       "    <tr>\n",
       "      <th>B</th>\n",
       "      <td>516</td>\n",
       "      <td>None</td>\n",
       "      <td>494</td>\n",
       "      <td>None</td>\n",
       "      <td>None</td>\n",
       "      <td>None</td>\n",
       "    </tr>\n",
       "    <tr>\n",
       "      <th>A</th>\n",
       "      <td>398</td>\n",
       "      <td>None</td>\n",
       "      <td>406</td>\n",
       "      <td>None</td>\n",
       "      <td>None</td>\n",
       "      <td>None</td>\n",
       "    </tr>\n",
       "    <tr>\n",
       "      <th>C</th>\n",
       "      <td>86</td>\n",
       "      <td>None</td>\n",
       "      <td>100</td>\n",
       "      <td>None</td>\n",
       "      <td>None</td>\n",
       "      <td>None</td>\n",
       "    </tr>\n",
       "    <tr>\n",
       "      <th>total</th>\n",
       "      <td>1000</td>\n",
       "      <td>0.432056</td>\n",
       "      <td>1000</td>\n",
       "      <td>0.418872</td>\n",
       "      <td>0.548078</td>\n",
       "      <td>False</td>\n",
       "    </tr>\n",
       "  </tbody>\n",
       "</table>\n",
       "</div>"
      ],
      "text/plain": [
       "       N_initial h_initial  N_current h_current   p_value reject\n",
       "B            516      None        494      None      None   None\n",
       "A            398      None        406      None      None   None\n",
       "C             86      None        100      None      None   None\n",
       "total       1000  0.432056       1000  0.418872  0.548078  False"
      ]
     },
     "execution_count": 28,
     "metadata": {},
     "output_type": "execute_result"
    }
   ],
   "source": [
    "# Herfhindahl multiple period\n",
    "# vt.herfindahl_multiple_period_test(pd_calibration, \"rating\", \"realised_pd\", \"count\")\n",
    "buckets = ['A', 'B', 'C']\n",
    "ratings1 = random.choices(buckets,  [0.4, 0.5, 0.1], k=1000)\n",
    "test_data1 = pd.DataFrame({'ratings': ratings1})\n",
    "ratings2 = random.choices(buckets,  [0.4, 0.5, 0.1], k=1000)\n",
    "test_data2 = pd.DataFrame({'ratings': ratings2})\n",
    "\n",
    "vt.herfindahl_multiple_period_test(test_data1, test_data2, \"ratings\")\n"
   ]
  },
  {
   "cell_type": "code",
   "execution_count": null,
   "metadata": {},
   "outputs": [],
   "source": []
  },
  {
   "cell_type": "code",
   "execution_count": 29,
   "metadata": {},
   "outputs": [
    {
     "data": {
      "text/plain": [
       "1.0000874459653837"
      ]
     },
     "execution_count": 29,
     "metadata": {},
     "output_type": "execute_result"
    }
   ],
   "source": [
    "# Loss Capture Ratio\n",
    "vt.loss_capture_ratio(lgd_t_test['ead'], lgd_t_test['predicted_lgd'], lgd_t_test['realised_lgd'])"
   ]
  },
  {
   "cell_type": "code",
   "execution_count": 30,
   "metadata": {},
   "outputs": [
    {
     "data": {
      "text/html": [
       "<div>\n",
       "<style scoped>\n",
       "    .dataframe tbody tr th:only-of-type {\n",
       "        vertical-align: middle;\n",
       "    }\n",
       "\n",
       "    .dataframe tbody tr th {\n",
       "        vertical-align: top;\n",
       "    }\n",
       "\n",
       "    .dataframe thead th {\n",
       "        text-align: right;\n",
       "    }\n",
       "</style>\n",
       "<table border=\"1\" class=\"dataframe\">\n",
       "  <thead>\n",
       "    <tr style=\"text-align: right;\">\n",
       "      <th></th>\n",
       "      <th>facility</th>\n",
       "      <th>predicted_lgd</th>\n",
       "      <th>realised_lgd</th>\n",
       "      <th>segment</th>\n",
       "      <th>ead</th>\n",
       "    </tr>\n",
       "  </thead>\n",
       "  <tbody>\n",
       "    <tr>\n",
       "      <th>0</th>\n",
       "      <td>1</td>\n",
       "      <td>0.80</td>\n",
       "      <td>0.83</td>\n",
       "      <td>8</td>\n",
       "      <td>5860</td>\n",
       "    </tr>\n",
       "    <tr>\n",
       "      <th>1</th>\n",
       "      <td>2</td>\n",
       "      <td>0.75</td>\n",
       "      <td>0.81</td>\n",
       "      <td>7</td>\n",
       "      <td>6653</td>\n",
       "    </tr>\n",
       "    <tr>\n",
       "      <th>2</th>\n",
       "      <td>3</td>\n",
       "      <td>0.42</td>\n",
       "      <td>0.45</td>\n",
       "      <td>4</td>\n",
       "      <td>3192</td>\n",
       "    </tr>\n",
       "    <tr>\n",
       "      <th>3</th>\n",
       "      <td>4</td>\n",
       "      <td>0.99</td>\n",
       "      <td>1.00</td>\n",
       "      <td>9</td>\n",
       "      <td>7322</td>\n",
       "    </tr>\n",
       "    <tr>\n",
       "      <th>4</th>\n",
       "      <td>5</td>\n",
       "      <td>0.90</td>\n",
       "      <td>0.86</td>\n",
       "      <td>9</td>\n",
       "      <td>5513</td>\n",
       "    </tr>\n",
       "  </tbody>\n",
       "</table>\n",
       "</div>"
      ],
      "text/plain": [
       "   facility  predicted_lgd  realised_lgd  segment   ead\n",
       "0         1           0.80          0.83        8  5860\n",
       "1         2           0.75          0.81        7  6653\n",
       "2         3           0.42          0.45        4  3192\n",
       "3         4           0.99          1.00        9  7322\n",
       "4         5           0.90          0.86        9  5513"
      ]
     },
     "execution_count": 30,
     "metadata": {},
     "output_type": "execute_result"
    }
   ],
   "source": [
    "lgd_t_test.head()"
   ]
  },
  {
   "cell_type": "code",
   "execution_count": null,
   "metadata": {},
   "outputs": [],
   "source": []
  },
  {
   "cell_type": "code",
   "execution_count": 31,
   "metadata": {},
   "outputs": [
    {
     "data": {
      "text/plain": [
       "3.1999999999999997"
      ]
     },
     "execution_count": 31,
     "metadata": {},
     "output_type": "execute_result"
    }
   ],
   "source": [
    "# CLAR\n",
    "vt.cumulative_lgd_accuracy_ratio(lgd_dataset, 'predicted_outcome', 'realised_outcome')"
   ]
  },
  {
   "cell_type": "code",
   "execution_count": 32,
   "metadata": {},
   "outputs": [
    {
     "name": "stderr",
     "output_type": "stream",
     "text": [
      "C:\\projects\\meliora\\src\\meliora\\core.py:1395: RuntimeWarning: invalid value encountered in double_scalars\n",
      "  z_ij = num / np.sqrt(den_a + den_b + den_c)\n",
      "C:\\projects\\meliora\\src\\meliora\\core.py:1385: RuntimeWarning: invalid value encountered in double_scalars\n",
      "  z_ij = num / np.sqrt(den_a + den_b + den_c)\n"
     ]
    },
    {
     "data": {
      "text/plain": [
       "(period_2_ratings         1         2         3         4         5         6  \\\n",
       " period_1_ratings                                                               \n",
       " 1                      NaN  5.441072 -1.315587  3.585686       NaN       NaN   \n",
       " 2                -1.465656       NaN  0.301985 -0.301985  2.750494       NaN   \n",
       " 3                -2.466006  0.000000       NaN  0.000000  0.635724  2.111195   \n",
       " 4                 0.378968  0.918559 -0.580948       NaN  0.334021  0.000000   \n",
       " 5                 2.905370  0.501531 -1.420463 -0.378625       NaN -2.493813   \n",
       " 6                      NaN  3.877284 -0.448308 -1.799123  1.290339       NaN   \n",
       " 7                      NaN       NaN  3.119251 -1.978141  2.689264 -1.538968   \n",
       " 8                      NaN       NaN       NaN  1.816590  1.562315 -1.562315   \n",
       " \n",
       " period_2_ratings         7         8  \n",
       " period_1_ratings                      \n",
       " 1                      NaN       NaN  \n",
       " 2                      NaN       NaN  \n",
       " 3                      NaN       NaN  \n",
       " 4                 2.166945       NaN  \n",
       " 5                 1.450022  2.651145  \n",
       " 6                 0.913697 -0.913697  \n",
       " 7                      NaN -3.158698  \n",
       " 8                 4.239631       NaN  ,\n",
       " period_2_ratings         1         2         3         4         5         6  \\\n",
       " period_1_ratings                                                               \n",
       " 1                      NaN  1.000000  0.094156  0.999832       NaN       NaN   \n",
       " 2                 0.071371       NaN  0.618668  0.381332  0.997025       NaN   \n",
       " 3                 0.006831  0.500000       NaN  0.500000  0.737522  0.982622   \n",
       " 4                 0.647644  0.820837  0.280638       NaN  0.630818  0.500000   \n",
       " 5                 0.998166  0.692001  0.077736  0.352483       NaN  0.006319   \n",
       " 6                      NaN  0.999947  0.326965  0.036000  0.901534       NaN   \n",
       " 7                      NaN       NaN  0.999093  0.023956  0.996420  0.061906   \n",
       " 8                      NaN       NaN       NaN  0.965360  0.940893  0.059107   \n",
       " \n",
       " period_2_ratings         7         8  \n",
       " period_1_ratings                      \n",
       " 1                      NaN       NaN  \n",
       " 2                      NaN       NaN  \n",
       " 3                      NaN       NaN  \n",
       " 4                 0.984880       NaN  \n",
       " 5                 0.926474  0.995989  \n",
       " 6                 0.819562  0.180438  \n",
       " 7                      NaN  0.000792  \n",
       " 8                 0.999989       NaN  )"
      ]
     },
     "execution_count": 32,
     "metadata": {},
     "output_type": "execute_result"
    }
   ],
   "source": [
    "# Migration Matrix Stability\n",
    "vt.migration_matrix_stability(pd_transition_matrix, 'period_1_ratings', 'period_2_ratings')"
   ]
  },
  {
   "cell_type": "code",
   "execution_count": 33,
   "metadata": {},
   "outputs": [
    {
     "name": "stderr",
     "output_type": "stream",
     "text": [
      "C:\\projects\\meliora\\src\\meliora\\core.py:1395: RuntimeWarning: invalid value encountered in double_scalars\n",
      "  z_ij = num / np.sqrt(den_a + den_b + den_c)\n",
      "C:\\projects\\meliora\\src\\meliora\\core.py:1385: RuntimeWarning: invalid value encountered in double_scalars\n",
      "  z_ij = num / np.sqrt(den_a + den_b + den_c)\n"
     ]
    }
   ],
   "source": [
    "q = vt.migration_matrix_stability(pd_transition_matrix, 'period_1_ratings', 'period_2_ratings')"
   ]
  },
  {
   "cell_type": "code",
   "execution_count": 34,
   "metadata": {},
   "outputs": [
    {
     "data": {
      "text/plain": [
       "23.81875738112634"
      ]
     },
     "execution_count": 34,
     "metadata": {},
     "output_type": "execute_result"
    }
   ],
   "source": [
    "q[0].sum().sum()"
   ]
  },
  {
   "cell_type": "code",
   "execution_count": 35,
   "metadata": {},
   "outputs": [
    {
     "data": {
      "text/plain": [
       "23.11530838816691"
      ]
     },
     "execution_count": 35,
     "metadata": {},
     "output_type": "execute_result"
    }
   ],
   "source": [
    "q[1].sum().sum()"
   ]
  },
  {
   "cell_type": "code",
   "execution_count": 36,
   "metadata": {},
   "outputs": [
    {
     "data": {
      "text/plain": [
       "SpearmanrResult(correlation=0.8207826816681233, pvalue=0.08858700531354381)"
      ]
     },
     "execution_count": 36,
     "metadata": {},
     "output_type": "execute_result"
    }
   ],
   "source": [
    "# Pearson correlation\n",
    "x = [1,2,3,4,5]\n",
    "y = [5,6,7,8,7]\n",
    "vt.pearson_correlation(x, y)"
   ]
  },
  {
   "cell_type": "code",
   "execution_count": 37,
   "metadata": {},
   "outputs": [
    {
     "data": {
      "text/html": [
       "<div>\n",
       "<style scoped>\n",
       "    .dataframe tbody tr th:only-of-type {\n",
       "        vertical-align: middle;\n",
       "    }\n",
       "\n",
       "    .dataframe tbody tr th {\n",
       "        vertical-align: top;\n",
       "    }\n",
       "\n",
       "    .dataframe thead th {\n",
       "        text-align: right;\n",
       "    }\n",
       "</style>\n",
       "<table border=\"1\" class=\"dataframe\">\n",
       "  <thead>\n",
       "    <tr style=\"text-align: right;\">\n",
       "      <th></th>\n",
       "      <th>facilities</th>\n",
       "      <th>lgd_mean</th>\n",
       "      <th>t_stat</th>\n",
       "      <th>p_value</th>\n",
       "    </tr>\n",
       "  </thead>\n",
       "  <tbody>\n",
       "    <tr>\n",
       "      <th>0</th>\n",
       "      <td>1000</td>\n",
       "      <td>0.49357</td>\n",
       "      <td>2.072427</td>\n",
       "      <td>0.038482</td>\n",
       "    </tr>\n",
       "  </tbody>\n",
       "</table>\n",
       "</div>"
      ],
      "text/plain": [
       "   facilities  lgd_mean    t_stat   p_value\n",
       "0        1000   0.49357  2.072427  0.038482"
      ]
     },
     "execution_count": 37,
     "metadata": {},
     "output_type": "execute_result"
    }
   ],
   "source": [
    "# ELBE t test\n",
    "vt.elbe_t_test(lgd_t_test, \"predicted_lgd\", \"realised_lgd\")"
   ]
  },
  {
   "cell_type": "code",
   "execution_count": 38,
   "metadata": {},
   "outputs": [
    {
     "data": {
      "text/plain": [
       "-0.008480989922580617"
      ]
     },
     "execution_count": 38,
     "metadata": {},
     "output_type": "execute_result"
    }
   ],
   "source": [
    "# Loss Shortfall\n",
    "vt.loss_shortfall(lgd_t_test, \"ead\", \"predicted_lgd\", \"realised_lgd\")"
   ]
  },
  {
   "cell_type": "code",
   "execution_count": 39,
   "metadata": {},
   "outputs": [
    {
     "data": {
      "text/plain": [
       "6999.929781818181"
      ]
     },
     "execution_count": 39,
     "metadata": {},
     "output_type": "execute_result"
    }
   ],
   "source": [
    "# Mean Absolute Deviation\n",
    "vt.mean_absolute_deviation(pd_calibration, \"rating\", \"realised_pd\", \"count\")"
   ]
  },
  {
   "cell_type": "code",
   "execution_count": 40,
   "metadata": {},
   "outputs": [
    {
     "data": {
      "text/html": [
       "<div>\n",
       "<style scoped>\n",
       "    .dataframe tbody tr th:only-of-type {\n",
       "        vertical-align: middle;\n",
       "    }\n",
       "\n",
       "    .dataframe tbody tr th {\n",
       "        vertical-align: top;\n",
       "    }\n",
       "\n",
       "    .dataframe thead th {\n",
       "        text-align: right;\n",
       "    }\n",
       "</style>\n",
       "<table border=\"1\" class=\"dataframe\">\n",
       "  <thead>\n",
       "    <tr style=\"text-align: right;\">\n",
       "      <th></th>\n",
       "      <th>estimate</th>\n",
       "      <th>t_stat</th>\n",
       "      <th>p_value</th>\n",
       "      <th>outcome</th>\n",
       "    </tr>\n",
       "  </thead>\n",
       "  <tbody>\n",
       "    <tr>\n",
       "      <th>0</th>\n",
       "      <td>0.001</td>\n",
       "      <td>0.015093</td>\n",
       "      <td>0.505873</td>\n",
       "      <td>NaN</td>\n",
       "    </tr>\n",
       "  </tbody>\n",
       "</table>\n",
       "</div>"
      ],
      "text/plain": [
       "   estimate    t_stat   p_value  outcome\n",
       "0     0.001  0.015093  0.505873      NaN"
      ]
     },
     "execution_count": 40,
     "metadata": {},
     "output_type": "execute_result"
    }
   ],
   "source": [
    "# Normal test\n",
    "vt.normal_test(pd_calibration['predicted_pd'], pd_calibration['realised_pd'])"
   ]
  },
  {
   "cell_type": "code",
   "execution_count": 41,
   "metadata": {},
   "outputs": [],
   "source": [
    "q = vt.normal_test(pd_calibration['predicted_pd'], pd_calibration['realised_pd'])\n"
   ]
  },
  {
   "cell_type": "code",
   "execution_count": null,
   "metadata": {},
   "outputs": [],
   "source": []
  },
  {
   "cell_type": "markdown",
   "metadata": {},
   "source": [
    "#### Relevant links\n",
    "- https://machinelearningmastery.com/divergence-between-probability-distributions/\n",
    "- https://medium.com/@monadsblog/the-kullback-leibler-divergence-5071c707a4a6\n",
    "- https://documentation.sas.com/doc/en/pgmsascdc/v_011/statug/statug_code_logiex19.htm"
   ]
  }
 ],
 "metadata": {
  "kernelspec": {
   "display_name": "Python 3 (ipykernel)",
   "language": "python",
   "name": "python3"
  },
  "language_info": {
   "codemirror_mode": {
    "name": "ipython",
    "version": 3
   },
   "file_extension": ".py",
   "mimetype": "text/x-python",
   "name": "python",
   "nbconvert_exporter": "python",
   "pygments_lexer": "ipython3",
   "version": "3.9.7"
  },
  "vscode": {
   "interpreter": {
    "hash": "eabca979b0553fa6d87e9a00c352604d3b703d4afc9641643dd42376492b80f6"
   }
  }
 },
 "nbformat": 4,
 "nbformat_minor": 4
}
