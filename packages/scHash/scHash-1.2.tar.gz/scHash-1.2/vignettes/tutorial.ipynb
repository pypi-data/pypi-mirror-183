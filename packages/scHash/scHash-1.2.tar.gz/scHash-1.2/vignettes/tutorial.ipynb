{
 "cells": [
  {
   "cell_type": "code",
   "execution_count": 1,
   "id": "043268a0-8b52-4b28-81f7-7faee4a63029",
   "metadata": {},
   "outputs": [],
   "source": [
    "import scHash\n",
    "import anndata as ad"
   ]
  },
  {
   "cell_type": "markdown",
   "id": "6c97c2dc-b012-4eeb-a949-e00cf361a16d",
   "metadata": {},
   "source": [
    "## Pancreas Dataset\n",
    "We demonstrate how scHash encodes multiple datasets into hash codes for six publicly available Pancreas datasets.\n",
    "\n",
    "The raw data for the first five datasets can be obtained from [Harmony](https://github.com/immunogenomics/harmony2019/tree/master/data/figure5).\n",
    "\n",
    "The sixth Pancreas dataset is from [(Wang et al., 2016)](https://diabetesjournals.org/diabetes/article/65/10/3028/34922/Single-Cell-Transcriptomics-of-the-Human-Endocrine) is publicly available at [GSE83139](https://www.ncbi.nlm.nih.gov/geo/query/acc.cgi?acc=GSE83139).\n",
    "\n",
    "We compiled the six datasets into one AnnData object for easy demonstration. The processed data can be downloaded [here](https://drive.google.com/file/d/1shc4OYIbq2FwbyGUaYuzizuvzW-giSTs/view?usp=share_link)."
   ]
  },
  {
   "cell_type": "code",
   "execution_count": 3,
   "id": "317a0be4-3a6d-4cec-9038-573aa886e17e",
   "metadata": {},
   "outputs": [
    {
     "name": "stderr",
     "output_type": "stream",
     "text": [
      "GPU available: True, used: True\n",
      "TPU available: False, using: 0 TPU cores\n",
      "IPU available: False, using: 0 IPUs\n",
      "HPU available: False, using: 0 HPUs\n",
      "LOCAL_RANK: 0 - CUDA_VISIBLE_DEVICES: [0]\n",
      "\n",
      "  | Name       | Type       | Params\n",
      "------------------------------------------\n",
      "0 | hash_layer | Sequential | 641 K \n",
      "------------------------------------------\n",
      "641 K     Trainable params\n",
      "0         Non-trainable params\n",
      "641 K     Total params\n",
      "2.567     Total estimated model params size (MB)\n",
      "Epoch 9, global step 9: 'Val_F1_score_median_CHC_epoch' reached 0.93064 (best 0.93064), saving model to '/project/6061845/shaoc/checkpoint/scHash-epoch=09-Val_F1_score_median_CHC_epoch=0.931.ckpt' as top 1\n",
      "Epoch 19, global step 19: 'Val_F1_score_median_CHC_epoch' reached 0.95844 (best 0.95844), saving model to '/project/6061845/shaoc/checkpoint/scHash-epoch=19-Val_F1_score_median_CHC_epoch=0.958.ckpt' as top 1\n",
      "Epoch 29, global step 29: 'Val_F1_score_median_CHC_epoch' reached 0.96209 (best 0.96209), saving model to '/project/6061845/shaoc/checkpoint/scHash-epoch=29-Val_F1_score_median_CHC_epoch=0.962.ckpt' as top 1\n",
      "Epoch 39, global step 39: 'Val_F1_score_median_CHC_epoch' reached 0.96588 (best 0.96588), saving model to '/project/6061845/shaoc/checkpoint/scHash-epoch=39-Val_F1_score_median_CHC_epoch=0.966.ckpt' as top 1\n",
      "Epoch 49, global step 49: 'Val_F1_score_median_CHC_epoch' was not in top 1\n"
     ]
    },
    {
     "name": "stdout",
     "output_type": "stream",
     "text": [
      "Epoch: 49, Val_loss_epoch: 0.03\n"
     ]
    },
    {
     "name": "stderr",
     "output_type": "stream",
     "text": [
      "LOCAL_RANK: 0 - CUDA_VISIBLE_DEVICES: [0]\n"
     ]
    },
    {
     "data": {
      "text/html": [
       "<pre style=\"white-space:pre;overflow-x:auto;line-height:normal;font-family:Menlo,'DejaVu Sans Mono',consolas,'Courier New',monospace\">┏━━━━━━━━━━━━━━━━━━━━━━━━━━━┳━━━━━━━━━━━━━━━━━━━━━━━━━━━┓\n",
       "┃<span style=\"font-weight: bold\">        Test metric        </span>┃<span style=\"font-weight: bold\">       DataLoader 0        </span>┃\n",
       "┡━━━━━━━━━━━━━━━━━━━━━━━━━━━╇━━━━━━━━━━━━━━━━━━━━━━━━━━━┩\n",
       "│<span style=\"color: #008080; text-decoration-color: #008080\">          Test_F1          </span>│<span style=\"color: #800080; text-decoration-color: #800080\">    0.8989043247363669     </span>│\n",
       "│<span style=\"color: #008080; text-decoration-color: #008080\">      Test_F1_Median       </span>│<span style=\"color: #800080; text-decoration-color: #800080\">    0.7740384615384615     </span>│\n",
       "│<span style=\"color: #008080; text-decoration-color: #008080\">       Test_accuracy       </span>│<span style=\"color: #800080; text-decoration-color: #800080\">    0.8774617314338684     </span>│\n",
       "│<span style=\"color: #008080; text-decoration-color: #008080\">   Test_cell_assign_time   </span>│<span style=\"color: #800080; text-decoration-color: #800080\">   0.013381242752075195    </span>│\n",
       "│<span style=\"color: #008080; text-decoration-color: #008080\">     Test_hashing_time     </span>│<span style=\"color: #800080; text-decoration-color: #800080\">    0.5511720180511475     </span>│\n",
       "│<span style=\"color: #008080; text-decoration-color: #008080\">      Test_precision       </span>│<span style=\"color: #800080; text-decoration-color: #800080\">    0.9242582455953655     </span>│\n",
       "│<span style=\"color: #008080; text-decoration-color: #008080\">      Test_query_time      </span>│<span style=\"color: #800080; text-decoration-color: #800080\">    0.5645532608032227     </span>│\n",
       "│<span style=\"color: #008080; text-decoration-color: #008080\">        Test_recall        </span>│<span style=\"color: #800080; text-decoration-color: #800080\">    0.8774617067833698     </span>│\n",
       "└───────────────────────────┴───────────────────────────┘\n",
       "</pre>\n"
      ],
      "text/plain": [
       "┏━━━━━━━━━━━━━━━━━━━━━━━━━━━┳━━━━━━━━━━━━━━━━━━━━━━━━━━━┓\n",
       "┃\u001b[1m \u001b[0m\u001b[1m       Test metric       \u001b[0m\u001b[1m \u001b[0m┃\u001b[1m \u001b[0m\u001b[1m      DataLoader 0       \u001b[0m\u001b[1m \u001b[0m┃\n",
       "┡━━━━━━━━━━━━━━━━━━━━━━━━━━━╇━━━━━━━━━━━━━━━━━━━━━━━━━━━┩\n",
       "│\u001b[36m \u001b[0m\u001b[36m         Test_F1         \u001b[0m\u001b[36m \u001b[0m│\u001b[35m \u001b[0m\u001b[35m   0.8989043247363669    \u001b[0m\u001b[35m \u001b[0m│\n",
       "│\u001b[36m \u001b[0m\u001b[36m     Test_F1_Median      \u001b[0m\u001b[36m \u001b[0m│\u001b[35m \u001b[0m\u001b[35m   0.7740384615384615    \u001b[0m\u001b[35m \u001b[0m│\n",
       "│\u001b[36m \u001b[0m\u001b[36m      Test_accuracy      \u001b[0m\u001b[36m \u001b[0m│\u001b[35m \u001b[0m\u001b[35m   0.8774617314338684    \u001b[0m\u001b[35m \u001b[0m│\n",
       "│\u001b[36m \u001b[0m\u001b[36m  Test_cell_assign_time  \u001b[0m\u001b[36m \u001b[0m│\u001b[35m \u001b[0m\u001b[35m  0.013381242752075195   \u001b[0m\u001b[35m \u001b[0m│\n",
       "│\u001b[36m \u001b[0m\u001b[36m    Test_hashing_time    \u001b[0m\u001b[36m \u001b[0m│\u001b[35m \u001b[0m\u001b[35m   0.5511720180511475    \u001b[0m\u001b[35m \u001b[0m│\n",
       "│\u001b[36m \u001b[0m\u001b[36m     Test_precision      \u001b[0m\u001b[36m \u001b[0m│\u001b[35m \u001b[0m\u001b[35m   0.9242582455953655    \u001b[0m\u001b[35m \u001b[0m│\n",
       "│\u001b[36m \u001b[0m\u001b[36m     Test_query_time     \u001b[0m\u001b[36m \u001b[0m│\u001b[35m \u001b[0m\u001b[35m   0.5645532608032227    \u001b[0m\u001b[35m \u001b[0m│\n",
       "│\u001b[36m \u001b[0m\u001b[36m       Test_recall       \u001b[0m\u001b[36m \u001b[0m│\u001b[35m \u001b[0m\u001b[35m   0.8774617067833698    \u001b[0m\u001b[35m \u001b[0m│\n",
       "└───────────────────────────┴───────────────────────────┘\n"
      ]
     },
     "metadata": {},
     "output_type": "display_data"
    }
   ],
   "source": [
    "data_dir = '../../share_data/Pancreas_Wang/fivepancreas_wang_raw.h5ad'\n",
    "\n",
    "# set up datamodule\n",
    "# This anndata object is packed with 6 pancreas dataset. We take one of them to be a test dataset here.  \n",
    "query = 'wang'\n",
    "full = ad.read_h5ad(data_dir)\n",
    "train = full[full.obs.dataset!=query]\n",
    "test = full[full.obs.dataset==query]\n",
    "\n",
    "datamodule = scHash.util.setup_training_data(train_data = train,cell_type_key = 'cell_type', batch_key = 'dataset')\n",
    "\n",
    "# set the query data\n",
    "# this can be also set after train\n",
    "datamodule.setup_test_data(test)\n",
    "\n",
    "########### consider write into a function again\n",
    "# Init ModelCheckpoint callback\n",
    "checkpointPath = '../checkpoint/'\n",
    "\n",
    "# Init the model and Train\n",
    "model = scHash.scHashModel(datamodule)\n",
    "trainer, best_model_path = scHash.util.training(model = model, datamodule = datamodule, checkpointPath = checkpointPath, max_epochs = 50)\n",
    "\n",
    "# Test the best model\n",
    "scHash.util.testing(trainer, model, best_model_path, datamodule)"
   ]
  },
  {
   "cell_type": "markdown",
   "id": "0b7dc17a-3125-434d-bf72-7aca40588d2e",
   "metadata": {},
   "source": [
    "# Atlas Dataset\n",
    "\n",
    "Here is an demonstration on atlas level dataset. We demonstrate the the atlas level annotation with the dataset Tabula Senis Muris and it can be download here https://figshare.com/projects/Tabula_Muris_Senis/64982. We followed scArches' preprocess pipeline and the preprocessed data can be downloaded through https://drive.google.com/file/d/1lfDu-TGsUvHrmXoSWkj0tptvWNYFgs2x/view?usp=share_link. The dataset contains 356213 cells with 5000 highly variable genes with cell type, method, and tissue annotations. \n",
    "\n",
    "The steps aredata the same for atlas level datasets."
   ]
  },
  {
   "cell_type": "code",
   "execution_count": null,
   "id": "e5f2c91a-8c47-442f-a888-a796c4c0e766",
   "metadata": {},
   "outputs": [],
   "source": [
    "data_dir = '../../share_data/Tabula_Muris_Senis(TM)/tabula_senis_normalized_all_hvg.h5ad'\n",
    "\n",
    "# This data contains both the reference and query source\n",
    "data = ad.read_h5ad(data_dir)\n",
    "\n",
    "# random split to get query indices\n",
    "# import random \n",
    "from sklearn.model_selection import train_test_split\n",
    "reference_indicies, query_indicies = train_test_split(list(range(data.shape[0])), train_size=0.8, stratify=data.obs.cell_ontology_class,random_state=42)\n",
    "\n",
    "train = data[reference_indicies]\n",
    "test = data[query_indicies]\n",
    "datamodule = scHash.util.setup_training_data(train_data = train,cell_type_key = 'cell_ontology_class')\n",
    "\n",
    "# set the query data\n",
    "# this can be also set after train\n",
    "datamodule.setup_test_data(test)\n",
    "\n",
    "########### consider write into a function again\n",
    "# Init ModelCheckpoint callback\n",
    "checkpointPath = '../checkpoint/'\n",
    "\n",
    "# Init the model and Train\n",
    "model = scHash.scHashModel(datamodule, bit = 128)\n",
    "trainer, best_model_path = scHash.util.training(model = model, datamodule = datamodule, checkpointPath = checkpointPath, max_epochs = 100)\n",
    "\n",
    "# Test the best model\n",
    "scHash.util.testing(trainer, model, best_model_path, datamodule)"
   ]
  }
 ],
 "metadata": {
  "kernelspec": {
   "display_name": "Python 3.8.7 64-bit",
   "language": "python",
   "name": "python3"
  },
  "language_info": {
   "codemirror_mode": {
    "name": "ipython",
    "version": 3
   },
   "file_extension": ".py",
   "mimetype": "text/x-python",
   "name": "python",
   "nbconvert_exporter": "python",
   "pygments_lexer": "ipython3",
   "version": "3.8.7"
  },
  "vscode": {
   "interpreter": {
    "hash": "aee8b7b246df8f9039afb4144a1f6fd8d2ca17a180786b69acc140d282b71a49"
   }
  },
  "widgets": {
   "application/vnd.jupyter.widget-state+json": {
    "state": {},
    "version_major": 2,
    "version_minor": 0
   }
  }
 },
 "nbformat": 4,
 "nbformat_minor": 5
}
