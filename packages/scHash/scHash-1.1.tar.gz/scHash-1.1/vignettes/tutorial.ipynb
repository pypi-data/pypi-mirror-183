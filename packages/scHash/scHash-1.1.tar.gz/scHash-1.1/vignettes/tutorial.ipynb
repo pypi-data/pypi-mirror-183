{
 "cells": [
  {
   "cell_type": "code",
   "execution_count": 1,
   "id": "fbf29998-bb23-4dfe-a14e-3496f89f24aa",
   "metadata": {},
   "outputs": [],
   "source": [
    "from scHash import *\n",
    "from util import *\n",
    "from dataModule import *\n",
    "import anndata as ad"
   ]
  },
  {
   "cell_type": "markdown",
   "id": "0eed938d-e37b-4f60-9352-a0b282c4ca02",
   "metadata": {},
   "source": [
    "# Pancreas Dataset\n",
    "\n",
    "We demonstrate how scHash encode multiple datasets into hash codes for six public avaialble Pancreas datasets.\n",
    "\n",
    "The raw data for first five datasets can be obtained from Harmony https://github.com/immunogenomics/harmony2019/tree/master/data/figure5\n",
    "\n",
    "The sixth Pancreas dataset is public available at GSE83139.\n",
    "\n",
    "We compiled the six datasets into one AnnData object for easy demonstration. The processed data can be downloaded hereh."
   ]
  },
  {
   "cell_type": "code",
   "execution_count": 6,
   "id": "317a0be4-3a6d-4cec-9038-573aa886e17e",
   "metadata": {},
   "outputs": [
    {
     "name": "stderr",
     "output_type": "stream",
     "text": [
      "GPU available: True, used: True\n",
      "TPU available: False, using: 0 TPU cores\n",
      "IPU available: False, using: 0 IPUs\n",
      "HPU available: False, using: 0 HPUs\n"
     ]
    },
    {
     "name": "stdout",
     "output_type": "stream",
     "text": [
      "Number of Feature:  1000\n",
      "hparam: l_r = 1.2e-05, lambda = 0.001, beta = 0.9999\n"
     ]
    },
    {
     "name": "stderr",
     "output_type": "stream",
     "text": [
      "LOCAL_RANK: 0 - CUDA_VISIBLE_DEVICES: [0]\n",
      "\n",
      "  | Name       | Type       | Params\n",
      "------------------------------------------\n",
      "0 | hash_layer | Sequential | 641 K \n",
      "------------------------------------------\n",
      "641 K     Trainable params\n",
      "0         Non-trainable params\n",
      "641 K     Total params\n",
      "2.567     Total estimated model params size (MB)\n"
     ]
    },
    {
     "data": {
      "application/json": {
       "ascii": false,
       "bar_format": null,
       "colour": null,
       "elapsed": 0.025841712951660156,
       "initial": 0,
       "n": 0,
       "ncols": 80,
       "nrows": 25,
       "postfix": null,
       "prefix": "Sanity Checking",
       "rate": null,
       "total": null,
       "unit": "it",
       "unit_divisor": 1000,
       "unit_scale": false
      },
      "application/vnd.jupyter.widget-view+json": {
       "model_id": "1e640e3ae44e421ebab19b0e5972b0e9",
       "version_major": 2,
       "version_minor": 0
      },
      "text/plain": [
       "Sanity Checking: 0it [00:00, ?it/s]"
      ]
     },
     "metadata": {},
     "output_type": "display_data"
    },
    {
     "data": {
      "application/json": {
       "ascii": false,
       "bar_format": null,
       "colour": null,
       "elapsed": 0.04832029342651367,
       "initial": 0,
       "n": 0,
       "ncols": 80,
       "nrows": 25,
       "postfix": null,
       "prefix": "Training",
       "rate": null,
       "total": null,
       "unit": "it",
       "unit_divisor": 1000,
       "unit_scale": false
      },
      "application/vnd.jupyter.widget-view+json": {
       "model_id": "f634bebea1494685add2078bea354c96",
       "version_major": 2,
       "version_minor": 0
      },
      "text/plain": [
       "Training: 0it [00:00, ?it/s]"
      ]
     },
     "metadata": {},
     "output_type": "display_data"
    },
    {
     "data": {
      "application/json": {
       "ascii": false,
       "bar_format": null,
       "colour": null,
       "elapsed": 0.04993009567260742,
       "initial": 0,
       "n": 0,
       "ncols": 80,
       "nrows": 25,
       "postfix": null,
       "prefix": "Validation",
       "rate": null,
       "total": null,
       "unit": "it",
       "unit_divisor": 1000,
       "unit_scale": false
      },
      "application/vnd.jupyter.widget-view+json": {
       "model_id": "e5f1973c628c4d458b894dc9abf24008",
       "version_major": 2,
       "version_minor": 0
      },
      "text/plain": [
       "Validation: 0it [00:00, ?it/s]"
      ]
     },
     "metadata": {},
     "output_type": "display_data"
    },
    {
     "name": "stderr",
     "output_type": "stream",
     "text": [
      "Epoch 9, global step 9: 'Val_F1_score_median_CHC_epoch' reached 0.00000 (best 0.00000), saving model to '/project/6061845/shaoc/scDeepHash1/checkpoint/scHash-epoch=09-Val_F1_score_median_CHC_epoch=0.000.ckpt' as top 1\n"
     ]
    },
    {
     "name": "stdout",
     "output_type": "stream",
     "text": [
      "Epoch: 9, Val_loss_epoch: 0.04\n",
      "val_F1_score_median_CHC:0.000,                     val_labeling_accuracy_CHC:0.255,                    val_F1_score_weighted_average_CHC:0.124,                    val_F1_score_per_class_CHC:['0.000', '0.429', '0.000', '0.000', '0.000', '0.000', '0.000', '0.000', '0.000', '0.035', '0.000', '0.000'],                     val_precision:0.082,                     val_recall:0.255,                     train_F1_score_median_CHC: 0.000\n"
     ]
    },
    {
     "data": {
      "application/json": {
       "ascii": false,
       "bar_format": null,
       "colour": null,
       "elapsed": 0.05024886131286621,
       "initial": 0,
       "n": 0,
       "ncols": 80,
       "nrows": 25,
       "postfix": null,
       "prefix": "Validation",
       "rate": null,
       "total": null,
       "unit": "it",
       "unit_divisor": 1000,
       "unit_scale": false
      },
      "application/vnd.jupyter.widget-view+json": {
       "model_id": "c1c2095852744840a05a93ea6f9ad0db",
       "version_major": 2,
       "version_minor": 0
      },
      "text/plain": [
       "Validation: 0it [00:00, ?it/s]"
      ]
     },
     "metadata": {},
     "output_type": "display_data"
    },
    {
     "name": "stderr",
     "output_type": "stream",
     "text": [
      "Epoch 19, global step 19: 'Val_F1_score_median_CHC_epoch' was not in top 1\n"
     ]
    },
    {
     "name": "stdout",
     "output_type": "stream",
     "text": [
      "Epoch: 19, Val_loss_epoch: 0.04\n",
      "val_F1_score_median_CHC:0.000,                     val_labeling_accuracy_CHC:0.259,                    val_F1_score_weighted_average_CHC:0.132,                    val_F1_score_per_class_CHC:['0.012', '0.428', '0.000', '0.000', '0.048', '0.000', '0.000', '0.000', '0.000', '0.036', '0.000', '0.000'],                     val_precision:0.340,                     val_recall:0.259,                     train_F1_score_median_CHC: 0.000\n"
     ]
    },
    {
     "data": {
      "application/json": {
       "ascii": false,
       "bar_format": null,
       "colour": null,
       "elapsed": 0.05013465881347656,
       "initial": 0,
       "n": 0,
       "ncols": 80,
       "nrows": 25,
       "postfix": null,
       "prefix": "Validation",
       "rate": null,
       "total": null,
       "unit": "it",
       "unit_divisor": 1000,
       "unit_scale": false
      },
      "application/vnd.jupyter.widget-view+json": {
       "model_id": "e188b0cc268245e0a1eb918d733551d0",
       "version_major": 2,
       "version_minor": 0
      },
      "text/plain": [
       "Validation: 0it [00:00, ?it/s]"
      ]
     },
     "metadata": {},
     "output_type": "display_data"
    },
    {
     "name": "stderr",
     "output_type": "stream",
     "text": [
      "Epoch 29, global step 29: 'Val_F1_score_median_CHC_epoch' reached 0.02465 (best 0.02465), saving model to '/project/6061845/shaoc/scDeepHash1/checkpoint/scHash-epoch=29-Val_F1_score_median_CHC_epoch=0.025.ckpt' as top 1\n"
     ]
    },
    {
     "name": "stdout",
     "output_type": "stream",
     "text": [
      "Epoch: 29, Val_loss_epoch: 0.04\n",
      "val_F1_score_median_CHC:0.025,                     val_labeling_accuracy_CHC:0.269,                    val_F1_score_weighted_average_CHC:0.145,                    val_F1_score_per_class_CHC:['0.041', '0.428', '0.009', '0.000', '0.098', '0.000', '0.000', '0.000', '0.091', '0.051', '0.000', '0.118'],                     val_precision:0.594,                     val_recall:0.269,                     train_F1_score_median_CHC: 0.016\n"
     ]
    },
    {
     "data": {
      "application/json": {
       "ascii": false,
       "bar_format": null,
       "colour": null,
       "elapsed": 0.05054426193237305,
       "initial": 0,
       "n": 0,
       "ncols": 80,
       "nrows": 25,
       "postfix": null,
       "prefix": "Validation",
       "rate": null,
       "total": null,
       "unit": "it",
       "unit_divisor": 1000,
       "unit_scale": false
      },
      "application/vnd.jupyter.widget-view+json": {
       "model_id": "79c62e6d370744f6bd7f8c2d94c78f4b",
       "version_major": 2,
       "version_minor": 0
      },
      "text/plain": [
       "Validation: 0it [00:00, ?it/s]"
      ]
     },
     "metadata": {},
     "output_type": "display_data"
    },
    {
     "name": "stderr",
     "output_type": "stream",
     "text": [
      "Epoch 39, global step 39: 'Val_F1_score_median_CHC_epoch' reached 0.03006 (best 0.03006), saving model to '/project/6061845/shaoc/scDeepHash1/checkpoint/scHash-epoch=39-Val_F1_score_median_CHC_epoch=0.030.ckpt' as top 1\n"
     ]
    },
    {
     "name": "stdout",
     "output_type": "stream",
     "text": [
      "Epoch: 39, Val_loss_epoch: 0.04\n",
      "val_F1_score_median_CHC:0.030,                     val_labeling_accuracy_CHC:0.284,                    val_F1_score_weighted_average_CHC:0.162,                    val_F1_score_per_class_CHC:['0.041', '0.439', '0.045', '0.000', '0.122', '0.000', '0.000', '0.000', '0.174', '0.154', '0.000', '0.019'],                     val_precision:0.553,                     val_recall:0.284,                     train_F1_score_median_CHC: 0.048\n"
     ]
    },
    {
     "data": {
      "application/json": {
       "ascii": false,
       "bar_format": null,
       "colour": null,
       "elapsed": 0.04981112480163574,
       "initial": 0,
       "n": 0,
       "ncols": 80,
       "nrows": 25,
       "postfix": null,
       "prefix": "Validation",
       "rate": null,
       "total": null,
       "unit": "it",
       "unit_divisor": 1000,
       "unit_scale": false
      },
      "application/vnd.jupyter.widget-view+json": {
       "model_id": "ec7098873d0b4ecea7e4314b95d2a026",
       "version_major": 2,
       "version_minor": 0
      },
      "text/plain": [
       "Validation: 0it [00:00, ?it/s]"
      ]
     },
     "metadata": {},
     "output_type": "display_data"
    },
    {
     "name": "stderr",
     "output_type": "stream",
     "text": [
      "Epoch 49, global step 49: 'Val_F1_score_median_CHC_epoch' reached 0.05143 (best 0.05143), saving model to '/project/6061845/shaoc/scDeepHash1/checkpoint/scHash-epoch=49-Val_F1_score_median_CHC_epoch=0.051.ckpt' as top 1\n"
     ]
    },
    {
     "name": "stdout",
     "output_type": "stream",
     "text": [
      "Epoch: 49, Val_loss_epoch: 0.04\n",
      "val_F1_score_median_CHC:0.051,                     val_labeling_accuracy_CHC:0.317,                    val_F1_score_weighted_average_CHC:0.208,                    val_F1_score_per_class_CHC:['0.074', '0.454', '0.139', '0.000', '0.197', '0.000', '0.000', '0.024', '0.385', '0.370', '0.000', '0.029'],                     val_precision:0.572,                     val_recall:0.317,                     train_F1_score_median_CHC: 0.090\n"
     ]
    },
    {
     "data": {
      "application/json": {
       "ascii": false,
       "bar_format": null,
       "colour": null,
       "elapsed": 0.05020475387573242,
       "initial": 0,
       "n": 0,
       "ncols": 80,
       "nrows": 25,
       "postfix": null,
       "prefix": "Validation",
       "rate": null,
       "total": null,
       "unit": "it",
       "unit_divisor": 1000,
       "unit_scale": false
      },
      "application/vnd.jupyter.widget-view+json": {
       "model_id": "7b0874fb5b984ea3ae44e731ad7c09db",
       "version_major": 2,
       "version_minor": 0
      },
      "text/plain": [
       "Validation: 0it [00:00, ?it/s]"
      ]
     },
     "metadata": {},
     "output_type": "display_data"
    },
    {
     "name": "stderr",
     "output_type": "stream",
     "text": [
      "Epoch 59, global step 59: 'Val_F1_score_median_CHC_epoch' reached 0.08166 (best 0.08166), saving model to '/project/6061845/shaoc/scDeepHash1/checkpoint/scHash-epoch=59-Val_F1_score_median_CHC_epoch=0.082.ckpt' as top 1\n"
     ]
    },
    {
     "name": "stdout",
     "output_type": "stream",
     "text": [
      "Epoch: 59, Val_loss_epoch: 0.04\n",
      "val_F1_score_median_CHC:0.082,                     val_labeling_accuracy_CHC:0.342,                    val_F1_score_weighted_average_CHC:0.245,                    val_F1_score_per_class_CHC:['0.112', '0.470', '0.200', '0.000', '0.259', '0.000', '0.000', '0.047', '0.514', '0.500', '0.016', '0.051'],                     val_precision:0.526,                     val_recall:0.342,                     train_F1_score_median_CHC: 0.140\n"
     ]
    },
    {
     "data": {
      "application/json": {
       "ascii": false,
       "bar_format": null,
       "colour": null,
       "elapsed": 0.052063941955566406,
       "initial": 0,
       "n": 0,
       "ncols": 80,
       "nrows": 25,
       "postfix": null,
       "prefix": "Validation",
       "rate": null,
       "total": null,
       "unit": "it",
       "unit_divisor": 1000,
       "unit_scale": false
      },
      "application/vnd.jupyter.widget-view+json": {
       "model_id": "e9b4900fbf534fa3ac3f8005bc58daba",
       "version_major": 2,
       "version_minor": 0
      },
      "text/plain": [
       "Validation: 0it [00:00, ?it/s]"
      ]
     },
     "metadata": {},
     "output_type": "display_data"
    },
    {
     "name": "stderr",
     "output_type": "stream",
     "text": [
      "Epoch 69, global step 69: 'Val_F1_score_median_CHC_epoch' was not in top 1\n"
     ]
    },
    {
     "name": "stdout",
     "output_type": "stream",
     "text": [
      "Epoch: 69, Val_loss_epoch: 0.04\n",
      "val_F1_score_median_CHC:0.078,                     val_labeling_accuracy_CHC:0.325,                    val_F1_score_weighted_average_CHC:0.220,                    val_F1_score_per_class_CHC:['0.203', '0.124', '0.450', '0.000', '0.237', '0.000', '0.000', '0.047', '0.091', '0.556', '0.062', '0.065'],                     val_precision:0.662,                     val_recall:0.325,                     train_F1_score_median_CHC: 0.146\n"
     ]
    },
    {
     "data": {
      "application/json": {
       "ascii": false,
       "bar_format": null,
       "colour": null,
       "elapsed": 0.050786733627319336,
       "initial": 0,
       "n": 0,
       "ncols": 80,
       "nrows": 25,
       "postfix": null,
       "prefix": "Validation",
       "rate": null,
       "total": null,
       "unit": "it",
       "unit_divisor": 1000,
       "unit_scale": false
      },
      "application/vnd.jupyter.widget-view+json": {
       "model_id": "6920239b370b4ca18fb5c155567752ef",
       "version_major": 2,
       "version_minor": 0
      },
      "text/plain": [
       "Validation: 0it [00:00, ?it/s]"
      ]
     },
     "metadata": {},
     "output_type": "display_data"
    },
    {
     "name": "stderr",
     "output_type": "stream",
     "text": [
      "Epoch 79, global step 79: 'Val_F1_score_median_CHC_epoch' reached 0.09007 (best 0.09007), saving model to '/project/6061845/shaoc/scDeepHash1/checkpoint/scHash-epoch=79-Val_F1_score_median_CHC_epoch=0.090.ckpt' as top 1\n"
     ]
    },
    {
     "name": "stdout",
     "output_type": "stream",
     "text": [
      "Epoch: 79, Val_loss_epoch: 0.04\n",
      "val_F1_score_median_CHC:0.090,                     val_labeling_accuracy_CHC:0.344,                    val_F1_score_weighted_average_CHC:0.250,                    val_F1_score_per_class_CHC:['0.391', '0.133', '0.455', '0.000', '0.234', '0.000', '0.000', '0.047', '0.000', '0.556', '0.106', '0.074'],                     val_precision:0.668,                     val_recall:0.344,                     train_F1_score_median_CHC: 0.165\n"
     ]
    },
    {
     "data": {
      "application/json": {
       "ascii": false,
       "bar_format": null,
       "colour": null,
       "elapsed": 0.049860477447509766,
       "initial": 0,
       "n": 0,
       "ncols": 80,
       "nrows": 25,
       "postfix": null,
       "prefix": "Validation",
       "rate": null,
       "total": null,
       "unit": "it",
       "unit_divisor": 1000,
       "unit_scale": false
      },
      "application/vnd.jupyter.widget-view+json": {
       "model_id": "34335b178ef3410f93dd48dab6965c8e",
       "version_major": 2,
       "version_minor": 0
      },
      "text/plain": [
       "Validation: 0it [00:00, ?it/s]"
      ]
     },
     "metadata": {},
     "output_type": "display_data"
    },
    {
     "name": "stderr",
     "output_type": "stream",
     "text": [
      "Epoch 89, global step 89: 'Val_F1_score_median_CHC_epoch' reached 0.10182 (best 0.10182), saving model to '/project/6061845/shaoc/scDeepHash1/checkpoint/scHash-epoch=89-Val_F1_score_median_CHC_epoch=0.102.ckpt' as top 1\n"
     ]
    },
    {
     "name": "stdout",
     "output_type": "stream",
     "text": [
      "Epoch: 89, Val_loss_epoch: 0.04\n",
      "val_F1_score_median_CHC:0.102,                     val_labeling_accuracy_CHC:0.377,                    val_F1_score_weighted_average_CHC:0.292,                    val_F1_score_per_class_CHC:['0.644', '0.145', '0.468', '0.000', '0.237', '0.034', '0.000', '0.047', '0.000', '0.556', '0.120', '0.083'],                     val_precision:0.700,                     val_recall:0.377,                     train_F1_score_median_CHC: 0.194\n"
     ]
    },
    {
     "data": {
      "application/json": {
       "ascii": false,
       "bar_format": null,
       "colour": null,
       "elapsed": 0.05050301551818848,
       "initial": 0,
       "n": 0,
       "ncols": 80,
       "nrows": 25,
       "postfix": null,
       "prefix": "Validation",
       "rate": null,
       "total": null,
       "unit": "it",
       "unit_divisor": 1000,
       "unit_scale": false
      },
      "application/vnd.jupyter.widget-view+json": {
       "model_id": "f0d1c8d12f1c4b319e69fa29d2cea35d",
       "version_major": 2,
       "version_minor": 0
      },
      "text/plain": [
       "Validation: 0it [00:00, ?it/s]"
      ]
     },
     "metadata": {},
     "output_type": "display_data"
    },
    {
     "name": "stderr",
     "output_type": "stream",
     "text": [
      "Epoch 99, global step 99: 'Val_F1_score_median_CHC_epoch' reached 0.11347 (best 0.11347), saving model to '/project/6061845/shaoc/scDeepHash1/checkpoint/scHash-epoch=99-Val_F1_score_median_CHC_epoch=0.113.ckpt' as top 1\n"
     ]
    },
    {
     "name": "stdout",
     "output_type": "stream",
     "text": [
      "Epoch: 99, Val_loss_epoch: 0.04\n",
      "val_F1_score_median_CHC:0.113,                     val_labeling_accuracy_CHC:0.413,                    val_F1_score_weighted_average_CHC:0.328,                    val_F1_score_per_class_CHC:['0.828', '0.147', '0.484', '0.000', '0.264', '0.034', '0.000', '0.047', '0.000', '0.588', '0.199', '0.080'],                     val_precision:0.700,                     val_recall:0.413,                     train_F1_score_median_CHC: 0.203\n"
     ]
    },
    {
     "data": {
      "application/json": {
       "ascii": false,
       "bar_format": null,
       "colour": null,
       "elapsed": 0.050101280212402344,
       "initial": 0,
       "n": 0,
       "ncols": 80,
       "nrows": 25,
       "postfix": null,
       "prefix": "Validation",
       "rate": null,
       "total": null,
       "unit": "it",
       "unit_divisor": 1000,
       "unit_scale": false
      },
      "application/vnd.jupyter.widget-view+json": {
       "model_id": "00e42a0c3bea41ce83b2c03671881659",
       "version_major": 2,
       "version_minor": 0
      },
      "text/plain": [
       "Validation: 0it [00:00, ?it/s]"
      ]
     },
     "metadata": {},
     "output_type": "display_data"
    },
    {
     "name": "stderr",
     "output_type": "stream",
     "text": [
      "Epoch 109, global step 109: 'Val_F1_score_median_CHC_epoch' reached 0.11744 (best 0.11744), saving model to '/project/6061845/shaoc/scDeepHash1/checkpoint/scHash-epoch=109-Val_F1_score_median_CHC_epoch=0.117.ckpt' as top 1\n"
     ]
    },
    {
     "name": "stdout",
     "output_type": "stream",
     "text": [
      "Epoch: 109, Val_loss_epoch: 0.04\n",
      "val_F1_score_median_CHC:0.117,                     val_labeling_accuracy_CHC:0.428,                    val_F1_score_weighted_average_CHC:0.343,                    val_F1_score_per_class_CHC:['0.888', '0.152', '0.490', '0.000', '0.284', '0.034', '0.000', '0.070', '0.000', '0.588', '0.211', '0.083'],                     val_precision:0.709,                     val_recall:0.428,                     train_F1_score_median_CHC: 0.211\n"
     ]
    },
    {
     "data": {
      "application/json": {
       "ascii": false,
       "bar_format": null,
       "colour": null,
       "elapsed": 0.0502629280090332,
       "initial": 0,
       "n": 0,
       "ncols": 80,
       "nrows": 25,
       "postfix": null,
       "prefix": "Validation",
       "rate": null,
       "total": null,
       "unit": "it",
       "unit_divisor": 1000,
       "unit_scale": false
      },
      "application/vnd.jupyter.widget-view+json": {
       "model_id": "4c1cb082a7f548e696a4bc06ee64c9c3",
       "version_major": 2,
       "version_minor": 0
      },
      "text/plain": [
       "Validation: 0it [00:00, ?it/s]"
      ]
     },
     "metadata": {},
     "output_type": "display_data"
    },
    {
     "name": "stderr",
     "output_type": "stream",
     "text": [
      "Epoch 119, global step 119: 'Val_F1_score_median_CHC_epoch' reached 0.12191 (best 0.12191), saving model to '/project/6061845/shaoc/scDeepHash1/checkpoint/scHash-epoch=119-Val_F1_score_median_CHC_epoch=0.122.ckpt' as top 1\n"
     ]
    },
    {
     "name": "stdout",
     "output_type": "stream",
     "text": [
      "Epoch: 119, Val_loss_epoch: 0.04\n",
      "val_F1_score_median_CHC:0.122,                     val_labeling_accuracy_CHC:0.444,                    val_F1_score_weighted_average_CHC:0.360,                    val_F1_score_per_class_CHC:['0.931', '0.160', '0.497', '0.000', '0.320', '0.034', '0.000', '0.070', '0.000', '0.588', '0.248', '0.083'],                     val_precision:0.711,                     val_recall:0.444,                     train_F1_score_median_CHC: 0.221\n"
     ]
    },
    {
     "data": {
      "application/json": {
       "ascii": false,
       "bar_format": null,
       "colour": null,
       "elapsed": 0.027662277221679688,
       "initial": 0,
       "n": 0,
       "ncols": 80,
       "nrows": 25,
       "postfix": null,
       "prefix": "Validation",
       "rate": null,
       "total": null,
       "unit": "it",
       "unit_divisor": 1000,
       "unit_scale": false
      },
      "application/vnd.jupyter.widget-view+json": {
       "model_id": "deb8720b181f472e80424d7b2230ea81",
       "version_major": 2,
       "version_minor": 0
      },
      "text/plain": [
       "Validation: 0it [00:00, ?it/s]"
      ]
     },
     "metadata": {},
     "output_type": "display_data"
    },
    {
     "name": "stderr",
     "output_type": "stream",
     "text": [
      "Epoch 129, global step 129: 'Val_F1_score_median_CHC_epoch' reached 0.12305 (best 0.12305), saving model to '/project/6061845/shaoc/scDeepHash1/checkpoint/scHash-epoch=129-Val_F1_score_median_CHC_epoch=0.123.ckpt' as top 1\n"
     ]
    },
    {
     "name": "stdout",
     "output_type": "stream",
     "text": [
      "Epoch: 129, Val_loss_epoch: 0.04\n",
      "val_F1_score_median_CHC:0.123,                     val_labeling_accuracy_CHC:0.453,                    val_F1_score_weighted_average_CHC:0.368,                    val_F1_score_per_class_CHC:['0.954', '0.163', '0.501', '0.000', '0.333', '0.034', '0.000', '0.070', '0.000', '0.588', '0.282', '0.083'],                     val_precision:0.712,                     val_recall:0.453,                     train_F1_score_median_CHC: 0.222\n"
     ]
    },
    {
     "data": {
      "application/json": {
       "ascii": false,
       "bar_format": null,
       "colour": null,
       "elapsed": 0.049689531326293945,
       "initial": 0,
       "n": 0,
       "ncols": 80,
       "nrows": 25,
       "postfix": null,
       "prefix": "Validation",
       "rate": null,
       "total": null,
       "unit": "it",
       "unit_divisor": 1000,
       "unit_scale": false
      },
      "application/vnd.jupyter.widget-view+json": {
       "model_id": "4442cc35b9bf4b28a39e7d8d843266ea",
       "version_major": 2,
       "version_minor": 0
      },
      "text/plain": [
       "Validation: 0it [00:00, ?it/s]"
      ]
     },
     "metadata": {},
     "output_type": "display_data"
    },
    {
     "name": "stderr",
     "output_type": "stream",
     "text": [
      "Epoch 139, global step 139: 'Val_F1_score_median_CHC_epoch' was not in top 1\n"
     ]
    },
    {
     "name": "stdout",
     "output_type": "stream",
     "text": [
      "Epoch: 139, Val_loss_epoch: 0.04\n",
      "val_F1_score_median_CHC:0.123,                     val_labeling_accuracy_CHC:0.460,                    val_F1_score_weighted_average_CHC:0.375,                    val_F1_score_per_class_CHC:['0.967', '0.163', '0.505', '0.000', '0.362', '0.034', '0.000', '0.071', '0.000', '0.500', '0.314', '0.083'],                     val_precision:0.717,                     val_recall:0.460,                     train_F1_score_median_CHC: 0.235\n"
     ]
    },
    {
     "data": {
      "application/json": {
       "ascii": false,
       "bar_format": null,
       "colour": null,
       "elapsed": 0.0494847297668457,
       "initial": 0,
       "n": 0,
       "ncols": 80,
       "nrows": 25,
       "postfix": null,
       "prefix": "Validation",
       "rate": null,
       "total": null,
       "unit": "it",
       "unit_divisor": 1000,
       "unit_scale": false
      },
      "application/vnd.jupyter.widget-view+json": {
       "model_id": "0357639979bc45ac885ff1267346c645",
       "version_major": 2,
       "version_minor": 0
      },
      "text/plain": [
       "Validation: 0it [00:00, ?it/s]"
      ]
     },
     "metadata": {},
     "output_type": "display_data"
    },
    {
     "name": "stderr",
     "output_type": "stream",
     "text": [
      "Epoch 149, global step 149: 'Val_F1_score_median_CHC_epoch' reached 0.12589 (best 0.12589), saving model to '/project/6061845/shaoc/scDeepHash1/checkpoint/scHash-epoch=149-Val_F1_score_median_CHC_epoch=0.126.ckpt' as top 1\n"
     ]
    },
    {
     "name": "stdout",
     "output_type": "stream",
     "text": [
      "Epoch: 149, Val_loss_epoch: 0.04\n",
      "val_F1_score_median_CHC:0.126,                     val_labeling_accuracy_CHC:0.460,                    val_F1_score_weighted_average_CHC:0.375,                    val_F1_score_per_class_CHC:['0.969', '0.165', '0.505', '0.000', '0.358', '0.033', '0.000', '0.071', '0.000', '0.500', '0.303', '0.087'],                     val_precision:0.704,                     val_recall:0.460,                     train_F1_score_median_CHC: 0.252\n"
     ]
    },
    {
     "data": {
      "application/json": {
       "ascii": false,
       "bar_format": null,
       "colour": null,
       "elapsed": 0.04970407485961914,
       "initial": 0,
       "n": 0,
       "ncols": 80,
       "nrows": 25,
       "postfix": null,
       "prefix": "Validation",
       "rate": null,
       "total": null,
       "unit": "it",
       "unit_divisor": 1000,
       "unit_scale": false
      },
      "application/vnd.jupyter.widget-view+json": {
       "model_id": "8752a3d3a0e24e8e87b08a41a20331a4",
       "version_major": 2,
       "version_minor": 0
      },
      "text/plain": [
       "Validation: 0it [00:00, ?it/s]"
      ]
     },
     "metadata": {},
     "output_type": "display_data"
    },
    {
     "name": "stderr",
     "output_type": "stream",
     "text": [
      "Epoch 159, global step 159: 'Val_F1_score_median_CHC_epoch' reached 0.13476 (best 0.13476), saving model to '/project/6061845/shaoc/scDeepHash1/checkpoint/scHash-epoch=159-Val_F1_score_median_CHC_epoch=0.135.ckpt' as top 1\n"
     ]
    },
    {
     "name": "stdout",
     "output_type": "stream",
     "text": [
      "Epoch: 159, Val_loss_epoch: 0.04\n",
      "val_F1_score_median_CHC:0.135,                     val_labeling_accuracy_CHC:0.467,                    val_F1_score_weighted_average_CHC:0.385,                    val_F1_score_per_class_CHC:['0.967', '0.173', '0.510', '0.000', '0.378', '0.097', '0.000', '0.093', '0.000', '0.429', '0.344', '0.087'],                     val_precision:0.693,                     val_recall:0.467,                     train_F1_score_median_CHC: 0.278\n"
     ]
    },
    {
     "data": {
      "application/json": {
       "ascii": false,
       "bar_format": null,
       "colour": null,
       "elapsed": 0.04959368705749512,
       "initial": 0,
       "n": 0,
       "ncols": 80,
       "nrows": 25,
       "postfix": null,
       "prefix": "Validation",
       "rate": null,
       "total": null,
       "unit": "it",
       "unit_divisor": 1000,
       "unit_scale": false
      },
      "application/vnd.jupyter.widget-view+json": {
       "model_id": "982358697651465ab39848428582eca3",
       "version_major": 2,
       "version_minor": 0
      },
      "text/plain": [
       "Validation: 0it [00:00, ?it/s]"
      ]
     },
     "metadata": {},
     "output_type": "display_data"
    },
    {
     "name": "stdout",
     "output_type": "stream",
     "text": [
      "Epoch: 169, Val_loss_epoch: 0.04\n",
      "val_F1_score_median_CHC:0.141,                     val_labeling_accuracy_CHC:0.472,                    val_F1_score_weighted_average_CHC:0.392,                    val_F1_score_per_class_CHC:['0.967', '0.186', '0.513', '0.000', '0.390', '0.097', '0.000', '0.093', '0.000', '0.429', '0.360', '0.091'],                     val_precision:0.694,                     val_recall:0.472,                     train_F1_score_median_CHC: 0.300\n"
     ]
    },
    {
     "name": "stderr",
     "output_type": "stream",
     "text": [
      "Epoch 169, global step 169: 'Val_F1_score_median_CHC_epoch' reached 0.14138 (best 0.14138), saving model to '/project/6061845/shaoc/scDeepHash1/checkpoint/scHash-epoch=169-Val_F1_score_median_CHC_epoch=0.141.ckpt' as top 1\n"
     ]
    },
    {
     "data": {
      "application/json": {
       "ascii": false,
       "bar_format": null,
       "colour": null,
       "elapsed": 0.054578304290771484,
       "initial": 0,
       "n": 0,
       "ncols": 80,
       "nrows": 25,
       "postfix": null,
       "prefix": "Validation",
       "rate": null,
       "total": null,
       "unit": "it",
       "unit_divisor": 1000,
       "unit_scale": false
      },
      "application/vnd.jupyter.widget-view+json": {
       "model_id": "7a5c3e8111854d3496a1f3a492d0e260",
       "version_major": 2,
       "version_minor": 0
      },
      "text/plain": [
       "Validation: 0it [00:00, ?it/s]"
      ]
     },
     "metadata": {},
     "output_type": "display_data"
    },
    {
     "name": "stderr",
     "output_type": "stream",
     "text": [
      "Epoch 179, global step 179: 'Val_F1_score_median_CHC_epoch' reached 0.17633 (best 0.17633), saving model to '/project/6061845/shaoc/scDeepHash1/checkpoint/scHash-epoch=179-Val_F1_score_median_CHC_epoch=0.176.ckpt' as top 1\n"
     ]
    },
    {
     "name": "stdout",
     "output_type": "stream",
     "text": [
      "Epoch: 179, Val_loss_epoch: 0.04\n",
      "val_F1_score_median_CHC:0.176,                     val_labeling_accuracy_CHC:0.473,                    val_F1_score_weighted_average_CHC:0.396,                    val_F1_score_per_class_CHC:['0.966', '0.196', '0.513', '0.000', '0.378', '0.156', '0.000', '0.093', '0.000', '0.462', '0.370', '0.095'],                     val_precision:0.691,                     val_recall:0.473,                     train_F1_score_median_CHC: 0.320\n"
     ]
    },
    {
     "data": {
      "application/json": {
       "ascii": false,
       "bar_format": null,
       "colour": null,
       "elapsed": 0.049809932708740234,
       "initial": 0,
       "n": 0,
       "ncols": 80,
       "nrows": 25,
       "postfix": null,
       "prefix": "Validation",
       "rate": null,
       "total": null,
       "unit": "it",
       "unit_divisor": 1000,
       "unit_scale": false
      },
      "application/vnd.jupyter.widget-view+json": {
       "model_id": "9222efff712242b3a540491c8525c0cd",
       "version_major": 2,
       "version_minor": 0
      },
      "text/plain": [
       "Validation: 0it [00:00, ?it/s]"
      ]
     },
     "metadata": {},
     "output_type": "display_data"
    },
    {
     "name": "stderr",
     "output_type": "stream",
     "text": [
      "Epoch 189, global step 189: 'Val_F1_score_median_CHC_epoch' reached 0.18884 (best 0.18884), saving model to '/project/6061845/shaoc/scDeepHash1/checkpoint/scHash-epoch=189-Val_F1_score_median_CHC_epoch=0.189.ckpt' as top 1\n"
     ]
    },
    {
     "name": "stdout",
     "output_type": "stream",
     "text": [
      "Epoch: 189, Val_loss_epoch: 0.04\n",
      "val_F1_score_median_CHC:0.189,                     val_labeling_accuracy_CHC:0.475,                    val_F1_score_weighted_average_CHC:0.400,                    val_F1_score_per_class_CHC:['0.966', '0.221', '0.514', '0.000', '0.358', '0.156', '0.000', '0.093', '0.000', '0.462', '0.360', '0.095'],                     val_precision:0.688,                     val_recall:0.475,                     train_F1_score_median_CHC: 0.331\n"
     ]
    },
    {
     "data": {
      "application/json": {
       "ascii": false,
       "bar_format": null,
       "colour": null,
       "elapsed": 0.051201820373535156,
       "initial": 0,
       "n": 0,
       "ncols": 80,
       "nrows": 25,
       "postfix": null,
       "prefix": "Validation",
       "rate": null,
       "total": null,
       "unit": "it",
       "unit_divisor": 1000,
       "unit_scale": false
      },
      "application/vnd.jupyter.widget-view+json": {
       "model_id": "cb7f8c06e30a4e30bf29ad55b6d1c019",
       "version_major": 2,
       "version_minor": 0
      },
      "text/plain": [
       "Validation: 0it [00:00, ?it/s]"
      ]
     },
     "metadata": {},
     "output_type": "display_data"
    },
    {
     "name": "stderr",
     "output_type": "stream",
     "text": [
      "Epoch 199, global step 199: 'Val_F1_score_median_CHC_epoch' reached 0.20616 (best 0.20616), saving model to '/project/6061845/shaoc/scDeepHash1/checkpoint/scHash-epoch=199-Val_F1_score_median_CHC_epoch=0.206.ckpt' as top 1\n"
     ]
    },
    {
     "name": "stdout",
     "output_type": "stream",
     "text": [
      "Epoch: 199, Val_loss_epoch: 0.04\n",
      "val_F1_score_median_CHC:0.206,                     val_labeling_accuracy_CHC:0.476,                    val_F1_score_weighted_average_CHC:0.403,                    val_F1_score_per_class_CHC:['0.964', '0.228', '0.514', '0.000', '0.350', '0.185', '0.000', '0.093', '0.000', '0.462', '0.390', '0.105'],                     val_precision:0.690,                     val_recall:0.476,                     train_F1_score_median_CHC: 0.342\n",
      "hparam: l_r = 1.2e-05, lambda = 0.001, beta = 0.9999\n"
     ]
    },
    {
     "name": "stderr",
     "output_type": "stream",
     "text": [
      "LOCAL_RANK: 0 - CUDA_VISIBLE_DEVICES: [0]\n"
     ]
    },
    {
     "data": {
      "application/json": {
       "ascii": false,
       "bar_format": null,
       "colour": null,
       "elapsed": 0.07679319381713867,
       "initial": 0,
       "n": 0,
       "ncols": 80,
       "nrows": 25,
       "postfix": null,
       "prefix": "Testing",
       "rate": null,
       "total": null,
       "unit": "it",
       "unit_divisor": 1000,
       "unit_scale": false
      },
      "application/vnd.jupyter.widget-view+json": {
       "model_id": "24b230cfc8a84c0b816d1c01caa05ec5",
       "version_major": 2,
       "version_minor": 0
      },
      "text/plain": [
       "Testing: 0it [00:00, ?it/s]"
      ]
     },
     "metadata": {},
     "output_type": "display_data"
    },
    {
     "name": "stdout",
     "output_type": "stream",
     "text": [
      "################### compute_result time:  0.8244278430938721\n",
      "################### cell_assign time:  0.05458855628967285\n",
      "################### query time:  0.8790163993835449\n"
     ]
    },
    {
     "data": {
      "text/html": [
       "<pre style=\"white-space:pre;overflow-x:auto;line-height:normal;font-family:Menlo,'DejaVu Sans Mono',consolas,'Courier New',monospace\">┏━━━━━━━━━━━━━━━━━━━━━━━━━━━┳━━━━━━━━━━━━━━━━━━━━━━━━━━━┓\n",
       "┃<span style=\"font-weight: bold\">        Test metric        </span>┃<span style=\"font-weight: bold\">       DataLoader 0        </span>┃\n",
       "┡━━━━━━━━━━━━━━━━━━━━━━━━━━━╇━━━━━━━━━━━━━━━━━━━━━━━━━━━┩\n",
       "│<span style=\"color: #008080; text-decoration-color: #008080\">          Test_F1          </span>│<span style=\"color: #800080; text-decoration-color: #800080\">    0.6214442449078369     </span>│\n",
       "│<span style=\"color: #008080; text-decoration-color: #008080\">      Test_F1_Median       </span>│<span style=\"color: #800080; text-decoration-color: #800080\">    0.45772854596384005    </span>│\n",
       "│<span style=\"color: #008080; text-decoration-color: #008080\">       Test_accuracy       </span>│<span style=\"color: #800080; text-decoration-color: #800080\">    0.5864118933677673     </span>│\n",
       "│<span style=\"color: #008080; text-decoration-color: #008080\">   Test_cell_assign_time   </span>│<span style=\"color: #800080; text-decoration-color: #800080\">    0.05458855628967285    </span>│\n",
       "│<span style=\"color: #008080; text-decoration-color: #008080\">     Test_hashing_time     </span>│<span style=\"color: #800080; text-decoration-color: #800080\">    0.8244278430938721     </span>│\n",
       "│<span style=\"color: #008080; text-decoration-color: #008080\">      Test_precision       </span>│<span style=\"color: #800080; text-decoration-color: #800080\">    0.7585122142303424     </span>│\n",
       "│<span style=\"color: #008080; text-decoration-color: #008080\">      Test_query_time      </span>│<span style=\"color: #800080; text-decoration-color: #800080\">    0.8790163993835449     </span>│\n",
       "│<span style=\"color: #008080; text-decoration-color: #008080\">        Test_recall        </span>│<span style=\"color: #800080; text-decoration-color: #800080\">     0.586411889596603     </span>│\n",
       "└───────────────────────────┴───────────────────────────┘\n",
       "</pre>\n"
      ],
      "text/plain": [
       "┏━━━━━━━━━━━━━━━━━━━━━━━━━━━┳━━━━━━━━━━━━━━━━━━━━━━━━━━━┓\n",
       "┃\u001b[1m \u001b[0m\u001b[1m       Test metric       \u001b[0m\u001b[1m \u001b[0m┃\u001b[1m \u001b[0m\u001b[1m      DataLoader 0       \u001b[0m\u001b[1m \u001b[0m┃\n",
       "┡━━━━━━━━━━━━━━━━━━━━━━━━━━━╇━━━━━━━━━━━━━━━━━━━━━━━━━━━┩\n",
       "│\u001b[36m \u001b[0m\u001b[36m         Test_F1         \u001b[0m\u001b[36m \u001b[0m│\u001b[35m \u001b[0m\u001b[35m   0.6214442449078369    \u001b[0m\u001b[35m \u001b[0m│\n",
       "│\u001b[36m \u001b[0m\u001b[36m     Test_F1_Median      \u001b[0m\u001b[36m \u001b[0m│\u001b[35m \u001b[0m\u001b[35m   0.45772854596384005   \u001b[0m\u001b[35m \u001b[0m│\n",
       "│\u001b[36m \u001b[0m\u001b[36m      Test_accuracy      \u001b[0m\u001b[36m \u001b[0m│\u001b[35m \u001b[0m\u001b[35m   0.5864118933677673    \u001b[0m\u001b[35m \u001b[0m│\n",
       "│\u001b[36m \u001b[0m\u001b[36m  Test_cell_assign_time  \u001b[0m\u001b[36m \u001b[0m│\u001b[35m \u001b[0m\u001b[35m   0.05458855628967285   \u001b[0m\u001b[35m \u001b[0m│\n",
       "│\u001b[36m \u001b[0m\u001b[36m    Test_hashing_time    \u001b[0m\u001b[36m \u001b[0m│\u001b[35m \u001b[0m\u001b[35m   0.8244278430938721    \u001b[0m\u001b[35m \u001b[0m│\n",
       "│\u001b[36m \u001b[0m\u001b[36m     Test_precision      \u001b[0m\u001b[36m \u001b[0m│\u001b[35m \u001b[0m\u001b[35m   0.7585122142303424    \u001b[0m\u001b[35m \u001b[0m│\n",
       "│\u001b[36m \u001b[0m\u001b[36m     Test_query_time     \u001b[0m\u001b[36m \u001b[0m│\u001b[35m \u001b[0m\u001b[35m   0.8790163993835449    \u001b[0m\u001b[35m \u001b[0m│\n",
       "│\u001b[36m \u001b[0m\u001b[36m       Test_recall       \u001b[0m\u001b[36m \u001b[0m│\u001b[35m \u001b[0m\u001b[35m    0.586411889596603    \u001b[0m\u001b[35m \u001b[0m│\n",
       "└───────────────────────────┴───────────────────────────┘\n"
      ]
     },
     "metadata": {},
     "output_type": "display_data"
    },
    {
     "data": {
      "text/plain": [
       "[{'Test_F1': 0.6214442449078369,\n",
       "  'Test_F1_Median': 0.45772854596384005,\n",
       "  'Test_precision': 0.7585122142303424,\n",
       "  'Test_recall': 0.586411889596603,\n",
       "  'Test_hashing_time': 0.8244278430938721,\n",
       "  'Test_cell_assign_time': 0.05458855628967285,\n",
       "  'Test_query_time': 0.8790163993835449,\n",
       "  'Test_accuracy': 0.5864118933677673}]"
      ]
     },
     "execution_count": 6,
     "metadata": {},
     "output_type": "execute_result"
    }
   ],
   "source": [
    "data_dir = '../../../share_data/Pancreas_Wang/fivepancreas_wang_raw.h5ad'\n",
    "\n",
    "# This data contains both the reference and query source\n",
    "data = ad.read_h5ad(data_dir)\n",
    "\n",
    "# Split the reference and query data. We use Muraro(celseq) for query as demonstration. \n",
    "# You could specify your query datasets.\n",
    "train = data[data.obs.dataset != 'smartseq']\n",
    "test = data[data.obs.dataset == 'smartseq']\n",
    "\n",
    "# set up datamodule\n",
    "########## consider write this into one function as setup_data\n",
    "datamodule = Cross_DataModule(train_data = train, cell_type_key='cell_type')\n",
    "datamodule.setup()\n",
    "N_CLASS = datamodule.N_CLASS\n",
    "N_FEATURES = datamodule.N_FEATURES\n",
    "\n",
    "# set the query data\n",
    "# this can be also set after train\n",
    "datamodule.test_data = test\n",
    "\n",
    "\n",
    "########### consider write into a function again\n",
    "# Init ModelCheckpoint callback\n",
    "checkpointPath = '../checkpoint/'\n",
    "\n",
    "# Train\n",
    "checkpoint_callback = ModelCheckpoint(\n",
    "                            monitor='Val_F1_score_median_CHC_epoch',\n",
    "                            dirpath=checkpointPath,\n",
    "                            filename='scHash-{epoch:02d}-{Val_F1_score_median_CHC_epoch:.3f}',\n",
    "                            verbose=True,\n",
    "                            # save_last = True,\n",
    "                            mode='max'\n",
    "                            )\n",
    "early_stopping_callback = EarlyStopping(monitor=\"Val_F1_score_median_CHC_epoch\")\n",
    "start = time.time()\n",
    "trainer = pl.Trainer(max_epochs=200,\n",
    "                    gpus=1,\n",
    "                    check_val_every_n_epoch=10,\n",
    "                    progress_bar_refresh_rate=50,\n",
    "                    callbacks=[checkpoint_callback]\n",
    "                    )\n",
    "print(\"Number of Feature: \", N_FEATURES)\n",
    "model = scHashModel(N_CLASS, N_FEATURES)\n",
    "\n",
    "trainer.fit(model = model, datamodule = datamodule)\n",
    "\n",
    "\n",
    "\n",
    "# Test the best model\n",
    "best_model_path = checkpoint_callback.best_model_path\n",
    "best_model = scHashModel.load_from_checkpoint(best_model_path, n_class=N_CLASS, n_features=N_FEATURES)\n",
    "\n",
    "best_model.eval()\n",
    "\n",
    "start = time.time()\n",
    "trainer.test(model=best_model, datamodule=datamodule)"
   ]
  },
  {
   "cell_type": "code",
   "execution_count": null,
   "id": "e5f2c91a-8c47-442f-a888-a796c4c0e766",
   "metadata": {},
   "outputs": [],
   "source": []
  }
 ],
 "metadata": {
  "kernelspec": {
   "display_name": "jupyter_py3",
   "language": "python",
   "name": "jupyter_py3"
  },
  "language_info": {
   "codemirror_mode": {
    "name": "ipython",
    "version": 3
   },
   "file_extension": ".py",
   "mimetype": "text/x-python",
   "name": "python",
   "nbconvert_exporter": "python",
   "pygments_lexer": "ipython3",
   "version": "3.8.10"
  },
  "widgets": {
   "application/vnd.jupyter.widget-state+json": {
    "state": {},
    "version_major": 2,
    "version_minor": 0
   }
  }
 },
 "nbformat": 4,
 "nbformat_minor": 5
}
