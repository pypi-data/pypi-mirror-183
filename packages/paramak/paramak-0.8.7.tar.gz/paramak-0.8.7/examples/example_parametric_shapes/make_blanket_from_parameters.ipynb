{
 "cells": [
  {
   "cell_type": "code",
   "execution_count": null,
   "metadata": {},
   "outputs": [],
   "source": [
    "import paramak\n",
    "\n",
    "height = 700\n",
    "blanket_rear = 400\n",
    "blanket_front = 300\n",
    "blanket_mid_point = 350\n",
    "\n",
    "blanket = paramak.RotateMixedShape(\n",
    "    rotation_angle=180,\n",
    "    points=[\n",
    "        (blanket_rear, height / 2.0, \"straight\"),\n",
    "        (blanket_rear, -height / 2.0, \"straight\"),\n",
    "        (blanket_front, -height / 2.0, \"spline\"),\n",
    "        (blanket_mid_point, 0, \"spline\"),\n",
    "        (blanket_front, height / 2.0, \"straight\"),\n",
    "    ],\n",
    "    color=(1,0,0),  # red\n",
    "    name='blanket'\n",
    ")\n",
    "\n",
    "blanket.export_stp(filename=\"blanket_from_parameters.stp\")\n",
    "\n",
    "blanket.show()"
   ]
  },
  {
   "cell_type": "code",
   "execution_count": null,
   "metadata": {},
   "outputs": [],
   "source": []
  }
 ],
 "metadata": {
  "kernelspec": {
   "display_name": "Python 3 (ipykernel)",
   "language": "python",
   "name": "python3"
  },
  "language_info": {
   "codemirror_mode": {
    "name": "ipython",
    "version": 3
   },
   "file_extension": ".py",
   "mimetype": "text/x-python",
   "name": "python",
   "nbconvert_exporter": "python",
   "pygments_lexer": "ipython3",
   "version": "3.9.5"
  }
 },
 "nbformat": 4,
 "nbformat_minor": 4
}
