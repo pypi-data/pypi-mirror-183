{
 "cells": [
  {
   "cell_type": "markdown",
   "metadata": {},
   "source": [
    "Creates a stp file and then loads up the stp file and then facets the wires\n",
    "(edges) of the geometry and plots the faceted eges along with the vertices\n",
    "within the stp file."
   ]
  },
  {
   "cell_type": "code",
   "execution_count": null,
   "metadata": {},
   "outputs": [],
   "source": [
    "import paramak\n",
    "\n",
    "\n",
    "\"\"\"Creates an example stp file for plotting html point graphs\"\"\"\n",
    "\n",
    "# this creates a Shape object\n",
    "example_shape = paramak.ExtrudeMixedShape(\n",
    "    distance=1,\n",
    "    points=[\n",
    "        (100, 0, \"straight\"),\n",
    "        (200, 0, \"circle\"),\n",
    "        (250, 50, \"circle\"),\n",
    "        (200, 100, \"straight\"),\n",
    "        (150, 100, \"spline\"),\n",
    "        (140, 75, \"spline\"),\n",
    "        (110, 45, \"spline\"),\n",
    "    ]\n",
    ")\n",
    "\n",
    "# this exports the shape as a html image with a few different view planes\n",
    "example_shape.export_html(\"example_shape_RZ.html\")\n",
    "example_shape.export_html(\"example_shape_XYZ.html\", view_plane='XYZ')\n",
    "example_shape.export_html(\"example_shape_XZ.html\", view_plane='XZ')\n",
    "\n",
    "# This exports the Shape object as an stp file that will be imported later\n",
    "example_shape.export_stp(\"example_shape.stp\")"
   ]
  },
  {
   "cell_type": "code",
   "execution_count": null,
   "metadata": {},
   "outputs": [],
   "source": [
    "\"\"\"Loads an stp file and plots html point graphs\"\"\"\n",
    "\n",
    "# loads the stp file and obtains the solid shape and list of wires / edges\n",
    "solid, wires = paramak.utils.load_stp_file(\n",
    "    filename=\"example_shape.stp\",\n",
    ")\n",
    "\n",
    "# produces a plot on the R (radius) Z axis and saves the html file\n",
    "paramak.utils.export_wire_to_html(\n",
    "    wires=wires,\n",
    "    tolerance=0.1,\n",
    "    view_plane=\"RZ\",\n",
    "    facet_splines=True,\n",
    "    facet_circles=True,\n",
    "    filename=\"example_shape_from_stp_RZ.html\",\n",
    ")\n",
    "\n",
    "# produces a plot on the XZ axis and saves the html file\n",
    "paramak.utils.export_wire_to_html(\n",
    "    wires=wires,\n",
    "    tolerance=0.1,\n",
    "    view_plane=\"XZ\",\n",
    "    facet_splines=True,\n",
    "    facet_circles=True,\n",
    "    filename=\"example_shape_from_stp_XZ.html\",\n",
    ")\n",
    "\n",
    "# produces a 3D plot with XYZ axis and saves the html file\n",
    "paramak.utils.export_wire_to_html(\n",
    "    wires=wires,\n",
    "    tolerance=0.1,\n",
    "    view_plane=\"XYZ\",\n",
    "    facet_splines=True,\n",
    "    facet_circles=True,\n",
    "    filename=\"example_shape_from_stp_XYZ.html\",\n",
    ")"
   ]
  },
  {
   "cell_type": "code",
   "execution_count": null,
   "metadata": {},
   "outputs": [],
   "source": []
  }
 ],
 "metadata": {
  "kernelspec": {
   "display_name": "Python 3",
   "language": "python",
   "name": "python3"
  },
  "language_info": {
   "codemirror_mode": {
    "name": "ipython",
    "version": 3
   },
   "file_extension": ".py",
   "mimetype": "text/x-python",
   "name": "python",
   "nbconvert_exporter": "python",
   "pygments_lexer": "ipython3",
   "version": "3.8.3"
  }
 },
 "nbformat": 4,
 "nbformat_minor": 4
}
