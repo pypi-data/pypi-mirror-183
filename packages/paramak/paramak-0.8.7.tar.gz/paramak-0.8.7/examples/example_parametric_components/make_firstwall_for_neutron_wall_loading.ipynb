{
 "cells": [
  {
   "cell_type": "code",
   "execution_count": null,
   "metadata": {},
   "outputs": [],
   "source": [
    "\"\"\"\n",
    "For some neutronics tallies such as neutron wall loading it is necessary to\n",
    "segment the geometry so that individual neutronics tallies can be recorded\n",
    "for each face. This can be done using the PoloidalSegments(). With this\n",
    "segmented geometry it is then easier to find neutron wall loading as a function\n",
    "of poloidal angle.\n",
    "\"\"\"\n",
    "\n",
    "import paramak\n",
    "\n",
    "\n",
    "# makes the firstwall\n",
    "firstwall = paramak.BlanketFP(\n",
    "    minor_radius=150,\n",
    "    major_radius=450,\n",
    "    triangularity=0.55,\n",
    "    elongation=2.0,\n",
    "    thickness=2,\n",
    "    start_angle=270,\n",
    "    stop_angle=-90,\n",
    "    rotation_angle=10\n",
    ")\n",
    "\n",
    "# segments the firstwall poloidally into 40 equal angle segments\n",
    "segmented_firstwall = paramak.PoloidalSegments(\n",
    "    shape_to_segment=firstwall,\n",
    "    center_point=(450, 0),  # this is the middle of the plasma\n",
    "    number_of_segments=40,\n",
    ")\n",
    "\n",
    "segmented_firstwall.show()"
   ]
  },
  {
   "cell_type": "code",
   "execution_count": null,
   "metadata": {},
   "outputs": [],
   "source": [
    "# saves the segmented firstwall as an stp file\n",
    "segmented_firstwall.export_stp(filename='segmented_firstwall.stp')"
   ]
  }
 ],
 "metadata": {
  "kernelspec": {
   "display_name": "Python 3 (ipykernel)",
   "language": "python",
   "name": "python3"
  },
  "language_info": {
   "codemirror_mode": {
    "name": "ipython",
    "version": 3
   },
   "file_extension": ".py",
   "mimetype": "text/x-python",
   "name": "python",
   "nbconvert_exporter": "python",
   "pygments_lexer": "ipython3",
   "version": "3.9.5"
  }
 },
 "nbformat": 4,
 "nbformat_minor": 4
}
