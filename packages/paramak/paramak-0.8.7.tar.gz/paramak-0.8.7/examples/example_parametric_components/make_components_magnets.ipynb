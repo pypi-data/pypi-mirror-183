{
 "cells": [
  {
   "cell_type": "code",
   "execution_count": null,
   "metadata": {},
   "outputs": [],
   "source": [
    "import paramak"
   ]
  },
  {
   "cell_type": "code",
   "execution_count": null,
   "metadata": {},
   "outputs": [],
   "source": [
    "component = paramak.InnerTfCoilsCircular(\n",
    "    inner_radius=25,\n",
    "    outer_radius=100,\n",
    "    number_of_coils=10,\n",
    "    gap_size=5,\n",
    "    height=300,\n",
    ")\n",
    "component.show()"
   ]
  },
  {
   "cell_type": "code",
   "execution_count": null,
   "metadata": {},
   "outputs": [],
   "source": [
    "component = paramak.InnerTfCoilsFlat(\n",
    "    inner_radius=25,\n",
    "    outer_radius=100,\n",
    "    number_of_coils=10,\n",
    "    gap_size=5,\n",
    "    height=300,\n",
    ")\n",
    "component.show()"
   ]
  },
  {
   "cell_type": "code",
   "execution_count": null,
   "metadata": {},
   "outputs": [],
   "source": [
    "rot_angle = 180\n",
    "\n",
    "# this makes 4 pf coil cases\n",
    "pf_coil_set = paramak.PoloidalFieldCoilCaseSet(\n",
    "    heights=[10, 10, 20, 20],\n",
    "    widths=[10, 10, 20, 40],\n",
    "    casing_thicknesses=[5, 5, 10, 10],\n",
    "    center_points=[(100, 100), (100, 150), (50, 200), (50, 50)],\n",
    "    rotation_angle=rot_angle,\n",
    ")\n",
    "pf_coil_set.show()"
   ]
  },
  {
   "cell_type": "code",
   "execution_count": null,
   "metadata": {},
   "outputs": [],
   "source": [
    "# this makes 4 pf coils\n",
    "pf_coil_set = paramak.PoloidalFieldCoilSet(\n",
    "    heights=[10, 10, 20, 20],\n",
    "    widths=[10, 10, 20, 40],\n",
    "    center_points=[(100, 100), (100, 150), (50, 200), (50, 50)],\n",
    "    rotation_angle=rot_angle,\n",
    ")\n",
    "pf_coil_set.show()"
   ]
  },
  {
   "cell_type": "code",
   "execution_count": null,
   "metadata": {},
   "outputs": [],
   "source": [
    "# this makes 4 pf coil cases for the 4 pf coils made above\n",
    "component = paramak.PoloidalFieldCoilCaseSetFC(\n",
    "    pf_coils=pf_coil_set,\n",
    "    casing_thicknesses=[5, 5, 10, 10],\n",
    "    rotation_angle=rot_angle,\n",
    ")\n",
    "component.show()"
   ]
  },
  {
   "cell_type": "code",
   "execution_count": null,
   "metadata": {},
   "outputs": [],
   "source": [
    "# this makes 1 pf coils\n",
    "pf_coil = paramak.PoloidalFieldCoil(\n",
    "    center_point=(100, 100),\n",
    "    height=20,\n",
    "    width=20,\n",
    "    rotation_angle=rot_angle,\n",
    ")\n",
    "pf_coil.show()"
   ]
  },
  {
   "cell_type": "code",
   "execution_count": null,
   "metadata": {},
   "outputs": [],
   "source": [
    "# this makes one PF coil case for the provided pf coil\n",
    "component = paramak.PoloidalFieldCoilCaseSetFC(\n",
    "    pf_coils=[pf_coil],\n",
    "    casing_thicknesses=[10],\n",
    "    rotation_angle=rot_angle,\n",
    ")\n",
    "component.show()"
   ]
  },
  {
   "cell_type": "code",
   "execution_count": null,
   "metadata": {},
   "outputs": [],
   "source": [
    "component = paramak.PoloidalFieldCoilCaseFC(\n",
    "    pf_coil=pf_coil,\n",
    "    casing_thickness=10,\n",
    "    rotation_angle=rot_angle,\n",
    ")\n",
    "component.show()"
   ]
  },
  {
   "cell_type": "code",
   "execution_count": null,
   "metadata": {},
   "outputs": [],
   "source": [
    "component = paramak.PoloidalFieldCoilCase(\n",
    "    center_point=(100, 100),\n",
    "    coil_height=20,\n",
    "    coil_width=20,\n",
    "    casing_thickness=10,\n",
    "    rotation_angle=rot_angle,\n",
    ")\n",
    "component.show()"
   ]
  },
  {
   "cell_type": "code",
   "execution_count": null,
   "metadata": {},
   "outputs": [],
   "source": [
    "component = paramak.ToroidalFieldCoilRectangle(\n",
    "    horizontal_start_point=(100, 700),\n",
    "    vertical_mid_point=(800, 0),\n",
    "    thickness=150,\n",
    "    distance=60,\n",
    "    number_of_coils=1,\n",
    ")\n",
    "component.show()"
   ]
  },
  {
   "cell_type": "code",
   "execution_count": null,
   "metadata": {},
   "outputs": [],
   "source": [
    "component = paramak.ToroidalFieldCoilCoatHanger(\n",
    "    horizontal_start_point=(200, 500),\n",
    "    horizontal_length=400,\n",
    "    vertical_mid_point=(700, 50),\n",
    "    vertical_length=500,\n",
    "    thickness=50,\n",
    "    distance=50,\n",
    "    number_of_coils=1,\n",
    ")\n",
    "component.show()"
   ]
  },
  {
   "cell_type": "code",
   "execution_count": null,
   "metadata": {},
   "outputs": [],
   "source": [
    "component = paramak.ToroidalFieldCoilTripleArc(\n",
    "    R1=80,\n",
    "    h=200,\n",
    "    radii=(70, 100),\n",
    "    coverages=(60, 60),\n",
    "    thickness=30,\n",
    "    distance=30,\n",
    "    number_of_coils=1,\n",
    ")\n",
    "component.show()"
   ]
  },
  {
   "cell_type": "code",
   "execution_count": null,
   "metadata": {},
   "outputs": [],
   "source": [
    "magnet = paramak.ToroidalFieldCoilPrincetonD(\n",
    "    R1=80,\n",
    "    R2=300,\n",
    "    thickness=30,\n",
    "    distance=30,\n",
    "    number_of_coils=1,\n",
    ")\n",
    "magnet.show()"
   ]
  },
  {
   "cell_type": "code",
   "execution_count": null,
   "metadata": {},
   "outputs": [],
   "source": [
    "component = paramak.TFCoilCasing(\n",
    "    magnet=magnet,\n",
    "    inner_offset=10,\n",
    "    outer_offset=15,\n",
    "    vertical_section_offset=20,\n",
    "    distance=40\n",
    ")\n",
    "component.show()"
   ]
  }
 ],
 "metadata": {
  "kernelspec": {
   "display_name": "Python 3 (ipykernel)",
   "language": "python",
   "name": "python3"
  },
  "language_info": {
   "codemirror_mode": {
    "name": "ipython",
    "version": 3
   },
   "file_extension": ".py",
   "mimetype": "text/x-python",
   "name": "python",
   "nbconvert_exporter": "python",
   "pygments_lexer": "ipython3",
   "version": "3.9.5"
  }
 },
 "nbformat": 4,
 "nbformat_minor": 4
}
