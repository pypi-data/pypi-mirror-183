{
 "cells": [
  {
   "cell_type": "code",
   "execution_count": null,
   "metadata": {},
   "outputs": [],
   "source": [
    "\"\"\"\n",
    "This python script demonstrates the creation of a vacuum vessel with shaped\n",
    "different ports cut out.\n",
    "\"\"\"\n",
    "\n",
    "import numpy as np\n",
    "import paramak\n",
    "\n",
    "\n",
    "number_of_ports_in_360_degrees = 12\n",
    "angles_for_ports = np.linspace(0, 360, number_of_ports_in_360_degrees)\n",
    "\n",
    "# makes the upper row of ports\n",
    "rotated_ports = paramak.PortCutterRotated(\n",
    "    center_point=(0, 0),\n",
    "    polar_coverage_angle=10,\n",
    "    rotation_angle=10,\n",
    "    polar_placement_angle=25,\n",
    "    azimuth_placement_angle=angles_for_ports\n",
    ")\n",
    "\n",
    "# makes the middle row of ports\n",
    "circular_ports = paramak.PortCutterCircular(\n",
    "    distance=5,\n",
    "    center_point=(0, 0),\n",
    "    radius=0.2,\n",
    "    azimuth_placement_angle=angles_for_ports\n",
    ")\n",
    "\n",
    "# makes the lower row of ports\n",
    "rectangular_ports = paramak.PortCutterRectangular(\n",
    "    distance=5,\n",
    "    center_point=(-1, 0),\n",
    "    height=0.3,\n",
    "    width=0.4,\n",
    "    fillet_radius=0.08,\n",
    "    azimuth_placement_angle=angles_for_ports\n",
    ")\n",
    "\n",
    "# creates the hollow cylinder vacuum vessel and cuts away the ports\n",
    "vacuum_vessel = paramak.VacuumVessel(\n",
    "    height=4,\n",
    "    inner_radius=2,\n",
    "    thickness=0.2,\n",
    "    cut=[rotated_ports, rectangular_ports, circular_ports]\n",
    ")\n",
    "\n",
    "vacuum_vessel.show()"
   ]
  },
  {
   "cell_type": "code",
   "execution_count": null,
   "metadata": {},
   "outputs": [],
   "source": [
    "# eports images and 3D CAD\n",
    "vacuum_vessel.export_svg('vacuum_vessel_with_ports.svg')\n",
    "vacuum_vessel.export_stp('vacuum_vessel_with_ports.stp')"
   ]
  }
 ],
 "metadata": {
  "kernelspec": {
   "display_name": "Python 3 (ipykernel)",
   "language": "python",
   "name": "python3"
  },
  "language_info": {
   "codemirror_mode": {
    "name": "ipython",
    "version": 3
   },
   "file_extension": ".py",
   "mimetype": "text/x-python",
   "name": "python",
   "nbconvert_exporter": "python",
   "pygments_lexer": "ipython3",
   "version": "3.9.5"
  }
 },
 "nbformat": 4,
 "nbformat_minor": 4
}
