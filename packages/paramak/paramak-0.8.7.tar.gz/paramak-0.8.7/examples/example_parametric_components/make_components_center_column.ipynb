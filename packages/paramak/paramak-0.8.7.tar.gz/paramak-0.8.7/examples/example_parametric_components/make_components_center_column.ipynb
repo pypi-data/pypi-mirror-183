{
 "cells": [
  {
   "cell_type": "code",
   "execution_count": null,
   "metadata": {},
   "outputs": [],
   "source": [
    "import paramak\n",
    "\n",
    "rot_angle = 90\n",
    "\n",
    "CenterColumnShieldCylinder = paramak.CenterColumnShieldCylinder(\n",
    "    inner_radius=80,\n",
    "    outer_radius=100,\n",
    "    height=300,\n",
    "    rotation_angle=rot_angle,\n",
    ")\n",
    "CenterColumnShieldCylinder.show()"
   ]
  },
  {
   "cell_type": "code",
   "execution_count": null,
   "metadata": {},
   "outputs": [],
   "source": [
    "component = paramak.InboardFirstwallFCCS(\n",
    "    central_column_shield=CenterColumnShieldCylinder,\n",
    "    thickness=50,\n",
    "    rotation_angle=rot_angle,\n",
    ")\n",
    "component.show()"
   ]
  },
  {
   "cell_type": "code",
   "execution_count": null,
   "metadata": {},
   "outputs": [],
   "source": [
    "CenterColumnShieldHyperbola = paramak.CenterColumnShieldHyperbola(\n",
    "    inner_radius=50,\n",
    "    mid_radius=75,\n",
    "    outer_radius=100,\n",
    "    height=300,\n",
    "    rotation_angle=rot_angle,\n",
    ")\n",
    "CenterColumnShieldHyperbola.show()"
   ]
  },
  {
   "cell_type": "code",
   "execution_count": null,
   "metadata": {},
   "outputs": [],
   "source": [
    "component = paramak.InboardFirstwallFCCS(\n",
    "    central_column_shield=CenterColumnShieldHyperbola,\n",
    "    thickness=50,\n",
    "    rotation_angle=rot_angle,\n",
    ")\n",
    "component.show()"
   ]
  },
  {
   "cell_type": "code",
   "execution_count": null,
   "metadata": {},
   "outputs": [],
   "source": [
    "CenterColumnShieldCircular = paramak.CenterColumnShieldCircular(\n",
    "    inner_radius=50,\n",
    "    mid_radius=75,\n",
    "    outer_radius=100,\n",
    "    height=300,\n",
    "    rotation_angle=rot_angle,\n",
    ")\n",
    "CenterColumnShieldCircular.show()"
   ]
  },
  {
   "cell_type": "code",
   "execution_count": null,
   "metadata": {},
   "outputs": [],
   "source": [
    "component = paramak.InboardFirstwallFCCS(\n",
    "    central_column_shield=CenterColumnShieldCircular,\n",
    "    thickness=50,\n",
    "    rotation_angle=rot_angle,\n",
    ")\n",
    "component.show()"
   ]
  },
  {
   "cell_type": "code",
   "execution_count": null,
   "metadata": {},
   "outputs": [],
   "source": [
    "CenterColumnShieldFlatTopHyperbola = paramak.CenterColumnShieldFlatTopHyperbola(\n",
    "    inner_radius=50,\n",
    "    mid_radius=75,\n",
    "    outer_radius=100,\n",
    "    arc_height=220,\n",
    "    height=300,\n",
    "    rotation_angle=rot_angle,\n",
    ")\n",
    "CenterColumnShieldFlatTopHyperbola.show()"
   ]
  },
  {
   "cell_type": "code",
   "execution_count": null,
   "metadata": {},
   "outputs": [],
   "source": [
    "component = paramak.InboardFirstwallFCCS(\n",
    "    central_column_shield=CenterColumnShieldFlatTopHyperbola,\n",
    "    thickness=50,\n",
    "    rotation_angle=rot_angle,\n",
    ")\n",
    "component.show()"
   ]
  },
  {
   "cell_type": "code",
   "execution_count": null,
   "metadata": {},
   "outputs": [],
   "source": [
    "CenterColumnShieldFlatTopCircular = paramak.CenterColumnShieldFlatTopCircular(\n",
    "    inner_radius=50,\n",
    "    mid_radius=75,\n",
    "    outer_radius=100,\n",
    "    arc_height=220,\n",
    "    height=300,\n",
    "    rotation_angle=rot_angle,\n",
    ")\n",
    "CenterColumnShieldFlatTopCircular.show()"
   ]
  },
  {
   "cell_type": "code",
   "execution_count": null,
   "metadata": {},
   "outputs": [],
   "source": [
    "component = paramak.InboardFirstwallFCCS(\n",
    "    central_column_shield=CenterColumnShieldFlatTopCircular,\n",
    "    thickness=50,\n",
    "    rotation_angle=rot_angle,\n",
    ")\n",
    "component.show()"
   ]
  },
  {
   "cell_type": "code",
   "execution_count": null,
   "metadata": {},
   "outputs": [],
   "source": [
    "CenterColumnShieldPlasmaHyperbola = paramak.CenterColumnShieldPlasmaHyperbola(\n",
    "    inner_radius=150,\n",
    "    mid_offset=50,\n",
    "    edge_offset=40,\n",
    "    height=800,\n",
    "    rotation_angle=rot_angle,\n",
    ")\n",
    "CenterColumnShieldPlasmaHyperbola.show()"
   ]
  },
  {
   "cell_type": "code",
   "execution_count": null,
   "metadata": {},
   "outputs": [],
   "source": [
    "component = paramak.InboardFirstwallFCCS(\n",
    "    central_column_shield=CenterColumnShieldPlasmaHyperbola,\n",
    "    thickness=50,\n",
    "    rotation_angle=rot_angle,\n",
    ")\n",
    "component.show()"
   ]
  }
 ],
 "metadata": {
  "kernelspec": {
   "display_name": "Python 3 (ipykernel)",
   "language": "python",
   "name": "python3"
  },
  "language_info": {
   "codemirror_mode": {
    "name": "ipython",
    "version": 3
   },
   "file_extension": ".py",
   "mimetype": "text/x-python",
   "name": "python",
   "nbconvert_exporter": "python",
   "pygments_lexer": "ipython3",
   "version": "3.9.5"
  }
 },
 "nbformat": 4,
 "nbformat_minor": 4
}
