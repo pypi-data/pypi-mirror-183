{
 "cells": [
  {
   "cell_type": "code",
   "execution_count": null,
   "metadata": {},
   "outputs": [],
   "source": [
    "\n",
    "from matplotlib.pyplot import plasma\n",
    "from numpy.lib.function_base import angle\n",
    "import paramak\n",
    "import random\n",
    "import subprocess\n",
    "\n",
    "\n",
    "subprocess.call(['rm', 'random_offset_.svg'])\n",
    "\n",
    "for counter in range(10):\n",
    "    offset_1 = random.uniform(10, 80)\n",
    "    offset_2 = random.uniform(10, 80)\n",
    "    offset_3 = random.uniform(10, 80)\n",
    "    offset_4 = random.uniform(10, 80)\n",
    "    offset_5 = random.uniform(10, 80)\n",
    "\n",
    "    offests = [offset_1, offset_2, offset_3, offset_4, offset_5, offset_1]\n",
    "\n",
    "    plasma = paramak.Plasma(\n",
    "            rotation_angle=35,\n",
    "            minor_radius=150.0,\n",
    "            major_radius=450.0,\n",
    "            triangularity=0.55,\n",
    "            elongation=2.0,\n",
    "    )\n",
    "\n",
    "    firstwall = paramak.BlanketFP(\n",
    "        rotation_angle=35,\n",
    "        thickness=1,\n",
    "        start_angle=0,\n",
    "        stop_angle=360,\n",
    "        offset_from_plasma=offests\n",
    "    )\n",
    "\n",
    "    both_shapes = paramak.Reactor([plasma, firstwall])\n",
    "\n",
    "    filename = 'random_offset_'+str(counter).zfill(3)+'.svg'\n",
    "\n",
    "    # saves 3d geomery as svg image, could also be saved as html, stl, or stp\n",
    "    both_shapes.export_svg(\n",
    "        filename=filename,\n",
    "        projectionDir=(5,-5,0),\n",
    "        showHidden=True,\n",
    "    )\n"
   ]
  },
  {
   "cell_type": "code",
   "execution_count": null,
   "metadata": {},
   "outputs": [],
   "source": [
    "# The following command requres imagemagick installed to convert the svg files into a gif animation\n",
    "# further details https://imagemagick.org/index.php\n",
    "\n",
    "# subprocess.check_call(\n",
    "#     [\"convert\", \"-delay\", \"40\", \"random_offset_*.svg\", \"random_offsets.gif\"])\n"
   ]
  }
 ],
 "metadata": {
  "kernelspec": {
   "display_name": "Python 3 (ipykernel)",
   "language": "python",
   "name": "python3"
  },
  "language_info": {
   "codemirror_mode": {
    "name": "ipython",
    "version": 3
   },
   "file_extension": ".py",
   "mimetype": "text/x-python",
   "name": "python",
   "nbconvert_exporter": "python",
   "pygments_lexer": "ipython3",
   "version": "3.9.5"
  }
 },
 "nbformat": 4,
 "nbformat_minor": 4
}
