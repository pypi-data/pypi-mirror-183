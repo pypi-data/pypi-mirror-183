{
 "cells": [
  {
   "cell_type": "markdown",
   "metadata": {},
   "source": [
    "This python script demonstrates the creation of all parametric shapes available\n",
    "in the paramak tool"
   ]
  },
  {
   "cell_type": "code",
   "execution_count": null,
   "metadata": {},
   "outputs": [],
   "source": [
    "import paramak\n",
    "\n",
    "rot_angle = 180\n",
    "all_components = []"
   ]
  },
  {
   "cell_type": "code",
   "execution_count": null,
   "metadata": {},
   "outputs": [],
   "source": [
    "plasma = paramak.Plasma(\n",
    "    # default parameters\n",
    "    rotation_angle=rot_angle,\n",
    ")\n",
    "plasma.show()"
   ]
  },
  {
   "cell_type": "code",
   "execution_count": null,
   "metadata": {},
   "outputs": [],
   "source": [
    "component = paramak.ITERtypeDivertor(\n",
    "    # default parameters\n",
    "    rotation_angle=rot_angle,\n",
    ")\n",
    "component.show()"
   ]
  },
  {
   "cell_type": "code",
   "execution_count": null,
   "metadata": {},
   "outputs": [],
   "source": [
    "component = paramak.ExtrudeHollowRectangle(\n",
    "    height=10,\n",
    "    width=15,\n",
    "    casing_thickness=1,\n",
    "    distance=2,\n",
    "    workplane='YZ'\n",
    ")\n",
    "component.show()"
   ]
  },
  {
   "cell_type": "code",
   "execution_count": null,
   "metadata": {},
   "outputs": [],
   "source": [
    "component = paramak.CircularPort(\n",
    "    color = (0,1,0),\n",
    "    rotation_angle=45,\n",
    "    blank_flange_thickness=4,\n",
    "    flange_thickness=10,\n",
    "    wall_thickness=2,\n",
    "    distance = 50,\n",
    ")\n",
    "component.show()"
   ]
  },
  {
   "cell_type": "code",
   "execution_count": null,
   "metadata": {},
   "outputs": [],
   "source": [
    "component = paramak.PortCutterRotated(\n",
    "    center_point=(450, 0),\n",
    "    polar_coverage_angle=20,\n",
    "    rotation_angle=10,\n",
    "    polar_placement_angle=45,\n",
    "    azimuth_placement_angle=0\n",
    ")\n",
    "component.show()"
   ]
  },
  {
   "cell_type": "code",
   "execution_count": null,
   "metadata": {},
   "outputs": [],
   "source": [
    "component = paramak.PortCutterRectangular(\n",
    "    distance=3,\n",
    "    center_point=(0, 0),\n",
    "    height=0.2,\n",
    "    width=0.4,\n",
    "    fillet_radius=0.02,\n",
    "    azimuth_placement_angle=[0, 45, 90, 180]\n",
    ")\n",
    "component.show()"
   ]
  },
  {
   "cell_type": "code",
   "execution_count": null,
   "metadata": {},
   "outputs": [],
   "source": [
    "component = paramak.PortCutterCircular(\n",
    "    distance=3,\n",
    "    center_point=(0.25, 0),\n",
    "    radius=0.1,\n",
    "    # azimuth_placement_angle=[0, 45, 90, 180], # TODO: fix issue #548\n",
    "    azimuth_placement_angle=[0, 45, 90],\n",
    ")\n",
    "component.show()"
   ]
  },
  {
   "cell_type": "code",
   "execution_count": null,
   "metadata": {},
   "outputs": [],
   "source": [
    "component = paramak.VacuumVessel(\n",
    "    height=2, inner_radius=1, thickness=0.2, rotation_angle=270\n",
    ")\n",
    "component.show()"
   ]
  },
  {
   "cell_type": "code",
   "execution_count": null,
   "metadata": {},
   "outputs": [],
   "source": [
    "component = paramak.CoolantChannelRingStraight(\n",
    "    height=200,\n",
    "    channel_radius=10,\n",
    "    ring_radius=70,\n",
    "    number_of_coolant_channels=8,\n",
    "    workplane=\"XY\",\n",
    "    rotation_axis=\"Z\",\n",
    ")\n",
    "component.show()"
   ]
  },
  {
   "cell_type": "code",
   "execution_count": null,
   "metadata": {},
   "outputs": [],
   "source": [
    "component = paramak.CoolantChannelRingCurved(\n",
    "    height=200,\n",
    "    channel_radius=10,\n",
    "    ring_radius=70,\n",
    "    mid_offset=-20,\n",
    "    number_of_coolant_channels=8,\n",
    "    workplane=\"XY\",\n",
    "    path_workplane=\"XZ\",\n",
    "    force_cross_section=True\n",
    ")\n",
    "component.show()"
   ]
  },
  {
   "cell_type": "code",
   "execution_count": null,
   "metadata": {},
   "outputs": [],
   "source": [
    "component = paramak.RotatedIsoscelesTriangle(\n",
    "    height=20,\n",
    "    base_length=15,\n",
    "    pivot_angle=0,\n",
    "    pivot_point=(100, 50),\n",
    "    rotation_angle=70,\n",
    "    workplane='XY',\n",
    ")\n",
    "component.show()"
   ]
  },
  {
   "cell_type": "code",
   "execution_count": null,
   "metadata": {},
   "outputs": [],
   "source": [
    "component = paramak.RotatedTrapezoid(\n",
    "    length_1=10,\n",
    "    length_2=20,\n",
    "    length_3=30,\n",
    "    pivot_angle=0,\n",
    "    pivot_point=(100, 50),\n",
    "    rotation_angle=45,\n",
    ")\n",
    "component.show()"
   ]
  },
  {
   "cell_type": "code",
   "execution_count": null,
   "metadata": {},
   "outputs": [],
   "source": [
    "component = paramak.PoloidalSegments(\n",
    "    number_of_segments=5,\n",
    "    center_point=(400, 50)\n",
    ")\n",
    "component.show()"
   ]
  },
  {
   "cell_type": "code",
   "execution_count": null,
   "metadata": {},
   "outputs": [],
   "source": [
    "component = paramak.HexagonPin(\n",
    "    length_of_side=5,\n",
    "    distance=10,\n",
    "    center_point=(10, 20)\n",
    ")\n",
    "component.show()"
   ]
  },
  {
   "cell_type": "code",
   "execution_count": null,
   "metadata": {},
   "outputs": [],
   "source": [
    "component = paramak.VacuumVesselInnerLeg(\n",
    "    inner_height=760,\n",
    "    inner_radius=400,\n",
    "    inner_leg_radius=250,\n",
    "    thickness=20\n",
    ")\n",
    "component.show()"
   ]
  },
  {
   "cell_type": "code",
   "execution_count": null,
   "metadata": {},
   "outputs": [],
   "source": [
    "component = paramak.BlanketCutterParallels(\n",
    "        thickness=10.,\n",
    "        gap_size=30.,\n",
    "        height=200.,\n",
    "        width=200.,\n",
    "        name=\"blanket_cutter_parallels\",\n",
    "        azimuth_placement_angle=[0., 36., 72., 108., 144., 180., 216., 252., 288., 324.],\n",
    ")\n",
    "component.show()"
   ]
  },
  {
   "cell_type": "code",
   "execution_count": null,
   "metadata": {},
   "outputs": [],
   "source": []
  }
 ],
 "metadata": {
  "kernelspec": {
   "display_name": "Python 3 (ipykernel)",
   "language": "python",
   "name": "python3"
  },
  "language_info": {
   "codemirror_mode": {
    "name": "ipython",
    "version": 3
   },
   "file_extension": ".py",
   "mimetype": "text/x-python",
   "name": "python",
   "nbconvert_exporter": "python",
   "pygments_lexer": "ipython3",
   "version": "3.8.12"
  }
 },
 "nbformat": 4,
 "nbformat_minor": 4
}
