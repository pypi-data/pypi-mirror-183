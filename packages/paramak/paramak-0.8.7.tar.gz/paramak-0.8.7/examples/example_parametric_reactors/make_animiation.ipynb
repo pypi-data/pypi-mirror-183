{
 "cells": [
  {
   "cell_type": "markdown",
   "metadata": {},
   "source": [
    "Creates a series of images of a ball reactor images and combines\n",
    "them into gif animations using the command line tool convert, you will need to\n",
    "have imagemagick installed to convert the svg images to a gif animation"
   ]
  },
  {
   "cell_type": "markdown",
   "metadata": {},
   "source": [
    "Makes a single reactor and exports and svg image with different view angles. Combines the svg images into a gif animation."
   ]
  },
  {
   "cell_type": "code",
   "execution_count": 2,
   "metadata": {},
   "outputs": [],
   "source": [
    "import subprocess\n",
    "\n",
    "import numpy as np\n",
    "import paramak\n",
    "from scipy.interpolate import interp1d\n",
    "\n",
    "number_of_images = 5"
   ]
  },
  {
   "cell_type": "code",
   "execution_count": null,
   "metadata": {},
   "outputs": [],
   "source": [
    "# allows the projection angle for the svg to be found via interpolation\n",
    "\n",
    "angle_finder = interp1d([0, number_of_images], [2.4021, 6.])\n",
    "\n",
    "my_reactor = paramak.SubmersionTokamak(\n",
    "    inner_bore_radial_thickness=30,\n",
    "    inboard_tf_leg_radial_thickness=30,\n",
    "    center_column_shield_radial_thickness=30,\n",
    "    divertor_radial_thickness=80,\n",
    "    inner_plasma_gap_radial_thickness=50,\n",
    "    plasma_radial_thickness=200,\n",
    "    outer_plasma_gap_radial_thickness=50,\n",
    "    firstwall_radial_thickness=30,\n",
    "    blanket_rear_wall_radial_thickness=30,\n",
    "    number_of_tf_coils=16,\n",
    "    rotation_angle=180,\n",
    "    support_radial_thickness=90,\n",
    "    inboard_blanket_radial_thickness=30,\n",
    "    outboard_blanket_radial_thickness=30,\n",
    "    elongation=2.00,\n",
    "    triangularity=0.50,\n",
    "    pf_coil_case_thicknesses=[10, 10, 10, 10],\n",
    "    pf_coil_radial_thicknesses=[20, 50, 50, 20],\n",
    "    pf_coil_vertical_thicknesses=[20, 50, 50, 20],\n",
    "    pf_coil_radial_position=[500, 550, 550, 500],\n",
    "    pf_coil_vertical_position=[270, 100, -100, -270],\n",
    "    rear_blanket_to_tf_gap=50,\n",
    "    outboard_tf_coil_radial_thickness=30,\n",
    "    outboard_tf_coil_poloidal_thickness=30,\n",
    ")\n",
    "\n",
    "for i in range(number_of_images):\n",
    "\n",
    "    # uses the rotation angle (in radians) to find new x, y points\n",
    "    x_vec, y_vec = paramak.utils.rotate([0, 0], [1, 0], angle_finder(i))\n",
    "    projectionDir = (x_vec, y_vec, 0)\n",
    "\n",
    "    my_reactor.export_svg(\n",
    "        filename=\"rotation_\" + str(i).zfill(4) + \".svg\",\n",
    "        projectionDir=projectionDir,\n",
    "        showHidden=False,\n",
    "        height=200,\n",
    "        width=300,\n",
    "        marginTop=27,\n",
    "        marginLeft=35,\n",
    "        strokeWidth=3.5\n",
    "    )\n",
    "\n",
    "    print(\"made\", str(i + 1), \"models out of\", str(number_of_images))"
   ]
  },
  {
   "cell_type": "code",
   "execution_count": null,
   "metadata": {},
   "outputs": [],
   "source": [
    "# Converts the svg files into a gif using imagemagick. You will need imagemagick installed https://imagemagick.org/index.php\n",
    "# subprocess.check_call(\n",
    "#     [\"convert\", \"-delay\", \"15\", \"rotation_*.svg\", \"rotated.gif\"])\n",
    "\n",
    "# print(\"animation file made as saved as rotated.gif\")"
   ]
  },
  {
   "cell_type": "markdown",
   "metadata": {},
   "source": [
    "Makes a series of random sized reactors and exports an svg image for each one. Combines the svg images into a gif animation."
   ]
  },
  {
   "cell_type": "code",
   "execution_count": 3,
   "metadata": {},
   "outputs": [
    {
     "name": "stdout",
     "output_type": "stream",
     "text": [
      "pf_coil_vertical_thicknesses, pf_coil_radial_thicknesses, pf_coil_radial_position, pf_coil_vertical_position not so not making pf coils\n"
     ]
    },
    {
     "name": "stderr",
     "output_type": "stream",
     "text": [
      "/home/jshim/paramak/paramak/parametric_components/blanket_fp.py:226: UserWarning: BlanketFP: Some points with negative R coordinate have been ignored.\n",
      "  warnings.warn(msg)\n"
     ]
    },
    {
     "name": "stdout",
     "output_type": "stream",
     "text": [
      "Saved file as  random_0000.svg\n",
      "made 1 models out of 5\n",
      "pf_coil_vertical_thicknesses, pf_coil_radial_thicknesses, pf_coil_radial_position, pf_coil_vertical_position not so not making pf coils\n",
      "Saved file as  random_0001.svg\n",
      "made 2 models out of 5\n",
      "pf_coil_vertical_thicknesses, pf_coil_radial_thicknesses, pf_coil_radial_position, pf_coil_vertical_position not so not making pf coils\n",
      "Saved file as  random_0002.svg\n",
      "made 3 models out of 5\n",
      "pf_coil_vertical_thicknesses, pf_coil_radial_thicknesses, pf_coil_radial_position, pf_coil_vertical_position not so not making pf coils\n",
      "Saved file as  random_0003.svg\n",
      "made 4 models out of 5\n",
      "pf_coil_vertical_thicknesses, pf_coil_radial_thicknesses, pf_coil_radial_position, pf_coil_vertical_position not so not making pf coils\n",
      "Saved file as  random_0004.svg\n",
      "made 5 models out of 5\n",
      "animation file made as saved as randoms.gif\n"
     ]
    }
   ],
   "source": [
    "# makes a series of reactor models\n",
    "for i in range(number_of_images):\n",
    "\n",
    "    my_reactor = paramak.BallReactor(\n",
    "        inner_bore_radial_thickness=50,\n",
    "        inboard_tf_leg_radial_thickness=np.random.uniform(20, 50),\n",
    "        center_column_shield_radial_thickness=np.random.uniform(20, 60),\n",
    "        divertor_radial_thickness=50,\n",
    "        inner_plasma_gap_radial_thickness=50,\n",
    "        plasma_radial_thickness=np.random.uniform(20, 200),\n",
    "        outer_plasma_gap_radial_thickness=50,\n",
    "        plasma_gap_vertical_thickness=50,\n",
    "        firstwall_radial_thickness=5,\n",
    "        blanket_radial_thickness=np.random.uniform(10, 200),\n",
    "        blanket_rear_wall_radial_thickness=10,\n",
    "        elongation=np.random.uniform(1.3, 1.7),\n",
    "        triangularity=np.random.uniform(0.3, 0.55),\n",
    "        rotation_angle=180,\n",
    "        outboard_tf_coil_radial_thickness=100,\n",
    "        outboard_tf_coil_poloidal_thickness=50,\n",
    "    )\n",
    "\n",
    "    my_reactor.export_svg(\n",
    "        filename=\"random_\" + str(i).zfill(4) + \".svg\",\n",
    "        showHidden=False\n",
    "    )\n",
    "\n",
    "    print(\"made\", str(i + 1), \"models out of\", str(number_of_images))\n"
   ]
  },
  {
   "cell_type": "code",
   "execution_count": null,
   "metadata": {},
   "outputs": [],
   "source": [
    "# Converts the svg files into a gif using imagemagick. You will need imagemagick installed https://imagemagick.org/index.php\n",
    "# subprocess.check_call(\n",
    "#     [\"convert\", \"-delay\", \"40\", \"random_*.svg\", \"randoms.gif\"])\n",
    "\n",
    "# print(\"animation file made as saved as randoms.gif\")"
   ]
  }
 ],
 "metadata": {
  "kernelspec": {
   "display_name": "Python 3 (ipykernel)",
   "language": "python",
   "name": "python3"
  },
  "language_info": {
   "codemirror_mode": {
    "name": "ipython",
    "version": 3
   },
   "file_extension": ".py",
   "mimetype": "text/x-python",
   "name": "python",
   "nbconvert_exporter": "python",
   "pygments_lexer": "ipython3",
   "version": "3.8.11"
  }
 },
 "nbformat": 4,
 "nbformat_minor": 4
}
