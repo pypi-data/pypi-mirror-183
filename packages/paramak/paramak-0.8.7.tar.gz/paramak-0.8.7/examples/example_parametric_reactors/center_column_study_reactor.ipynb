{
 "cells": [
  {
   "cell_type": "code",
   "execution_count": null,
   "metadata": {},
   "outputs": [],
   "source": [
    "\"\"\"\n",
    "This example creates a center column study reactor using a parametric reactor.\n",
    "Adds some TF coils to the reactor. By default the script saves stp, stl,\n",
    "html and svg files.\n",
    "\"\"\"\n",
    "\n",
    "import paramak\n",
    "\n",
    "\n",
    "my_reactor = paramak.CenterColumnStudyReactor(\n",
    "    inner_bore_radial_thickness=20,\n",
    "    inboard_tf_leg_radial_thickness=50,\n",
    "    center_column_shield_radial_thickness_mid=50,\n",
    "    center_column_shield_radial_thickness_upper=100,\n",
    "    inboard_firstwall_radial_thickness=20,\n",
    "    divertor_radial_thickness=100,\n",
    "    inner_plasma_gap_radial_thickness=80,\n",
    "    plasma_radial_thickness=200,\n",
    "    outer_plasma_gap_radial_thickness=90,\n",
    "    elongation=2.3,\n",
    "    triangularity=0.45,\n",
    "    plasma_gap_vertical_thickness=40,\n",
    "    center_column_arc_vertical_thickness=520,\n",
    "    rotation_angle=180)\n",
    "\n",
    "my_reactor.show()"
   ]
  },
  {
   "cell_type": "code",
   "execution_count": null,
   "metadata": {},
   "outputs": [],
   "source": [
    "my_reactor.export_stp(filename='CenterColumnStudyReactor.png')\n",
    "\n",
    "my_reactor.export_svg('CenterColumnStudyReactor/reactor.svg')\n",
    "\n",
    "my_reactor.export_stl(filename='CenterColumnStudyReactor.stl')\n",
    "\n",
    "my_reactor.export_html('CenterColumnStudyReactor/reactor.html')"
   ]
  }
 ],
 "metadata": {
  "kernelspec": {
   "display_name": "Python 3 (ipykernel)",
   "language": "python",
   "name": "python3"
  },
  "language_info": {
   "codemirror_mode": {
    "name": "ipython",
    "version": 3
   },
   "file_extension": ".py",
   "mimetype": "text/x-python",
   "name": "python",
   "nbconvert_exporter": "python",
   "pygments_lexer": "ipython3",
   "version": "3.9.5"
  }
 },
 "nbformat": 4,
 "nbformat_minor": 4
}
