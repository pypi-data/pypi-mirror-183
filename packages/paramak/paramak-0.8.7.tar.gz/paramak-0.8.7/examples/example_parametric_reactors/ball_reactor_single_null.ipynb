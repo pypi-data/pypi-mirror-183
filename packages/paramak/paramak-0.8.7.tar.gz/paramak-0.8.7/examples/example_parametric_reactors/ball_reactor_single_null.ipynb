{
 "cells": [
  {
   "cell_type": "code",
   "execution_count": null,
   "metadata": {},
   "outputs": [],
   "source": [
    "import paramak\n",
    "\n",
    "my_reactor = paramak.SingleNullBallReactor(\n",
    "    inner_bore_radial_thickness=50,\n",
    "    inboard_tf_leg_radial_thickness=50,\n",
    "    center_column_shield_radial_thickness=50,\n",
    "    divertor_radial_thickness=90,\n",
    "    inner_plasma_gap_radial_thickness=50,\n",
    "    plasma_radial_thickness=200,\n",
    "    outer_plasma_gap_radial_thickness=50,\n",
    "    plasma_gap_vertical_thickness=50,\n",
    "    firstwall_radial_thickness=50,\n",
    "    blanket_radial_thickness=100,\n",
    "    blanket_rear_wall_radial_thickness=50,\n",
    "    elongation=2,\n",
    "    triangularity=0.55,\n",
    "    number_of_tf_coils=16,\n",
    "    rotation_angle=180,\n",
    "    pf_coil_case_thicknesses=[10, 10, 10, 10],\n",
    "    pf_coil_radial_thicknesses=[20, 50, 50, 20],\n",
    "    pf_coil_vertical_thicknesses=[20, 50, 50, 20],\n",
    "    pf_coil_radial_position=[500, 575, 575, 500],\n",
    "    pf_coil_vertical_position=[300, 100, -100, -300],\n",
    "    rear_blanket_to_tf_gap=50,\n",
    "    outboard_tf_coil_radial_thickness=100,\n",
    "    outboard_tf_coil_poloidal_thickness=50,\n",
    "    divertor_position=\"lower\"\n",
    ")\n",
    "\n",
    "my_reactor.show()"
   ]
  },
  {
   "cell_type": "code",
   "execution_count": null,
   "metadata": {},
   "outputs": [],
   "source": [
    "my_reactor.export_stp('single_null_ball_reactor.stp')\n",
    "\n",
    "my_reactor.export_svg('reactor.svg')\n",
    "\n",
    "my_reactor.export_stl('single_null_ball_reactor.stl')\n",
    "\n",
    "my_reactor.export_html('reactor.html')"
   ]
  },
  {
   "cell_type": "code",
   "execution_count": null,
   "metadata": {},
   "outputs": [],
   "source": []
  }
 ],
 "metadata": {
  "kernelspec": {
   "display_name": "Python 3 (ipykernel)",
   "language": "python",
   "name": "python3"
  },
  "language_info": {
   "codemirror_mode": {
    "name": "ipython",
    "version": 3
   },
   "file_extension": ".py",
   "mimetype": "text/x-python",
   "name": "python",
   "nbconvert_exporter": "python",
   "pygments_lexer": "ipython3",
   "version": "3.8.11"
  }
 },
 "nbformat": 4,
 "nbformat_minor": 4
}
