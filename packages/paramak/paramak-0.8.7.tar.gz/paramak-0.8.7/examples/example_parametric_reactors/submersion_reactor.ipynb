{
 "cells": [
  {
   "cell_type": "markdown",
   "metadata": {},
   "source": [
    "This example creates a submersion reactor using the SubmersionTokamak\n",
    "parametric reactor. By default the script saves stp, stl, html and svg files."
   ]
  },
  {
   "cell_type": "code",
   "execution_count": null,
   "metadata": {},
   "outputs": [],
   "source": [
    "import paramak\n",
    "\n",
    "\n",
    "my_reactor = paramak.SubmersionTokamak(\n",
    "    inner_bore_radial_thickness=30,\n",
    "    inboard_tf_leg_radial_thickness=30,\n",
    "    center_column_shield_radial_thickness=30,\n",
    "    divertor_radial_thickness=80,\n",
    "    inner_plasma_gap_radial_thickness=50,\n",
    "    plasma_radial_thickness=200,\n",
    "    outer_plasma_gap_radial_thickness=50,\n",
    "    firstwall_radial_thickness=30,\n",
    "    blanket_rear_wall_radial_thickness=30,\n",
    "    number_of_tf_coils=16,\n",
    "    rotation_angle=180,\n",
    "    support_radial_thickness=90,\n",
    "    inboard_blanket_radial_thickness=30,\n",
    "    outboard_blanket_radial_thickness=30,\n",
    "    elongation=2.00,\n",
    "    triangularity=0.50,\n",
    "    pf_coil_case_thicknesses=[10, 10, 10, 10],\n",
    "    pf_coil_radial_thicknesses=[20, 50, 50, 20],\n",
    "    pf_coil_vertical_thicknesses=[20, 50, 50, 20],\n",
    "    pf_coil_radial_position=[500, 550, 550, 500],\n",
    "    pf_coil_vertical_position=[270, 100, -100, -270],\n",
    "    rear_blanket_to_tf_gap=50,\n",
    "    outboard_tf_coil_radial_thickness=30,\n",
    "    outboard_tf_coil_poloidal_thickness=30,\n",
    ")\n",
    "\n",
    "my_reactor.show()"
   ]
  },
  {
   "cell_type": "code",
   "execution_count": null,
   "metadata": {},
   "outputs": [],
   "source": [
    "\n",
    "my_reactor.export_stp(filename='SubmersionTokamak.stp')\n",
    "\n",
    "my_reactor.export_svg('SubmersionTokamak/reactor.svg')\n",
    "\n",
    "my_reactor.export_stl(filename='SubmersionTokamak.stl')\n",
    "\n",
    "my_reactor.export_html('SubmersionTokamak/reactor.html')\n"
   ]
  }
 ],
 "metadata": {
  "kernelspec": {
   "display_name": "Python 3 (ipykernel)",
   "language": "python",
   "name": "python3"
  },
  "language_info": {
   "codemirror_mode": {
    "name": "ipython",
    "version": 3
   },
   "file_extension": ".py",
   "mimetype": "text/x-python",
   "name": "python",
   "nbconvert_exporter": "python",
   "pygments_lexer": "ipython3",
   "version": "3.9.5"
  }
 },
 "nbformat": 4,
 "nbformat_minor": 4
}
