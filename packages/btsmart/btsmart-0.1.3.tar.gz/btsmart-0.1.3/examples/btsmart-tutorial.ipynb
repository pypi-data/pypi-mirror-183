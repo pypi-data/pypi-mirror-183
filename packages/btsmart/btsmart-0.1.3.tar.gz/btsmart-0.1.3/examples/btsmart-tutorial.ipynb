{
 "cells": [
  {
   "cell_type": "markdown",
   "id": "8b231208",
   "metadata": {},
   "source": [
    "# How to use the BT-Smart-Controller in Python\n"
   ]
  },
  {
   "cell_type": "markdown",
   "id": "10e869d2",
   "metadata": {},
   "source": [
    "## The required Libraries and imports\n"
   ]
  },
  {
   "cell_type": "code",
   "execution_count": 7,
   "id": "76427ebd",
   "metadata": {},
   "outputs": [
    {
     "name": "stdout",
     "output_type": "stream",
     "text": [
      "Looking in indexes: https://test.pypi.org/simple/\n",
      "\u001b[31mERROR: Could not find a version that satisfies the requirement btsmart==0.1.1 (from versions: 0.0.1, 0.1.0)\u001b[0m\u001b[31m\n",
      "\u001b[0m\u001b[31mERROR: No matching distribution found for btsmart==0.1.1\u001b[0m\u001b[31m\n",
      "\u001b[0m"
     ]
    }
   ],
   "source": [
    "!pip install -i https://test.pypi.org/simple/ btsmart==0.1.1\n"
   ]
  },
  {
   "cell_type": "code",
   "execution_count": 5,
   "id": "82743fcf",
   "metadata": {},
   "outputs": [
    {
     "ename": "ModuleNotFoundError",
     "evalue": "No module named 'btsmart'",
     "output_type": "error",
     "traceback": [
      "\u001b[0;31m---------------------------------------------------------------------------\u001b[0m",
      "\u001b[0;31mModuleNotFoundError\u001b[0m                       Traceback (most recent call last)",
      "Input \u001b[0;32mIn [5]\u001b[0m, in \u001b[0;36m<cell line: 3>\u001b[0;34m()\u001b[0m\n\u001b[1;32m      1\u001b[0m \u001b[38;5;28;01mimport\u001b[39;00m \u001b[38;5;21;01masyncio\u001b[39;00m\n\u001b[1;32m      2\u001b[0m \u001b[38;5;28;01mimport\u001b[39;00m \u001b[38;5;21;01mbleak\u001b[39;00m\n\u001b[0;32m----> 3\u001b[0m \u001b[38;5;28;01mimport\u001b[39;00m \u001b[38;5;21;01mbtsmart\u001b[39;00m\n",
      "\u001b[0;31mModuleNotFoundError\u001b[0m: No module named 'btsmart'"
     ]
    }
   ],
   "source": [
    "import asyncio\n",
    "import bleak\n",
    "import btsmart"
   ]
  },
  {
   "cell_type": "code",
   "execution_count": null,
   "id": "d16c0c31",
   "metadata": {},
   "outputs": [],
   "source": []
  }
 ],
 "metadata": {
  "kernelspec": {
   "display_name": "Python 3 (ipykernel)",
   "language": "python",
   "name": "python3"
  },
  "language_info": {
   "codemirror_mode": {
    "name": "ipython",
    "version": 3
   },
   "file_extension": ".py",
   "mimetype": "text/x-python",
   "name": "python",
   "nbconvert_exporter": "python",
   "pygments_lexer": "ipython3",
   "version": "3.10.5"
  }
 },
 "nbformat": 4,
 "nbformat_minor": 5
}
