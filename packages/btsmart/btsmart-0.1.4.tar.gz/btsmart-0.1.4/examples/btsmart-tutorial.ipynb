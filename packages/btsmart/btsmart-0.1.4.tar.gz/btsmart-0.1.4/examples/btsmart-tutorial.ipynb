{
 "cells": [
  {
   "cell_type": "markdown",
   "id": "8b231208",
   "metadata": {},
   "source": [
    "# How to use the BT-Smart-Controller in Python\n"
   ]
  },
  {
   "cell_type": "markdown",
   "id": "10e869d2",
   "metadata": {},
   "source": [
    "## The required Libraries and imports\n"
   ]
  },
  {
   "cell_type": "code",
   "execution_count": 10,
   "id": "76427ebd",
   "metadata": {},
   "outputs": [
    {
     "name": "stdout",
     "output_type": "stream",
     "text": [
      "Looking in indexes: https://test.pypi.org/simple/\r\n",
      "Requirement already satisfied: btsmart==0.1.3 in /Library/Frameworks/Python.framework/Versions/3.10/lib/python3.10/site-packages (0.1.3)\r\n",
      "Requirement already satisfied: bleak in /Library/Frameworks/Python.framework/Versions/3.10/lib/python3.10/site-packages (from btsmart==0.1.3) (0.19.5)\r\n",
      "Requirement already satisfied: pyobjc-framework-libdispatch<9.0.0,>=8.5.1 in /Library/Frameworks/Python.framework/Versions/3.10/lib/python3.10/site-packages (from bleak->btsmart==0.1.3) (8.5.1)\r\n",
      "Requirement already satisfied: async-timeout<5,>=3.0.0 in /Library/Frameworks/Python.framework/Versions/3.10/lib/python3.10/site-packages (from bleak->btsmart==0.1.3) (4.0.2)\r\n",
      "Requirement already satisfied: pyobjc-framework-CoreBluetooth<9.0.0,>=8.5.1 in /Library/Frameworks/Python.framework/Versions/3.10/lib/python3.10/site-packages (from bleak->btsmart==0.1.3) (8.5.1)\r\n",
      "Requirement already satisfied: pyobjc-core<9.0.0,>=8.5.1 in /Library/Frameworks/Python.framework/Versions/3.10/lib/python3.10/site-packages (from bleak->btsmart==0.1.3) (8.5.1)\r\n",
      "Requirement already satisfied: pyobjc-framework-Cocoa>=8.5.1 in /Library/Frameworks/Python.framework/Versions/3.10/lib/python3.10/site-packages (from pyobjc-framework-CoreBluetooth<9.0.0,>=8.5.1->bleak->btsmart==0.1.3) (8.5.1)\r\n"
     ]
    }
   ],
   "source": [
    "!pip install -i https://test.pypi.org/simple/ btsmart==0.1.3\n"
   ]
  },
  {
   "cell_type": "code",
   "execution_count": 11,
   "id": "82743fcf",
   "metadata": {},
   "outputs": [],
   "source": [
    "import asyncio\n",
    "import bleak\n",
    "from btsmart import BTSmartController\n",
    "from btsmart import Button, Dimmer, MotorXM"
   ]
  },
  {
   "cell_type": "code",
   "execution_count": 12,
   "id": "d16c0c31",
   "metadata": {},
   "outputs": [],
   "source": [
    "btn = Button()\n",
    "dim = Dimmer()\n",
    "motor = MotorXM()"
   ]
  },
  {
   "cell_type": "code",
   "execution_count": 17,
   "id": "68a95cde",
   "metadata": {},
   "outputs": [
    {
     "name": "stdout",
     "output_type": "stream",
     "text": [
      "Button pressed\n",
      "Button released\n",
      "Button pressed\n",
      "Button released\n",
      "Button pressed\n",
      "Button released\n"
     ]
    }
   ],
   "source": [
    "async def butten_pressed():\n",
    "    print(\"Button pressed\")\n",
    "    await asyncio.gather(\n",
    "        dim.set_level(100),\n",
    "        motor.run_at(speed=150, time=1.0)\n",
    "    )\n",
    "\n",
    "async def butten_released():\n",
    "    print(\"Button released\")\n",
    "    await dim.set_level(0)\n",
    "\n",
    "btn.pressed = butten_pressed\n",
    "btn.released = butten_released"
   ]
  },
  {
   "cell_type": "code",
   "execution_count": 15,
   "id": "183d763e",
   "metadata": {},
   "outputs": [
    {
     "name": "stdout",
     "output_type": "stream",
     "text": [
      "BT Smart Controller - E709050F-1FC3-E7E5-5673-AE53568A1425\n"
     ]
    }
   ],
   "source": [
    "btSmart = await BTSmartController.discover()\n",
    "\n",
    "if btSmart is not None:\n",
    "    await btSmart.connect()"
   ]
  },
  {
   "cell_type": "code",
   "execution_count": 16,
   "id": "809a4769",
   "metadata": {},
   "outputs": [
    {
     "name": "stdout",
     "output_type": "stream",
     "text": [
      "Button pressed\n",
      "Button released\n",
      "Button pressed\n",
      "Button released\n",
      "Button pressed\n",
      "Button released\n",
      "Button pressed\n",
      "Button released\n",
      "Button pressed\n",
      "Button released\n",
      "Button pressed\n",
      "Button released\n",
      "Button pressed\n",
      "Button released\n",
      "Button pressed\n",
      "Button released\n"
     ]
    }
   ],
   "source": [
    "btn.attach(btSmart, 1)\n",
    "dim.attach(btSmart, 1)\n",
    "motor.attach(btSmart, 2)"
   ]
  },
  {
   "cell_type": "code",
   "execution_count": null,
   "id": "28559538",
   "metadata": {},
   "outputs": [],
   "source": []
  }
 ],
 "metadata": {
  "kernelspec": {
   "display_name": "Python 3 (ipykernel)",
   "language": "python",
   "name": "python3"
  },
  "language_info": {
   "codemirror_mode": {
    "name": "ipython",
    "version": 3
   },
   "file_extension": ".py",
   "mimetype": "text/x-python",
   "name": "python",
   "nbconvert_exporter": "python",
   "pygments_lexer": "ipython3",
   "version": "3.10.5"
  }
 },
 "nbformat": 4,
 "nbformat_minor": 5
}
