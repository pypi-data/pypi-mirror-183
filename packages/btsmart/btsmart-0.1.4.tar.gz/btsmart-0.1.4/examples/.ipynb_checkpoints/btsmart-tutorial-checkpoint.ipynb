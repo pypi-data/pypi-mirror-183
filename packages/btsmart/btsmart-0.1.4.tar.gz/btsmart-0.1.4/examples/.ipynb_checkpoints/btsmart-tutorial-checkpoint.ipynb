{
 "cells": [
  {
   "cell_type": "markdown",
   "id": "8b231208",
   "metadata": {},
   "source": [
    "# How to use the BT-Smart-Controller in Python\n"
   ]
  },
  {
   "cell_type": "markdown",
   "id": "10e869d2",
   "metadata": {},
   "source": [
    "## The required Libraries and imports\n"
   ]
  },
  {
   "cell_type": "code",
   "execution_count": null,
   "id": "76427ebd",
   "metadata": {},
   "outputs": [],
   "source": [
    "!pip install -i https://test.pypi.org/simple/ btsmart==0.1.3\n"
   ]
  },
  {
   "cell_type": "code",
   "execution_count": null,
   "id": "82743fcf",
   "metadata": {},
   "outputs": [],
   "source": [
    "import asyncio\n",
    "import bleak\n",
    "from btsmart import BTSmartController\n",
    "from btsmart import Button, Dimmer, MotorXM"
   ]
  },
  {
   "cell_type": "code",
   "execution_count": null,
   "id": "d16c0c31",
   "metadata": {},
   "outputs": [],
   "source": [
    "btn = Button()\n",
    "dim = Dimmer()\n",
    "motor = MotorXM()"
   ]
  },
  {
   "cell_type": "code",
   "execution_count": null,
   "id": "894528e4",
   "metadata": {},
   "outputs": [],
   "source": [
    "async def butten_pressed():\n",
    "    print(\"Button pressed\")\n",
    "    await asyncio.gather(\n",
    "        dim.set_level(100),\n",
    "        motor.run_at(speed=150, time=0.5)\n",
    "    )\n",
    "\n",
    "async def butten_released():\n",
    "    print(\"Button released\")\n",
    "    await dim.set_level(0)\n",
    "\n",
    "btn.pressed = butten_pressed\n",
    "btn.released = butten_released"
   ]
  },
  {
   "cell_type": "code",
   "execution_count": null,
   "id": "da1fc603",
   "metadata": {},
   "outputs": [],
   "source": [
    "btSmart = await BTSmartController.discover()\n",
    "\n",
    "if btSmart is not None:\n",
    "    await btSmart.connect()"
   ]
  },
  {
   "cell_type": "code",
   "execution_count": null,
   "id": "8e1f0d8c",
   "metadata": {},
   "outputs": [],
   "source": [
    "btn.attach(btSmart, 1)\n",
    "dim.attach(btSmart, 1)\n",
    "motor.attach(btSmart, 2)"
   ]
  },
  {
   "cell_type": "code",
   "execution_count": null,
   "id": "05a41a7e",
   "metadata": {},
   "outputs": [],
   "source": []
  }
 ],
 "metadata": {
  "kernelspec": {
   "display_name": "Python 3 (ipykernel)",
   "language": "python",
   "name": "python3"
  },
  "language_info": {
   "codemirror_mode": {
    "name": "ipython",
    "version": 3
   },
   "file_extension": ".py",
   "mimetype": "text/x-python",
   "name": "python",
   "nbconvert_exporter": "python",
   "pygments_lexer": "ipython3",
   "version": "3.10.5"
  }
 },
 "nbformat": 4,
 "nbformat_minor": 5
}
