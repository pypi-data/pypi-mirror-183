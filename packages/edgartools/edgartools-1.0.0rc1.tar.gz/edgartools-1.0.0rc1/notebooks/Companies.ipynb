{
 "cells": [
  {
   "cell_type": "markdown",
   "metadata": {
    "pycharm": {
     "name": "#%% md\n"
    }
   },
   "source": [
    "# Edgar company search"
   ]
  },
  {
   "cell_type": "code",
   "execution_count": 1,
   "metadata": {
    "pycharm": {
     "name": "#%%\n"
    }
   },
   "outputs": [],
   "source": [
    "%load_ext autoreload\n",
    "%autoreload 2\n",
    "%load_ext rich\n",
    "from rich import inspect"
   ]
  },
  {
   "cell_type": "code",
   "execution_count": 2,
   "metadata": {},
   "outputs": [],
   "source": [
    "import sys\n",
    "\n",
    "if not '..' in sys.path: sys.path.append('..')"
   ]
  },
  {
   "cell_type": "markdown",
   "metadata": {},
   "source": [
    "## Set your edgar identity"
   ]
  },
  {
   "cell_type": "code",
   "execution_count": 3,
   "metadata": {},
   "outputs": [
    {
     "data": {
      "text/html": [
       "<pre style=\"white-space:pre;overflow-x:auto;line-height:normal;font-family:Menlo,'DejaVu Sans Mono',consolas,'Courier New',monospace\"><span style=\"color: #7fbfbf; text-decoration-color: #7fbfbf\">[15:19:27] </span><span style=\"color: #000080; text-decoration-color: #000080\">INFO    </span> Identity of the Edgar REST client set to <span style=\"font-weight: bold\">[</span>Dwight Gunning dgunning@gmail.com<span style=\"font-weight: bold\">]</span>         <a href=\"file://C:\\Users\\dwight\\AppData\\Local\\hatch\\env\\virtual\\edgar\\3oOZMbs2\\edgar\\lib\\site-packages\\edgar\\core.py\" target=\"_blank\"><span style=\"color: #7f7f7f; text-decoration-color: #7f7f7f\">core.py</span></a><span style=\"color: #7f7f7f; text-decoration-color: #7f7f7f\">:</span><a href=\"file://C:\\Users\\dwight\\AppData\\Local\\hatch\\env\\virtual\\edgar\\3oOZMbs2\\edgar\\lib\\site-packages\\edgar\\core.py#49\" target=\"_blank\"><span style=\"color: #7f7f7f; text-decoration-color: #7f7f7f\">49</span></a>\n",
       "</pre>\n"
      ],
      "text/plain": [
       "\u001b[2;36m[15:19:27]\u001b[0m\u001b[2;36m \u001b[0m\u001b[34mINFO    \u001b[0m Identity of the Edgar REST client set to \u001b[1m[\u001b[0mDwight Gunning dgunning@gmail.com\u001b[1m]\u001b[0m         \u001b]8;id=206850;file://C:\\Users\\dwight\\AppData\\Local\\hatch\\env\\virtual\\edgar\\3oOZMbs2\\edgar\\lib\\site-packages\\edgar\\core.py\u001b\\\u001b[2mcore.py\u001b[0m\u001b]8;;\u001b\\\u001b[2m:\u001b[0m\u001b]8;id=625109;file://C:\\Users\\dwight\\AppData\\Local\\hatch\\env\\virtual\\edgar\\3oOZMbs2\\edgar\\lib\\site-packages\\edgar\\core.py#49\u001b\\\u001b[2m49\u001b[0m\u001b]8;;\u001b\\\n"
      ]
     },
     "metadata": {},
     "output_type": "display_data"
    }
   ],
   "source": [
    "from edgar import set_identity\n",
    "set_identity(\"Dwight Gunning dgunning@gmail.com\")"
   ]
  },
  {
   "cell_type": "code",
   "execution_count": 4,
   "metadata": {},
   "outputs": [
    {
     "data": {
      "text/html": [
       "<pre style=\"white-space:pre;overflow-x:auto;line-height:normal;font-family:Menlo,'DejaVu Sans Mono',consolas,'Courier New',monospace\"><span style=\"color: #008000; text-decoration-color: #008000\">'Dwight Gunning dgunning@gmail.com'</span>\n",
       "</pre>\n"
      ],
      "text/plain": [
       "\u001b[32m'Dwight Gunning dgunning@gmail.com'\u001b[0m\n"
      ]
     },
     "metadata": {},
     "output_type": "display_data"
    }
   ],
   "source": [
    "import os\n",
    "\n",
    "os.environ['EDGAR_IDENTITY']"
   ]
  },
  {
   "cell_type": "markdown",
   "metadata": {
    "pycharm": {
     "name": "#%% md\n"
    }
   },
   "source": [
    "## Find a company"
   ]
  },
  {
   "cell_type": "code",
   "execution_count": 5,
   "metadata": {
    "pycharm": {
     "name": "#%%\n"
    }
   },
   "outputs": [],
   "source": [
    "from edgar.company import Company, get_company_tickers"
   ]
  },
  {
   "cell_type": "markdown",
   "metadata": {},
   "source": [
    "### Find a company using a cik"
   ]
  },
  {
   "cell_type": "code",
   "execution_count": 6,
   "metadata": {
    "pycharm": {
     "name": "#%%\n"
    }
   },
   "outputs": [
    {
     "data": {
      "text/html": [
       "\n",
       "        <h3>Expedia Group, Inc.</h3>\n",
       "        <style type=\"text/css\">\n",
       "</style>\n",
       "<table id=\"T_2e7dd\">\n",
       "  <thead>\n",
       "    <tr>\n",
       "      <th id=\"T_2e7dd_level0_col0\" class=\"col_heading level0 col0\" >CIK</th>\n",
       "      <th id=\"T_2e7dd_level0_col1\" class=\"col_heading level0 col1\" >Industry</th>\n",
       "      <th id=\"T_2e7dd_level0_col2\" class=\"col_heading level0 col2\" >Category</th>\n",
       "    </tr>\n",
       "  </thead>\n",
       "  <tbody>\n",
       "    <tr>\n",
       "      <td id=\"T_2e7dd_row0_col0\" class=\"data row0 col0\" >1324424</td>\n",
       "      <td id=\"T_2e7dd_row0_col1\" class=\"data row0 col1\" >Transportation Services</td>\n",
       "      <td id=\"T_2e7dd_row0_col2\" class=\"data row0 col2\" >Large accelerated filer</td>\n",
       "    </tr>\n",
       "  </tbody>\n",
       "</table>\n",
       "\n",
       "        <style type=\"text/css\">\n",
       "</style>\n",
       "<table id=\"T_03a5f\">\n",
       "  <thead>\n",
       "    <tr>\n",
       "      <th id=\"T_03a5f_level0_col0\" class=\"col_heading level0 col0\" >Exchange</th>\n",
       "      <th id=\"T_03a5f_level0_col1\" class=\"col_heading level0 col1\" >Ticker</th>\n",
       "    </tr>\n",
       "  </thead>\n",
       "  <tbody>\n",
       "    <tr>\n",
       "      <td id=\"T_03a5f_row0_col0\" class=\"data row0 col0\" >Nasdaq</td>\n",
       "      <td id=\"T_03a5f_row0_col1\" class=\"data row0 col1\" >EXPE</td>\n",
       "    </tr>\n",
       "  </tbody>\n",
       "</table>\n",
       "\n",
       "        "
      ]
     },
     "execution_count": 6,
     "metadata": {},
     "output_type": "execute_result"
    }
   ],
   "source": [
    "expe = Company.for_cik(1324424)\n",
    "expe"
   ]
  },
  {
   "cell_type": "markdown",
   "metadata": {},
   "source": [
    "### Find a company using a ticker"
   ]
  },
  {
   "cell_type": "code",
   "execution_count": 7,
   "metadata": {},
   "outputs": [
    {
     "data": {
      "text/html": [
       "\n",
       "        <h3>Snowflake Inc.</h3>\n",
       "        <style type=\"text/css\">\n",
       "</style>\n",
       "<table id=\"T_fe6ac\">\n",
       "  <thead>\n",
       "    <tr>\n",
       "      <th id=\"T_fe6ac_level0_col0\" class=\"col_heading level0 col0\" >CIK</th>\n",
       "      <th id=\"T_fe6ac_level0_col1\" class=\"col_heading level0 col1\" >Industry</th>\n",
       "      <th id=\"T_fe6ac_level0_col2\" class=\"col_heading level0 col2\" >Category</th>\n",
       "    </tr>\n",
       "  </thead>\n",
       "  <tbody>\n",
       "    <tr>\n",
       "      <td id=\"T_fe6ac_row0_col0\" class=\"data row0 col0\" >1640147</td>\n",
       "      <td id=\"T_fe6ac_row0_col1\" class=\"data row0 col1\" >Services-Prepackaged Software</td>\n",
       "      <td id=\"T_fe6ac_row0_col2\" class=\"data row0 col2\" >Large accelerated filer</td>\n",
       "    </tr>\n",
       "  </tbody>\n",
       "</table>\n",
       "\n",
       "        <style type=\"text/css\">\n",
       "</style>\n",
       "<table id=\"T_2d8f4\">\n",
       "  <thead>\n",
       "    <tr>\n",
       "      <th id=\"T_2d8f4_level0_col0\" class=\"col_heading level0 col0\" >Exchange</th>\n",
       "      <th id=\"T_2d8f4_level0_col1\" class=\"col_heading level0 col1\" >Ticker</th>\n",
       "    </tr>\n",
       "  </thead>\n",
       "  <tbody>\n",
       "    <tr>\n",
       "      <td id=\"T_2d8f4_row0_col0\" class=\"data row0 col0\" >NYSE</td>\n",
       "      <td id=\"T_2d8f4_row0_col1\" class=\"data row0 col1\" >SNOW</td>\n",
       "    </tr>\n",
       "  </tbody>\n",
       "</table>\n",
       "\n",
       "        "
      ]
     },
     "execution_count": 7,
     "metadata": {},
     "output_type": "execute_result"
    }
   ],
   "source": [
    "snow = Company.for_ticker(\"snow\")\n",
    "snow"
   ]
  },
  {
   "cell_type": "code",
   "execution_count": 8,
   "metadata": {},
   "outputs": [
    {
     "data": {
      "text/html": [
       "<pre style=\"white-space:pre;overflow-x:auto;line-height:normal;font-family:Menlo,'DejaVu Sans Mono',consolas,'Courier New',monospace\"><span style=\"color: #000080; text-decoration-color: #000080\">╭─────────────────────────────── </span><span style=\"color: #000080; text-decoration-color: #000080; font-weight: bold\">&lt;</span><span style=\"color: #ff00ff; text-decoration-color: #ff00ff; font-weight: bold\">class</span><span style=\"color: #000000; text-decoration-color: #000000\"> </span><span style=\"color: #008000; text-decoration-color: #008000\">'edgar.company.Company'</span><span style=\"color: #000080; text-decoration-color: #000080; font-weight: bold\">&gt;</span><span style=\"color: #000080; text-decoration-color: #000080\"> ────────────────────────────────╮</span>\n",
       "<span style=\"color: #000080; text-decoration-color: #000080\">│</span> <span style=\"color: #008000; text-decoration-color: #008000\">╭────────────────────────────────────────────────────────────────────────────────────────────╮</span> <span style=\"color: #000080; text-decoration-color: #000080\">│</span>\n",
       "<span style=\"color: #000080; text-decoration-color: #000080\">│</span> <span style=\"color: #008000; text-decoration-color: #008000\">│</span> <span style=\"color: #800080; text-decoration-color: #800080; font-weight: bold\">Company</span><span style=\"font-weight: bold\">(</span>                                                                                   <span style=\"color: #008000; text-decoration-color: #008000\">│</span> <span style=\"color: #000080; text-decoration-color: #000080\">│</span>\n",
       "<span style=\"color: #000080; text-decoration-color: #000080\">│</span> <span style=\"color: #008000; text-decoration-color: #008000\">│</span> <span style=\"color: #7fbf7f; text-decoration-color: #7fbf7f\">│   </span><span style=\"color: #808000; text-decoration-color: #808000\">cik</span>=<span style=\"color: #008080; text-decoration-color: #008080; font-weight: bold\">1640147</span>,                                                                           <span style=\"color: #008000; text-decoration-color: #008000\">│</span> <span style=\"color: #000080; text-decoration-color: #000080\">│</span>\n",
       "<span style=\"color: #000080; text-decoration-color: #000080\">│</span> <span style=\"color: #008000; text-decoration-color: #008000\">│</span> <span style=\"color: #7fbf7f; text-decoration-color: #7fbf7f\">│   </span><span style=\"color: #808000; text-decoration-color: #808000\">name</span>=<span style=\"color: #008000; text-decoration-color: #008000\">'Snowflake Inc.'</span>,                                                                 <span style=\"color: #008000; text-decoration-color: #008000\">│</span> <span style=\"color: #000080; text-decoration-color: #000080\">│</span>\n",
       "<span style=\"color: #000080; text-decoration-color: #000080\">│</span> <span style=\"color: #008000; text-decoration-color: #008000\">│</span> <span style=\"color: #7fbf7f; text-decoration-color: #7fbf7f\">│   </span><span style=\"color: #808000; text-decoration-color: #808000\">tickers</span>=<span style=\"font-weight: bold\">[</span><span style=\"color: #008000; text-decoration-color: #008000\">'SNOW'</span><span style=\"font-weight: bold\">]</span>,                                                                      <span style=\"color: #008000; text-decoration-color: #008000\">│</span> <span style=\"color: #000080; text-decoration-color: #000080\">│</span>\n",
       "<span style=\"color: #000080; text-decoration-color: #000080\">│</span> <span style=\"color: #008000; text-decoration-color: #008000\">│</span> <span style=\"color: #7fbf7f; text-decoration-color: #7fbf7f\">│   </span><span style=\"color: #808000; text-decoration-color: #808000\">exchanges</span>=<span style=\"font-weight: bold\">[</span><span style=\"color: #008000; text-decoration-color: #008000\">'NYSE'</span><span style=\"font-weight: bold\">]</span>,                                                                    <span style=\"color: #008000; text-decoration-color: #008000\">│</span> <span style=\"color: #000080; text-decoration-color: #000080\">│</span>\n",
       "<span style=\"color: #000080; text-decoration-color: #000080\">│</span> <span style=\"color: #008000; text-decoration-color: #008000\">│</span> <span style=\"color: #7fbf7f; text-decoration-color: #7fbf7f\">│   </span><span style=\"color: #808000; text-decoration-color: #808000\">sic</span>=<span style=\"color: #008080; text-decoration-color: #008080; font-weight: bold\">7372</span>,                                                                              <span style=\"color: #008000; text-decoration-color: #008000\">│</span> <span style=\"color: #000080; text-decoration-color: #000080\">│</span>\n",
       "<span style=\"color: #000080; text-decoration-color: #000080\">│</span> <span style=\"color: #008000; text-decoration-color: #008000\">│</span> <span style=\"color: #7fbf7f; text-decoration-color: #7fbf7f\">│   </span><span style=\"color: #808000; text-decoration-color: #808000\">sic_description</span>=<span style=\"color: #008000; text-decoration-color: #008000\">'Services-Prepackaged Software'</span>,                                       <span style=\"color: #008000; text-decoration-color: #008000\">│</span> <span style=\"color: #000080; text-decoration-color: #000080\">│</span>\n",
       "<span style=\"color: #000080; text-decoration-color: #000080\">│</span> <span style=\"color: #008000; text-decoration-color: #008000\">│</span> <span style=\"color: #7fbf7f; text-decoration-color: #7fbf7f\">│   </span><span style=\"color: #808000; text-decoration-color: #808000\">category</span>=<span style=\"color: #008000; text-decoration-color: #008000\">'Large accelerated filer'</span>,                                                    <span style=\"color: #008000; text-decoration-color: #008000\">│</span> <span style=\"color: #000080; text-decoration-color: #000080\">│</span>\n",
       "<span style=\"color: #000080; text-decoration-color: #000080\">│</span> <span style=\"color: #008000; text-decoration-color: #008000\">│</span> <span style=\"color: #7fbf7f; text-decoration-color: #7fbf7f\">│   </span><span style=\"color: #808000; text-decoration-color: #808000\">fiscal_year_end</span>=<span style=\"color: #008000; text-decoration-color: #008000\">'0131'</span>,                                                                <span style=\"color: #008000; text-decoration-color: #008000\">│</span> <span style=\"color: #000080; text-decoration-color: #000080\">│</span>\n",
       "<span style=\"color: #000080; text-decoration-color: #000080\">│</span> <span style=\"color: #008000; text-decoration-color: #008000\">│</span> <span style=\"color: #7fbf7f; text-decoration-color: #7fbf7f\">│   </span><span style=\"color: #808000; text-decoration-color: #808000\">entity_type</span>=<span style=\"color: #008000; text-decoration-color: #008000\">'operating'</span>,                                                               <span style=\"color: #008000; text-decoration-color: #008000\">│</span> <span style=\"color: #000080; text-decoration-color: #000080\">│</span>\n",
       "<span style=\"color: #000080; text-decoration-color: #000080\">│</span> <span style=\"color: #008000; text-decoration-color: #008000\">│</span> <span style=\"color: #7fbf7f; text-decoration-color: #7fbf7f\">│   </span><span style=\"color: #808000; text-decoration-color: #808000\">phone</span>=<span style=\"color: #008000; text-decoration-color: #008000\">'844-766-9355'</span>,                                                                  <span style=\"color: #008000; text-decoration-color: #008000\">│</span> <span style=\"color: #000080; text-decoration-color: #000080\">│</span>\n",
       "<span style=\"color: #000080; text-decoration-color: #000080\">│</span> <span style=\"color: #008000; text-decoration-color: #008000\">│</span> <span style=\"color: #7fbf7f; text-decoration-color: #7fbf7f\">│   </span><span style=\"color: #808000; text-decoration-color: #808000\">flags</span>=<span style=\"color: #008000; text-decoration-color: #008000\">''</span>,                                                                              <span style=\"color: #008000; text-decoration-color: #008000\">│</span> <span style=\"color: #000080; text-decoration-color: #000080\">│</span>\n",
       "<span style=\"color: #000080; text-decoration-color: #000080\">│</span> <span style=\"color: #008000; text-decoration-color: #008000\">│</span> <span style=\"color: #7fbf7f; text-decoration-color: #7fbf7f\">│   </span><span style=\"color: #808000; text-decoration-color: #808000\">business_address</span>=<span style=\"color: #800080; text-decoration-color: #800080; font-weight: bold\">Address</span><span style=\"font-weight: bold\">(</span>                                                              <span style=\"color: #008000; text-decoration-color: #008000\">│</span> <span style=\"color: #000080; text-decoration-color: #000080\">│</span>\n",
       "<span style=\"color: #000080; text-decoration-color: #000080\">│</span> <span style=\"color: #008000; text-decoration-color: #008000\">│</span> <span style=\"color: #7fbf7f; text-decoration-color: #7fbf7f\">│   │   </span><span style=\"color: #808000; text-decoration-color: #808000\">street1</span>=<span style=\"color: #008000; text-decoration-color: #008000\">'106 EAST BABCOCK STREET'</span>,                                                 <span style=\"color: #008000; text-decoration-color: #008000\">│</span> <span style=\"color: #000080; text-decoration-color: #000080\">│</span>\n",
       "<span style=\"color: #000080; text-decoration-color: #000080\">│</span> <span style=\"color: #008000; text-decoration-color: #008000\">│</span> <span style=\"color: #7fbf7f; text-decoration-color: #7fbf7f\">│   │   </span><span style=\"color: #808000; text-decoration-color: #808000\">street2</span>=<span style=\"color: #008000; text-decoration-color: #008000\">'SUITE 3A'</span>,                                                                <span style=\"color: #008000; text-decoration-color: #008000\">│</span> <span style=\"color: #000080; text-decoration-color: #000080\">│</span>\n",
       "<span style=\"color: #000080; text-decoration-color: #000080\">│</span> <span style=\"color: #008000; text-decoration-color: #008000\">│</span> <span style=\"color: #7fbf7f; text-decoration-color: #7fbf7f\">│   │   </span><span style=\"color: #808000; text-decoration-color: #808000\">city</span>=<span style=\"color: #008000; text-decoration-color: #008000\">'BOZEMAN'</span>,                                                                    <span style=\"color: #008000; text-decoration-color: #008000\">│</span> <span style=\"color: #000080; text-decoration-color: #000080\">│</span>\n",
       "<span style=\"color: #000080; text-decoration-color: #000080\">│</span> <span style=\"color: #008000; text-decoration-color: #008000\">│</span> <span style=\"color: #7fbf7f; text-decoration-color: #7fbf7f\">│   │   </span><span style=\"color: #808000; text-decoration-color: #808000\">state_or_country</span>=<span style=\"color: #008000; text-decoration-color: #008000\">'MT'</span>,                                                             <span style=\"color: #008000; text-decoration-color: #008000\">│</span> <span style=\"color: #000080; text-decoration-color: #000080\">│</span>\n",
       "<span style=\"color: #000080; text-decoration-color: #000080\">│</span> <span style=\"color: #008000; text-decoration-color: #008000\">│</span> <span style=\"color: #7fbf7f; text-decoration-color: #7fbf7f\">│   │   </span><span style=\"color: #808000; text-decoration-color: #808000\">zipcode</span>=<span style=\"color: #008000; text-decoration-color: #008000\">'59715'</span>,                                                                   <span style=\"color: #008000; text-decoration-color: #008000\">│</span> <span style=\"color: #000080; text-decoration-color: #000080\">│</span>\n",
       "<span style=\"color: #000080; text-decoration-color: #000080\">│</span> <span style=\"color: #008000; text-decoration-color: #008000\">│</span> <span style=\"color: #7fbf7f; text-decoration-color: #7fbf7f\">│   │   </span><span style=\"color: #808000; text-decoration-color: #808000\">state_or_country_desc</span>=<span style=\"color: #008000; text-decoration-color: #008000\">'MT'</span>                                                         <span style=\"color: #008000; text-decoration-color: #008000\">│</span> <span style=\"color: #000080; text-decoration-color: #000080\">│</span>\n",
       "<span style=\"color: #000080; text-decoration-color: #000080\">│</span> <span style=\"color: #008000; text-decoration-color: #008000\">│</span> <span style=\"color: #7fbf7f; text-decoration-color: #7fbf7f\">│   </span><span style=\"font-weight: bold\">)</span>,                                                                                     <span style=\"color: #008000; text-decoration-color: #008000\">│</span> <span style=\"color: #000080; text-decoration-color: #000080\">│</span>\n",
       "<span style=\"color: #000080; text-decoration-color: #000080\">│</span> <span style=\"color: #008000; text-decoration-color: #008000\">│</span> <span style=\"color: #7fbf7f; text-decoration-color: #7fbf7f\">│   </span><span style=\"color: #808000; text-decoration-color: #808000\">mailing_address</span>=<span style=\"color: #800080; text-decoration-color: #800080; font-weight: bold\">Address</span><span style=\"font-weight: bold\">(</span>                                                               <span style=\"color: #008000; text-decoration-color: #008000\">│</span> <span style=\"color: #000080; text-decoration-color: #000080\">│</span>\n",
       "<span style=\"color: #000080; text-decoration-color: #000080\">│</span> <span style=\"color: #008000; text-decoration-color: #008000\">│</span> <span style=\"color: #7fbf7f; text-decoration-color: #7fbf7f\">│   │   </span><span style=\"color: #808000; text-decoration-color: #808000\">street1</span>=<span style=\"color: #008000; text-decoration-color: #008000\">'106 EAST BABCOCK STREET'</span>,                                                 <span style=\"color: #008000; text-decoration-color: #008000\">│</span> <span style=\"color: #000080; text-decoration-color: #000080\">│</span>\n",
       "<span style=\"color: #000080; text-decoration-color: #000080\">│</span> <span style=\"color: #008000; text-decoration-color: #008000\">│</span> <span style=\"color: #7fbf7f; text-decoration-color: #7fbf7f\">│   │   </span><span style=\"color: #808000; text-decoration-color: #808000\">street2</span>=<span style=\"color: #008000; text-decoration-color: #008000\">'SUITE 3A'</span>,                                                                <span style=\"color: #008000; text-decoration-color: #008000\">│</span> <span style=\"color: #000080; text-decoration-color: #000080\">│</span>\n",
       "<span style=\"color: #000080; text-decoration-color: #000080\">│</span> <span style=\"color: #008000; text-decoration-color: #008000\">│</span> <span style=\"color: #7fbf7f; text-decoration-color: #7fbf7f\">│   │   </span><span style=\"color: #808000; text-decoration-color: #808000\">city</span>=<span style=\"color: #008000; text-decoration-color: #008000\">'BOZEMAN'</span>,                                                                    <span style=\"color: #008000; text-decoration-color: #008000\">│</span> <span style=\"color: #000080; text-decoration-color: #000080\">│</span>\n",
       "<span style=\"color: #000080; text-decoration-color: #000080\">│</span> <span style=\"color: #008000; text-decoration-color: #008000\">│</span> <span style=\"color: #7fbf7f; text-decoration-color: #7fbf7f\">│   │   </span><span style=\"color: #808000; text-decoration-color: #808000\">state_or_country</span>=<span style=\"color: #008000; text-decoration-color: #008000\">'MT'</span>,                                                             <span style=\"color: #008000; text-decoration-color: #008000\">│</span> <span style=\"color: #000080; text-decoration-color: #000080\">│</span>\n",
       "<span style=\"color: #000080; text-decoration-color: #000080\">│</span> <span style=\"color: #008000; text-decoration-color: #008000\">│</span> <span style=\"color: #7fbf7f; text-decoration-color: #7fbf7f\">│   │   </span><span style=\"color: #808000; text-decoration-color: #808000\">zipcode</span>=<span style=\"color: #008000; text-decoration-color: #008000\">'59715'</span>,                                                                   <span style=\"color: #008000; text-decoration-color: #008000\">│</span> <span style=\"color: #000080; text-decoration-color: #000080\">│</span>\n",
       "<span style=\"color: #000080; text-decoration-color: #000080\">│</span> <span style=\"color: #008000; text-decoration-color: #008000\">│</span> <span style=\"color: #7fbf7f; text-decoration-color: #7fbf7f\">│   │   </span><span style=\"color: #808000; text-decoration-color: #808000\">state_or_country_desc</span>=<span style=\"color: #008000; text-decoration-color: #008000\">'MT'</span>                                                         <span style=\"color: #008000; text-decoration-color: #008000\">│</span> <span style=\"color: #000080; text-decoration-color: #000080\">│</span>\n",
       "<span style=\"color: #000080; text-decoration-color: #000080\">│</span> <span style=\"color: #008000; text-decoration-color: #008000\">│</span> <span style=\"color: #7fbf7f; text-decoration-color: #7fbf7f\">│   </span><span style=\"font-weight: bold\">)</span>,                                                                                     <span style=\"color: #008000; text-decoration-color: #008000\">│</span> <span style=\"color: #000080; text-decoration-color: #000080\">│</span>\n",
       "<span style=\"color: #000080; text-decoration-color: #000080\">│</span> <span style=\"color: #008000; text-decoration-color: #008000\">│</span> <span style=\"color: #7fbf7f; text-decoration-color: #7fbf7f\">│   </span><span style=\"color: #808000; text-decoration-color: #808000\">filings</span>=<span style=\"color: #800080; text-decoration-color: #800080\">Snowflake</span> Inc. <span style=\"color: #008080; text-decoration-color: #008080; font-weight: bold\">1640147</span> Filings - <span style=\"color: #008080; text-decoration-color: #008080; font-weight: bold\">322</span> in total from <span style=\"color: #008080; text-decoration-color: #008080; font-weight: bold\">2017</span>-<span style=\"color: #008080; text-decoration-color: #008080; font-weight: bold\">04</span>-<span style=\"color: #008080; text-decoration-color: #008080; font-weight: bold\">11</span> to <span style=\"color: #008080; text-decoration-color: #008080; font-weight: bold\">2022</span>-<span style=\"color: #008080; text-decoration-color: #008080; font-weight: bold\">12</span>-<span style=\"color: #008080; text-decoration-color: #008080; font-weight: bold\">14</span>    <span style=\"color: #008000; text-decoration-color: #008000\">│</span> <span style=\"color: #000080; text-decoration-color: #000080\">│</span>\n",
       "<span style=\"color: #000080; text-decoration-color: #000080\">│</span> <span style=\"color: #008000; text-decoration-color: #008000\">│</span> <span style=\"font-weight: bold\">)</span>                                                                                          <span style=\"color: #008000; text-decoration-color: #008000\">│</span> <span style=\"color: #000080; text-decoration-color: #000080\">│</span>\n",
       "<span style=\"color: #000080; text-decoration-color: #000080\">│</span> <span style=\"color: #008000; text-decoration-color: #008000\">╰────────────────────────────────────────────────────────────────────────────────────────────╯</span> <span style=\"color: #000080; text-decoration-color: #000080\">│</span>\n",
       "<span style=\"color: #000080; text-decoration-color: #000080\">│</span>                                                                                                <span style=\"color: #000080; text-decoration-color: #000080\">│</span>\n",
       "<span style=\"color: #000080; text-decoration-color: #000080\">│</span> <span style=\"color: #808000; text-decoration-color: #808000; font-style: italic\">business_address</span> = <span style=\"color: #800080; text-decoration-color: #800080; font-weight: bold\">Address</span><span style=\"font-weight: bold\">(</span>                                                                    <span style=\"color: #000080; text-decoration-color: #000080\">│</span>\n",
       "<span style=\"color: #000080; text-decoration-color: #000080\">│</span>                        <span style=\"color: #808000; text-decoration-color: #808000\">street1</span>=<span style=\"color: #008000; text-decoration-color: #008000\">'106 EAST BABCOCK STREET'</span>,                                      <span style=\"color: #000080; text-decoration-color: #000080\">│</span>\n",
       "<span style=\"color: #000080; text-decoration-color: #000080\">│</span>                        <span style=\"color: #808000; text-decoration-color: #808000\">street2</span>=<span style=\"color: #008000; text-decoration-color: #008000\">'SUITE 3A'</span>,                                                     <span style=\"color: #000080; text-decoration-color: #000080\">│</span>\n",
       "<span style=\"color: #000080; text-decoration-color: #000080\">│</span>                        <span style=\"color: #808000; text-decoration-color: #808000\">city</span>=<span style=\"color: #008000; text-decoration-color: #008000\">'BOZEMAN'</span>,                                                         <span style=\"color: #000080; text-decoration-color: #000080\">│</span>\n",
       "<span style=\"color: #000080; text-decoration-color: #000080\">│</span>                        <span style=\"color: #808000; text-decoration-color: #808000\">state_or_country</span>=<span style=\"color: #008000; text-decoration-color: #008000\">'MT'</span>,                                                  <span style=\"color: #000080; text-decoration-color: #000080\">│</span>\n",
       "<span style=\"color: #000080; text-decoration-color: #000080\">│</span>                        <span style=\"color: #808000; text-decoration-color: #808000\">zipcode</span>=<span style=\"color: #008000; text-decoration-color: #008000\">'59715'</span>,                                                        <span style=\"color: #000080; text-decoration-color: #000080\">│</span>\n",
       "<span style=\"color: #000080; text-decoration-color: #000080\">│</span>                        <span style=\"color: #808000; text-decoration-color: #808000\">state_or_country_desc</span>=<span style=\"color: #008000; text-decoration-color: #008000\">'MT'</span>                                              <span style=\"color: #000080; text-decoration-color: #000080\">│</span>\n",
       "<span style=\"color: #000080; text-decoration-color: #000080\">│</span>                    <span style=\"font-weight: bold\">)</span>                                                                           <span style=\"color: #000080; text-decoration-color: #000080\">│</span>\n",
       "<span style=\"color: #000080; text-decoration-color: #000080\">│</span>         <span style=\"color: #808000; text-decoration-color: #808000; font-style: italic\">category</span> = <span style=\"color: #008000; text-decoration-color: #008000\">'Large accelerated filer'</span>                                                   <span style=\"color: #000080; text-decoration-color: #000080\">│</span>\n",
       "<span style=\"color: #000080; text-decoration-color: #000080\">│</span>              <span style=\"color: #808000; text-decoration-color: #808000; font-style: italic\">cik</span> = <span style=\"color: #008080; text-decoration-color: #008080; font-weight: bold\">1640147</span>                                                                     <span style=\"color: #000080; text-decoration-color: #000080\">│</span>\n",
       "<span style=\"color: #000080; text-decoration-color: #000080\">│</span>      <span style=\"color: #808000; text-decoration-color: #808000; font-style: italic\">entity_type</span> = <span style=\"color: #008000; text-decoration-color: #008000\">'operating'</span>                                                                 <span style=\"color: #000080; text-decoration-color: #000080\">│</span>\n",
       "<span style=\"color: #000080; text-decoration-color: #000080\">│</span>        <span style=\"color: #808000; text-decoration-color: #808000; font-style: italic\">exchanges</span> = <span style=\"font-weight: bold\">[</span><span style=\"color: #008000; text-decoration-color: #008000\">'NYSE'</span><span style=\"font-weight: bold\">]</span>                                                                    <span style=\"color: #000080; text-decoration-color: #000080\">│</span>\n",
       "<span style=\"color: #000080; text-decoration-color: #000080\">│</span>          <span style=\"color: #808000; text-decoration-color: #808000; font-style: italic\">filings</span> = Snowflake Inc. <span style=\"color: #008080; text-decoration-color: #008080; font-weight: bold\">1640147</span> Filings - <span style=\"color: #008080; text-decoration-color: #008080; font-weight: bold\">322</span> in total from <span style=\"color: #008080; text-decoration-color: #008080; font-weight: bold\">2017</span>-<span style=\"color: #008080; text-decoration-color: #008080; font-weight: bold\">04</span>-<span style=\"color: #008080; text-decoration-color: #008080; font-weight: bold\">11</span> to <span style=\"color: #008080; text-decoration-color: #008080; font-weight: bold\">2022</span>-<span style=\"color: #008080; text-decoration-color: #008080; font-weight: bold\">12</span>-<span style=\"color: #008080; text-decoration-color: #008080; font-weight: bold\">14</span> <span style=\"color: #000080; text-decoration-color: #000080\">│</span>\n",
       "<span style=\"color: #000080; text-decoration-color: #000080\">│</span>  <span style=\"color: #808000; text-decoration-color: #808000; font-style: italic\">fiscal_year_end</span> = <span style=\"color: #008000; text-decoration-color: #008000\">'0131'</span>                                                                      <span style=\"color: #000080; text-decoration-color: #000080\">│</span>\n",
       "<span style=\"color: #000080; text-decoration-color: #000080\">│</span>            <span style=\"color: #808000; text-decoration-color: #808000; font-style: italic\">flags</span> = <span style=\"color: #008000; text-decoration-color: #008000\">''</span>                                                                          <span style=\"color: #000080; text-decoration-color: #000080\">│</span>\n",
       "<span style=\"color: #000080; text-decoration-color: #000080\">│</span>         <span style=\"color: #808000; text-decoration-color: #808000; font-style: italic\">industry</span> = <span style=\"color: #008000; text-decoration-color: #008000\">'Services-Prepackaged Software'</span>                                             <span style=\"color: #000080; text-decoration-color: #000080\">│</span>\n",
       "<span style=\"color: #000080; text-decoration-color: #000080\">│</span>  <span style=\"color: #808000; text-decoration-color: #808000; font-style: italic\">mailing_address</span> = <span style=\"color: #800080; text-decoration-color: #800080; font-weight: bold\">Address</span><span style=\"font-weight: bold\">(</span>                                                                    <span style=\"color: #000080; text-decoration-color: #000080\">│</span>\n",
       "<span style=\"color: #000080; text-decoration-color: #000080\">│</span>                        <span style=\"color: #808000; text-decoration-color: #808000\">street1</span>=<span style=\"color: #008000; text-decoration-color: #008000\">'106 EAST BABCOCK STREET'</span>,                                      <span style=\"color: #000080; text-decoration-color: #000080\">│</span>\n",
       "<span style=\"color: #000080; text-decoration-color: #000080\">│</span>                        <span style=\"color: #808000; text-decoration-color: #808000\">street2</span>=<span style=\"color: #008000; text-decoration-color: #008000\">'SUITE 3A'</span>,                                                     <span style=\"color: #000080; text-decoration-color: #000080\">│</span>\n",
       "<span style=\"color: #000080; text-decoration-color: #000080\">│</span>                        <span style=\"color: #808000; text-decoration-color: #808000\">city</span>=<span style=\"color: #008000; text-decoration-color: #008000\">'BOZEMAN'</span>,                                                         <span style=\"color: #000080; text-decoration-color: #000080\">│</span>\n",
       "<span style=\"color: #000080; text-decoration-color: #000080\">│</span>                        <span style=\"color: #808000; text-decoration-color: #808000\">state_or_country</span>=<span style=\"color: #008000; text-decoration-color: #008000\">'MT'</span>,                                                  <span style=\"color: #000080; text-decoration-color: #000080\">│</span>\n",
       "<span style=\"color: #000080; text-decoration-color: #000080\">│</span>                        <span style=\"color: #808000; text-decoration-color: #808000\">zipcode</span>=<span style=\"color: #008000; text-decoration-color: #008000\">'59715'</span>,                                                        <span style=\"color: #000080; text-decoration-color: #000080\">│</span>\n",
       "<span style=\"color: #000080; text-decoration-color: #000080\">│</span>                        <span style=\"color: #808000; text-decoration-color: #808000\">state_or_country_desc</span>=<span style=\"color: #008000; text-decoration-color: #008000\">'MT'</span>                                              <span style=\"color: #000080; text-decoration-color: #000080\">│</span>\n",
       "<span style=\"color: #000080; text-decoration-color: #000080\">│</span>                    <span style=\"font-weight: bold\">)</span>                                                                           <span style=\"color: #000080; text-decoration-color: #000080\">│</span>\n",
       "<span style=\"color: #000080; text-decoration-color: #000080\">│</span>             <span style=\"color: #808000; text-decoration-color: #808000; font-style: italic\">name</span> = <span style=\"color: #008000; text-decoration-color: #008000\">'Snowflake Inc.'</span>                                                            <span style=\"color: #000080; text-decoration-color: #000080\">│</span>\n",
       "<span style=\"color: #000080; text-decoration-color: #000080\">│</span>            <span style=\"color: #808000; text-decoration-color: #808000; font-style: italic\">phone</span> = <span style=\"color: #008000; text-decoration-color: #008000\">'844-766-9355'</span>                                                              <span style=\"color: #000080; text-decoration-color: #000080\">│</span>\n",
       "<span style=\"color: #000080; text-decoration-color: #000080\">│</span>              <span style=\"color: #808000; text-decoration-color: #808000; font-style: italic\">sic</span> = <span style=\"color: #008080; text-decoration-color: #008080; font-weight: bold\">7372</span>                                                                        <span style=\"color: #000080; text-decoration-color: #000080\">│</span>\n",
       "<span style=\"color: #000080; text-decoration-color: #000080\">│</span>  <span style=\"color: #808000; text-decoration-color: #808000; font-style: italic\">sic_description</span> = <span style=\"color: #008000; text-decoration-color: #008000\">'Services-Prepackaged Software'</span>                                             <span style=\"color: #000080; text-decoration-color: #000080\">│</span>\n",
       "<span style=\"color: #000080; text-decoration-color: #000080\">│</span>          <span style=\"color: #808000; text-decoration-color: #808000; font-style: italic\">tickers</span> = <span style=\"font-weight: bold\">[</span><span style=\"color: #008000; text-decoration-color: #008000\">'SNOW'</span><span style=\"font-weight: bold\">]</span>                                                                    <span style=\"color: #000080; text-decoration-color: #000080\">│</span>\n",
       "<span style=\"color: #000080; text-decoration-color: #000080\">╰────────────────────────────────────────────────────────────────────────────────────────────────╯</span>\n",
       "</pre>\n"
      ],
      "text/plain": [
       "\u001b[34m╭─\u001b[0m\u001b[34m──────────────────────────────\u001b[0m\u001b[34m \u001b[0m\u001b[1;34m<\u001b[0m\u001b[1;95mclass\u001b[0m\u001b[39m \u001b[0m\u001b[32m'edgar.company.Company'\u001b[0m\u001b[1;34m>\u001b[0m\u001b[34m \u001b[0m\u001b[34m───────────────────────────────\u001b[0m\u001b[34m─╮\u001b[0m\n",
       "\u001b[34m│\u001b[0m \u001b[32m╭────────────────────────────────────────────────────────────────────────────────────────────╮\u001b[0m \u001b[34m│\u001b[0m\n",
       "\u001b[34m│\u001b[0m \u001b[32m│\u001b[0m \u001b[1;35mCompany\u001b[0m\u001b[1m(\u001b[0m                                                                                   \u001b[32m│\u001b[0m \u001b[34m│\u001b[0m\n",
       "\u001b[34m│\u001b[0m \u001b[32m│\u001b[0m \u001b[2;32m│   \u001b[0m\u001b[33mcik\u001b[0m=\u001b[1;36m1640147\u001b[0m,                                                                           \u001b[32m│\u001b[0m \u001b[34m│\u001b[0m\n",
       "\u001b[34m│\u001b[0m \u001b[32m│\u001b[0m \u001b[2;32m│   \u001b[0m\u001b[33mname\u001b[0m=\u001b[32m'Snowflake Inc.'\u001b[0m,                                                                 \u001b[32m│\u001b[0m \u001b[34m│\u001b[0m\n",
       "\u001b[34m│\u001b[0m \u001b[32m│\u001b[0m \u001b[2;32m│   \u001b[0m\u001b[33mtickers\u001b[0m=\u001b[1m[\u001b[0m\u001b[32m'SNOW'\u001b[0m\u001b[1m]\u001b[0m,                                                                      \u001b[32m│\u001b[0m \u001b[34m│\u001b[0m\n",
       "\u001b[34m│\u001b[0m \u001b[32m│\u001b[0m \u001b[2;32m│   \u001b[0m\u001b[33mexchanges\u001b[0m=\u001b[1m[\u001b[0m\u001b[32m'NYSE'\u001b[0m\u001b[1m]\u001b[0m,                                                                    \u001b[32m│\u001b[0m \u001b[34m│\u001b[0m\n",
       "\u001b[34m│\u001b[0m \u001b[32m│\u001b[0m \u001b[2;32m│   \u001b[0m\u001b[33msic\u001b[0m=\u001b[1;36m7372\u001b[0m,                                                                              \u001b[32m│\u001b[0m \u001b[34m│\u001b[0m\n",
       "\u001b[34m│\u001b[0m \u001b[32m│\u001b[0m \u001b[2;32m│   \u001b[0m\u001b[33msic_description\u001b[0m=\u001b[32m'Services-Prepackaged Software'\u001b[0m,                                       \u001b[32m│\u001b[0m \u001b[34m│\u001b[0m\n",
       "\u001b[34m│\u001b[0m \u001b[32m│\u001b[0m \u001b[2;32m│   \u001b[0m\u001b[33mcategory\u001b[0m=\u001b[32m'Large accelerated filer'\u001b[0m,                                                    \u001b[32m│\u001b[0m \u001b[34m│\u001b[0m\n",
       "\u001b[34m│\u001b[0m \u001b[32m│\u001b[0m \u001b[2;32m│   \u001b[0m\u001b[33mfiscal_year_end\u001b[0m=\u001b[32m'0131'\u001b[0m,                                                                \u001b[32m│\u001b[0m \u001b[34m│\u001b[0m\n",
       "\u001b[34m│\u001b[0m \u001b[32m│\u001b[0m \u001b[2;32m│   \u001b[0m\u001b[33mentity_type\u001b[0m=\u001b[32m'operating'\u001b[0m,                                                               \u001b[32m│\u001b[0m \u001b[34m│\u001b[0m\n",
       "\u001b[34m│\u001b[0m \u001b[32m│\u001b[0m \u001b[2;32m│   \u001b[0m\u001b[33mphone\u001b[0m=\u001b[32m'844-766-9355'\u001b[0m,                                                                  \u001b[32m│\u001b[0m \u001b[34m│\u001b[0m\n",
       "\u001b[34m│\u001b[0m \u001b[32m│\u001b[0m \u001b[2;32m│   \u001b[0m\u001b[33mflags\u001b[0m=\u001b[32m''\u001b[0m,                                                                              \u001b[32m│\u001b[0m \u001b[34m│\u001b[0m\n",
       "\u001b[34m│\u001b[0m \u001b[32m│\u001b[0m \u001b[2;32m│   \u001b[0m\u001b[33mbusiness_address\u001b[0m=\u001b[1;35mAddress\u001b[0m\u001b[1m(\u001b[0m                                                              \u001b[32m│\u001b[0m \u001b[34m│\u001b[0m\n",
       "\u001b[34m│\u001b[0m \u001b[32m│\u001b[0m \u001b[2;32m│   │   \u001b[0m\u001b[33mstreet1\u001b[0m=\u001b[32m'106 EAST BABCOCK STREET'\u001b[0m,                                                 \u001b[32m│\u001b[0m \u001b[34m│\u001b[0m\n",
       "\u001b[34m│\u001b[0m \u001b[32m│\u001b[0m \u001b[2;32m│   │   \u001b[0m\u001b[33mstreet2\u001b[0m=\u001b[32m'SUITE 3A'\u001b[0m,                                                                \u001b[32m│\u001b[0m \u001b[34m│\u001b[0m\n",
       "\u001b[34m│\u001b[0m \u001b[32m│\u001b[0m \u001b[2;32m│   │   \u001b[0m\u001b[33mcity\u001b[0m=\u001b[32m'BOZEMAN'\u001b[0m,                                                                    \u001b[32m│\u001b[0m \u001b[34m│\u001b[0m\n",
       "\u001b[34m│\u001b[0m \u001b[32m│\u001b[0m \u001b[2;32m│   │   \u001b[0m\u001b[33mstate_or_country\u001b[0m=\u001b[32m'MT'\u001b[0m,                                                             \u001b[32m│\u001b[0m \u001b[34m│\u001b[0m\n",
       "\u001b[34m│\u001b[0m \u001b[32m│\u001b[0m \u001b[2;32m│   │   \u001b[0m\u001b[33mzipcode\u001b[0m=\u001b[32m'59715'\u001b[0m,                                                                   \u001b[32m│\u001b[0m \u001b[34m│\u001b[0m\n",
       "\u001b[34m│\u001b[0m \u001b[32m│\u001b[0m \u001b[2;32m│   │   \u001b[0m\u001b[33mstate_or_country_desc\u001b[0m=\u001b[32m'MT'\u001b[0m                                                         \u001b[32m│\u001b[0m \u001b[34m│\u001b[0m\n",
       "\u001b[34m│\u001b[0m \u001b[32m│\u001b[0m \u001b[2;32m│   \u001b[0m\u001b[1m)\u001b[0m,                                                                                     \u001b[32m│\u001b[0m \u001b[34m│\u001b[0m\n",
       "\u001b[34m│\u001b[0m \u001b[32m│\u001b[0m \u001b[2;32m│   \u001b[0m\u001b[33mmailing_address\u001b[0m=\u001b[1;35mAddress\u001b[0m\u001b[1m(\u001b[0m                                                               \u001b[32m│\u001b[0m \u001b[34m│\u001b[0m\n",
       "\u001b[34m│\u001b[0m \u001b[32m│\u001b[0m \u001b[2;32m│   │   \u001b[0m\u001b[33mstreet1\u001b[0m=\u001b[32m'106 EAST BABCOCK STREET'\u001b[0m,                                                 \u001b[32m│\u001b[0m \u001b[34m│\u001b[0m\n",
       "\u001b[34m│\u001b[0m \u001b[32m│\u001b[0m \u001b[2;32m│   │   \u001b[0m\u001b[33mstreet2\u001b[0m=\u001b[32m'SUITE 3A'\u001b[0m,                                                                \u001b[32m│\u001b[0m \u001b[34m│\u001b[0m\n",
       "\u001b[34m│\u001b[0m \u001b[32m│\u001b[0m \u001b[2;32m│   │   \u001b[0m\u001b[33mcity\u001b[0m=\u001b[32m'BOZEMAN'\u001b[0m,                                                                    \u001b[32m│\u001b[0m \u001b[34m│\u001b[0m\n",
       "\u001b[34m│\u001b[0m \u001b[32m│\u001b[0m \u001b[2;32m│   │   \u001b[0m\u001b[33mstate_or_country\u001b[0m=\u001b[32m'MT'\u001b[0m,                                                             \u001b[32m│\u001b[0m \u001b[34m│\u001b[0m\n",
       "\u001b[34m│\u001b[0m \u001b[32m│\u001b[0m \u001b[2;32m│   │   \u001b[0m\u001b[33mzipcode\u001b[0m=\u001b[32m'59715'\u001b[0m,                                                                   \u001b[32m│\u001b[0m \u001b[34m│\u001b[0m\n",
       "\u001b[34m│\u001b[0m \u001b[32m│\u001b[0m \u001b[2;32m│   │   \u001b[0m\u001b[33mstate_or_country_desc\u001b[0m=\u001b[32m'MT'\u001b[0m                                                         \u001b[32m│\u001b[0m \u001b[34m│\u001b[0m\n",
       "\u001b[34m│\u001b[0m \u001b[32m│\u001b[0m \u001b[2;32m│   \u001b[0m\u001b[1m)\u001b[0m,                                                                                     \u001b[32m│\u001b[0m \u001b[34m│\u001b[0m\n",
       "\u001b[34m│\u001b[0m \u001b[32m│\u001b[0m \u001b[2;32m│   \u001b[0m\u001b[33mfilings\u001b[0m=\u001b[35mSnowflake\u001b[0m Inc. \u001b[1;36m1640147\u001b[0m Filings - \u001b[1;36m322\u001b[0m in total from \u001b[1;36m2017\u001b[0m-\u001b[1;36m04\u001b[0m-\u001b[1;36m11\u001b[0m to \u001b[1;36m2022\u001b[0m-\u001b[1;36m12\u001b[0m-\u001b[1;36m14\u001b[0m    \u001b[32m│\u001b[0m \u001b[34m│\u001b[0m\n",
       "\u001b[34m│\u001b[0m \u001b[32m│\u001b[0m \u001b[1m)\u001b[0m                                                                                          \u001b[32m│\u001b[0m \u001b[34m│\u001b[0m\n",
       "\u001b[34m│\u001b[0m \u001b[32m╰────────────────────────────────────────────────────────────────────────────────────────────╯\u001b[0m \u001b[34m│\u001b[0m\n",
       "\u001b[34m│\u001b[0m                                                                                                \u001b[34m│\u001b[0m\n",
       "\u001b[34m│\u001b[0m \u001b[3;33mbusiness_address\u001b[0m = \u001b[1;35mAddress\u001b[0m\u001b[1m(\u001b[0m                                                                    \u001b[34m│\u001b[0m\n",
       "\u001b[34m│\u001b[0m                        \u001b[33mstreet1\u001b[0m=\u001b[32m'106 EAST BABCOCK STREET'\u001b[0m,                                      \u001b[34m│\u001b[0m\n",
       "\u001b[34m│\u001b[0m                        \u001b[33mstreet2\u001b[0m=\u001b[32m'SUITE 3A'\u001b[0m,                                                     \u001b[34m│\u001b[0m\n",
       "\u001b[34m│\u001b[0m                        \u001b[33mcity\u001b[0m=\u001b[32m'BOZEMAN'\u001b[0m,                                                         \u001b[34m│\u001b[0m\n",
       "\u001b[34m│\u001b[0m                        \u001b[33mstate_or_country\u001b[0m=\u001b[32m'MT'\u001b[0m,                                                  \u001b[34m│\u001b[0m\n",
       "\u001b[34m│\u001b[0m                        \u001b[33mzipcode\u001b[0m=\u001b[32m'59715'\u001b[0m,                                                        \u001b[34m│\u001b[0m\n",
       "\u001b[34m│\u001b[0m                        \u001b[33mstate_or_country_desc\u001b[0m=\u001b[32m'MT'\u001b[0m                                              \u001b[34m│\u001b[0m\n",
       "\u001b[34m│\u001b[0m                    \u001b[1m)\u001b[0m                                                                           \u001b[34m│\u001b[0m\n",
       "\u001b[34m│\u001b[0m         \u001b[3;33mcategory\u001b[0m = \u001b[32m'Large accelerated filer'\u001b[0m                                                   \u001b[34m│\u001b[0m\n",
       "\u001b[34m│\u001b[0m              \u001b[3;33mcik\u001b[0m = \u001b[1;36m1640147\u001b[0m                                                                     \u001b[34m│\u001b[0m\n",
       "\u001b[34m│\u001b[0m      \u001b[3;33mentity_type\u001b[0m = \u001b[32m'operating'\u001b[0m                                                                 \u001b[34m│\u001b[0m\n",
       "\u001b[34m│\u001b[0m        \u001b[3;33mexchanges\u001b[0m = \u001b[1m[\u001b[0m\u001b[32m'NYSE'\u001b[0m\u001b[1m]\u001b[0m                                                                    \u001b[34m│\u001b[0m\n",
       "\u001b[34m│\u001b[0m          \u001b[3;33mfilings\u001b[0m = Snowflake Inc. \u001b[1;36m1640147\u001b[0m Filings - \u001b[1;36m322\u001b[0m in total from \u001b[1;36m2017\u001b[0m-\u001b[1;36m04\u001b[0m-\u001b[1;36m11\u001b[0m to \u001b[1;36m2022\u001b[0m-\u001b[1;36m12\u001b[0m-\u001b[1;36m14\u001b[0m \u001b[34m│\u001b[0m\n",
       "\u001b[34m│\u001b[0m  \u001b[3;33mfiscal_year_end\u001b[0m = \u001b[32m'0131'\u001b[0m                                                                      \u001b[34m│\u001b[0m\n",
       "\u001b[34m│\u001b[0m            \u001b[3;33mflags\u001b[0m = \u001b[32m''\u001b[0m                                                                          \u001b[34m│\u001b[0m\n",
       "\u001b[34m│\u001b[0m         \u001b[3;33mindustry\u001b[0m = \u001b[32m'Services-Prepackaged Software'\u001b[0m                                             \u001b[34m│\u001b[0m\n",
       "\u001b[34m│\u001b[0m  \u001b[3;33mmailing_address\u001b[0m = \u001b[1;35mAddress\u001b[0m\u001b[1m(\u001b[0m                                                                    \u001b[34m│\u001b[0m\n",
       "\u001b[34m│\u001b[0m                        \u001b[33mstreet1\u001b[0m=\u001b[32m'106 EAST BABCOCK STREET'\u001b[0m,                                      \u001b[34m│\u001b[0m\n",
       "\u001b[34m│\u001b[0m                        \u001b[33mstreet2\u001b[0m=\u001b[32m'SUITE 3A'\u001b[0m,                                                     \u001b[34m│\u001b[0m\n",
       "\u001b[34m│\u001b[0m                        \u001b[33mcity\u001b[0m=\u001b[32m'BOZEMAN'\u001b[0m,                                                         \u001b[34m│\u001b[0m\n",
       "\u001b[34m│\u001b[0m                        \u001b[33mstate_or_country\u001b[0m=\u001b[32m'MT'\u001b[0m,                                                  \u001b[34m│\u001b[0m\n",
       "\u001b[34m│\u001b[0m                        \u001b[33mzipcode\u001b[0m=\u001b[32m'59715'\u001b[0m,                                                        \u001b[34m│\u001b[0m\n",
       "\u001b[34m│\u001b[0m                        \u001b[33mstate_or_country_desc\u001b[0m=\u001b[32m'MT'\u001b[0m                                              \u001b[34m│\u001b[0m\n",
       "\u001b[34m│\u001b[0m                    \u001b[1m)\u001b[0m                                                                           \u001b[34m│\u001b[0m\n",
       "\u001b[34m│\u001b[0m             \u001b[3;33mname\u001b[0m = \u001b[32m'Snowflake Inc.'\u001b[0m                                                            \u001b[34m│\u001b[0m\n",
       "\u001b[34m│\u001b[0m            \u001b[3;33mphone\u001b[0m = \u001b[32m'844-766-9355'\u001b[0m                                                              \u001b[34m│\u001b[0m\n",
       "\u001b[34m│\u001b[0m              \u001b[3;33msic\u001b[0m = \u001b[1;36m7372\u001b[0m                                                                        \u001b[34m│\u001b[0m\n",
       "\u001b[34m│\u001b[0m  \u001b[3;33msic_description\u001b[0m = \u001b[32m'Services-Prepackaged Software'\u001b[0m                                             \u001b[34m│\u001b[0m\n",
       "\u001b[34m│\u001b[0m          \u001b[3;33mtickers\u001b[0m = \u001b[1m[\u001b[0m\u001b[32m'SNOW'\u001b[0m\u001b[1m]\u001b[0m                                                                    \u001b[34m│\u001b[0m\n",
       "\u001b[34m╰────────────────────────────────────────────────────────────────────────────────────────────────╯\u001b[0m\n"
      ]
     },
     "metadata": {},
     "output_type": "display_data"
    }
   ],
   "source": [
    "inspect(snow)"
   ]
  },
  {
   "cell_type": "markdown",
   "metadata": {},
   "source": [
    "### Ticker symbol"
   ]
  },
  {
   "cell_type": "code",
   "execution_count": 9,
   "metadata": {},
   "outputs": [
    {
     "data": {
      "text/html": [
       "<pre style=\"white-space:pre;overflow-x:auto;line-height:normal;font-family:Menlo,'DejaVu Sans Mono',consolas,'Courier New',monospace\"><span style=\"font-weight: bold\">[</span><span style=\"color: #008000; text-decoration-color: #008000\">'SNOW'</span><span style=\"font-weight: bold\">]</span>\n",
       "</pre>\n"
      ],
      "text/plain": [
       "\u001b[1m[\u001b[0m\u001b[32m'SNOW'\u001b[0m\u001b[1m]\u001b[0m\n"
      ]
     },
     "metadata": {},
     "output_type": "display_data"
    }
   ],
   "source": [
    "snow.tickers"
   ]
  },
  {
   "cell_type": "markdown",
   "metadata": {},
   "source": [
    "### Industry"
   ]
  },
  {
   "cell_type": "code",
   "execution_count": 10,
   "metadata": {},
   "outputs": [
    {
     "data": {
      "text/html": [
       "<pre style=\"white-space:pre;overflow-x:auto;line-height:normal;font-family:Menlo,'DejaVu Sans Mono',consolas,'Courier New',monospace\"><span style=\"color: #008000; text-decoration-color: #008000\">'Services-Prepackaged Software'</span>\n",
       "</pre>\n"
      ],
      "text/plain": [
       "\u001b[32m'Services-Prepackaged Software'\u001b[0m\n"
      ]
     },
     "metadata": {},
     "output_type": "display_data"
    }
   ],
   "source": [
    "snow.industry"
   ]
  },
  {
   "cell_type": "markdown",
   "metadata": {},
   "source": [
    "## Company Filings"
   ]
  },
  {
   "cell_type": "code",
   "execution_count": 11,
   "metadata": {},
   "outputs": [
    {
     "data": {
      "text/html": [
       "\n",
       "            <h3>Filings for Snowflake Inc. - 1640147</h3>\n",
       "            <style type=\"text/css\">\n",
       "</style>\n",
       "<table id=\"T_ed09a\">\n",
       "  <thead>\n",
       "    <tr>\n",
       "      <th id=\"T_ed09a_level0_col0\" class=\"col_heading level0 col0\" >Count</th>\n",
       "      <th id=\"T_ed09a_level0_col1\" class=\"col_heading level0 col1\" >Start</th>\n",
       "      <th id=\"T_ed09a_level0_col2\" class=\"col_heading level0 col2\" >End</th>\n",
       "    </tr>\n",
       "  </thead>\n",
       "  <tbody>\n",
       "    <tr>\n",
       "      <td id=\"T_ed09a_row0_col0\" class=\"data row0 col0\" >7</td>\n",
       "      <td id=\"T_ed09a_row0_col1\" class=\"data row0 col1\" >2020-12-03</td>\n",
       "      <td id=\"T_ed09a_row0_col2\" class=\"data row0 col2\" >2022-12-02</td>\n",
       "    </tr>\n",
       "  </tbody>\n",
       "</table>\n",
       "\n",
       "        "
      ]
     },
     "execution_count": 11,
     "metadata": {},
     "output_type": "execute_result"
    }
   ],
   "source": [
    "filings = snow.get_filings(form='10-Q')\n",
    "filings"
   ]
  },
  {
   "cell_type": "markdown",
   "metadata": {},
   "source": [
    "### Get the latest filing"
   ]
  },
  {
   "cell_type": "code",
   "execution_count": 12,
   "metadata": {},
   "outputs": [
    {
     "data": {
      "text/html": [
       "<pre style=\"white-space:pre;overflow-x:auto;line-height:normal;font-family:Menlo,'DejaVu Sans Mono',consolas,'Courier New',monospace\"><span style=\"color: #800080; text-decoration-color: #800080; font-weight: bold\">Filing</span><span style=\"font-weight: bold\">(</span><span style=\"color: #808000; text-decoration-color: #808000\">form</span>=<span style=\"color: #008000; text-decoration-color: #008000\">'10-Q'</span>, <span style=\"color: #808000; text-decoration-color: #808000\">company</span>=<span style=\"color: #008000; text-decoration-color: #008000\">'Snowflake Inc.'</span>, <span style=\"color: #808000; text-decoration-color: #808000\">cik</span>=<span style=\"color: #008080; text-decoration-color: #008080; font-weight: bold\">1640147</span>, <span style=\"color: #808000; text-decoration-color: #808000\">date</span>=<span style=\"color: #008000; text-decoration-color: #008000\">'2022-12-02'</span>, <span style=\"color: #808000; text-decoration-color: #808000\">accession_no</span>=<span style=\"color: #008000; text-decoration-color: #008000\">'0001640147-22-000100'</span><span style=\"font-weight: bold\">)</span>\n",
       "</pre>\n"
      ],
      "text/plain": [
       "\u001b[1;35mFiling\u001b[0m\u001b[1m(\u001b[0m\u001b[33mform\u001b[0m=\u001b[32m'10-Q'\u001b[0m, \u001b[33mcompany\u001b[0m=\u001b[32m'Snowflake Inc.'\u001b[0m, \u001b[33mcik\u001b[0m=\u001b[1;36m1640147\u001b[0m, \u001b[33mdate\u001b[0m=\u001b[32m'2022-12-02'\u001b[0m, \u001b[33maccession_no\u001b[0m=\u001b[32m'0001640147-22-000100'\u001b[0m\u001b[1m)\u001b[0m\n"
      ]
     },
     "metadata": {},
     "output_type": "display_data"
    }
   ],
   "source": [
    "snow.get_filings(form='10-Q').latest()"
   ]
  },
  {
   "cell_type": "code",
   "execution_count": 13,
   "metadata": {},
   "outputs": [],
   "source": [
    "xbrl = snow.get_filings(form='10-Q').latest().xbrl()"
   ]
  },
  {
   "cell_type": "code",
   "execution_count": 16,
   "metadata": {},
   "outputs": [
    {
     "data": {
      "text/html": [
       "<pre style=\"white-space:pre;overflow-x:auto;line-height:normal;font-family:Menlo,'DejaVu Sans Mono',consolas,'Courier New',monospace\"><span style=\"color: #7fbfbf; text-decoration-color: #7fbfbf\">[15:20:25] </span><span style=\"color: #000080; text-decoration-color: #000080\">INFO    </span> Created an in-memory DuckDB database with table <span style=\"color: #008000; text-decoration-color: #008000\">'facts'</span>                              <a href=\"file://C:\\Users\\dwight\\AppData\\Local\\hatch\\env\\virtual\\edgar\\3oOZMbs2\\edgar\\lib\\site-packages\\edgar\\xbrl.py\" target=\"_blank\"><span style=\"color: #7f7f7f; text-decoration-color: #7f7f7f\">xbrl.py</span></a><span style=\"color: #7f7f7f; text-decoration-color: #7f7f7f\">:</span><a href=\"file://C:\\Users\\dwight\\AppData\\Local\\hatch\\env\\virtual\\edgar\\3oOZMbs2\\edgar\\lib\\site-packages\\edgar\\xbrl.py#53\" target=\"_blank\"><span style=\"color: #7f7f7f; text-decoration-color: #7f7f7f\">53</span></a>\n",
       "</pre>\n"
      ],
      "text/plain": [
       "\u001b[2;36m[15:20:25]\u001b[0m\u001b[2;36m \u001b[0m\u001b[34mINFO    \u001b[0m Created an in-memory DuckDB database with table \u001b[32m'facts'\u001b[0m                              \u001b]8;id=807760;file://C:\\Users\\dwight\\AppData\\Local\\hatch\\env\\virtual\\edgar\\3oOZMbs2\\edgar\\lib\\site-packages\\edgar\\xbrl.py\u001b\\\u001b[2mxbrl.py\u001b[0m\u001b]8;;\u001b\\\u001b[2m:\u001b[0m\u001b]8;id=654796;file://C:\\Users\\dwight\\AppData\\Local\\hatch\\env\\virtual\\edgar\\3oOZMbs2\\edgar\\lib\\site-packages\\edgar\\xbrl.py#53\u001b\\\u001b[2m53\u001b[0m\u001b]8;;\u001b\\\n"
      ]
     },
     "metadata": {},
     "output_type": "display_data"
    },
    {
     "data": {
      "text/html": [
       "<div>\n",
       "<style scoped>\n",
       "    .dataframe tbody tr th:only-of-type {\n",
       "        vertical-align: middle;\n",
       "    }\n",
       "\n",
       "    .dataframe tbody tr th {\n",
       "        vertical-align: top;\n",
       "    }\n",
       "\n",
       "    .dataframe thead th {\n",
       "        text-align: right;\n",
       "    }\n",
       "</style>\n",
       "<table border=\"1\" class=\"dataframe\">\n",
       "  <thead>\n",
       "    <tr style=\"text-align: right;\">\n",
       "      <th></th>\n",
       "      <th>fact</th>\n",
       "      <th>value</th>\n",
       "      <th>units</th>\n",
       "      <th>end_date</th>\n",
       "    </tr>\n",
       "  </thead>\n",
       "  <tbody>\n",
       "    <tr>\n",
       "      <th>0</th>\n",
       "      <td>CommonStockSharesIssued</td>\n",
       "      <td>321497000</td>\n",
       "      <td>shares</td>\n",
       "      <td>2022-10-31</td>\n",
       "    </tr>\n",
       "  </tbody>\n",
       "</table>\n",
       "</div>"
      ]
     },
     "execution_count": 16,
     "metadata": {},
     "output_type": "execute_result"
    }
   ],
   "source": [
    "xbrl.to_duckdb().execute(\n",
    "\"\"\"select  fact, value, units, end_date from facts where fact = 'CommonStockSharesIssued'\n",
    "        order by end_date desc limit 1\n",
    "\"\"\"\n",
    ").df()"
   ]
  },
  {
   "cell_type": "code",
   "execution_count": 17,
   "metadata": {},
   "outputs": [
    {
     "data": {
      "text/html": [
       "<pre style=\"white-space:pre;overflow-x:auto;line-height:normal;font-family:Menlo,'DejaVu Sans Mono',consolas,'Courier New',monospace\"><span style=\"color: #7fbfbf; text-decoration-color: #7fbfbf\">[15:20:48] </span><span style=\"color: #000080; text-decoration-color: #000080\">INFO    </span> Created an in-memory DuckDB database with table <span style=\"color: #008000; text-decoration-color: #008000\">'facts'</span>                              <a href=\"file://C:\\Users\\dwight\\AppData\\Local\\hatch\\env\\virtual\\edgar\\3oOZMbs2\\edgar\\lib\\site-packages\\edgar\\xbrl.py\" target=\"_blank\"><span style=\"color: #7f7f7f; text-decoration-color: #7f7f7f\">xbrl.py</span></a><span style=\"color: #7f7f7f; text-decoration-color: #7f7f7f\">:</span><a href=\"file://C:\\Users\\dwight\\AppData\\Local\\hatch\\env\\virtual\\edgar\\3oOZMbs2\\edgar\\lib\\site-packages\\edgar\\xbrl.py#53\" target=\"_blank\"><span style=\"color: #7f7f7f; text-decoration-color: #7f7f7f\">53</span></a>\n",
       "</pre>\n"
      ],
      "text/plain": [
       "\u001b[2;36m[15:20:48]\u001b[0m\u001b[2;36m \u001b[0m\u001b[34mINFO    \u001b[0m Created an in-memory DuckDB database with table \u001b[32m'facts'\u001b[0m                              \u001b]8;id=130354;file://C:\\Users\\dwight\\AppData\\Local\\hatch\\env\\virtual\\edgar\\3oOZMbs2\\edgar\\lib\\site-packages\\edgar\\xbrl.py\u001b\\\u001b[2mxbrl.py\u001b[0m\u001b]8;;\u001b\\\u001b[2m:\u001b[0m\u001b]8;id=182613;file://C:\\Users\\dwight\\AppData\\Local\\hatch\\env\\virtual\\edgar\\3oOZMbs2\\edgar\\lib\\site-packages\\edgar\\xbrl.py#53\u001b\\\u001b[2m53\u001b[0m\u001b]8;;\u001b\\\n"
      ]
     },
     "metadata": {},
     "output_type": "display_data"
    },
    {
     "data": {
      "text/html": [
       "<div>\n",
       "<style scoped>\n",
       "    .dataframe tbody tr th:only-of-type {\n",
       "        vertical-align: middle;\n",
       "    }\n",
       "\n",
       "    .dataframe tbody tr th {\n",
       "        vertical-align: top;\n",
       "    }\n",
       "\n",
       "    .dataframe thead th {\n",
       "        text-align: right;\n",
       "    }\n",
       "</style>\n",
       "<table border=\"1\" class=\"dataframe\">\n",
       "  <thead>\n",
       "    <tr style=\"text-align: right;\">\n",
       "      <th></th>\n",
       "      <th>fact</th>\n",
       "      <th>value</th>\n",
       "      <th>units</th>\n",
       "      <th>end_date</th>\n",
       "    </tr>\n",
       "  </thead>\n",
       "  <tbody>\n",
       "    <tr>\n",
       "      <th>0</th>\n",
       "      <td>CommonStockSharesIssued</td>\n",
       "      <td>321497000</td>\n",
       "      <td>shares</td>\n",
       "      <td>2022-10-31</td>\n",
       "    </tr>\n",
       "  </tbody>\n",
       "</table>\n",
       "</div>"
      ]
     },
     "execution_count": 17,
     "metadata": {},
     "output_type": "execute_result"
    }
   ],
   "source": [
    "(Company.for_ticker(\"SNOW\")\n",
    "        .get_filings(form=\"10-Q\")\n",
    "        .latest()\n",
    "        .xbrl()\n",
    "        .to_duckdb().execute(\n",
    "        \"\"\"select fact, value, units, end_date from facts \n",
    "           where fact = 'CommonStockSharesIssued' \n",
    "           order by end_date desc limit 1\n",
    "        \"\"\"\n",
    "    ).df()\n",
    ")"
   ]
  },
  {
   "cell_type": "code",
   "execution_count": null,
   "metadata": {},
   "outputs": [],
   "source": [
    "filings.to_pandas()"
   ]
  },
  {
   "cell_type": "markdown",
   "metadata": {},
   "source": [
    "## Working with a filing"
   ]
  },
  {
   "cell_type": "code",
   "execution_count": 2,
   "metadata": {},
   "outputs": [
    {
     "ename": "NameError",
     "evalue": "name 'filings' is not defined",
     "output_type": "error",
     "traceback": [
      "\u001b[1;31m---------------------------------------------------------------------------\u001b[0m",
      "\u001b[1;31mNameError\u001b[0m                                 Traceback (most recent call last)",
      "Cell \u001b[1;32mIn[2], line 1\u001b[0m\n\u001b[1;32m----> 1\u001b[0m filing \u001b[38;5;241m=\u001b[39m \u001b[43mfilings\u001b[49m[\u001b[38;5;241m0\u001b[39m]\n",
      "\u001b[1;31mNameError\u001b[0m: name 'filings' is not defined"
     ]
    }
   ],
   "source": [
    "filing = filings[0]"
   ]
  },
  {
   "cell_type": "code",
   "execution_count": 29,
   "metadata": {},
   "outputs": [
    {
     "data": {
      "text/html": [
       "<pre style=\"white-space:pre;overflow-x:auto;line-height:normal;font-family:Menlo,'DejaVu Sans Mono',consolas,'Courier New',monospace\"><span style=\"color: #000080; text-decoration-color: #000080\">╭───────────────────────────────────────── </span><span style=\"color: #000080; text-decoration-color: #000080; font-weight: bold\">&lt;</span><span style=\"color: #ff00ff; text-decoration-color: #ff00ff; font-weight: bold\">class</span><span style=\"color: #000000; text-decoration-color: #000000\"> </span><span style=\"color: #008000; text-decoration-color: #008000\">'edgar.filing.Filing'</span><span style=\"color: #000080; text-decoration-color: #000080; font-weight: bold\">&gt;</span><span style=\"color: #000080; text-decoration-color: #000080\"> ─────────────────────────────────────────╮</span>\n",
       "<span style=\"color: #000080; text-decoration-color: #000080\">│</span> <span style=\"color: #008080; text-decoration-color: #008080\">An SEC filing</span>                                                                                                   <span style=\"color: #000080; text-decoration-color: #000080\">│</span>\n",
       "<span style=\"color: #000080; text-decoration-color: #000080\">│</span>                                                                                                                 <span style=\"color: #000080; text-decoration-color: #000080\">│</span>\n",
       "<span style=\"color: #000080; text-decoration-color: #000080\">│</span> <span style=\"color: #008000; text-decoration-color: #008000\">╭─────────────────────────────────────────────────────────────────────────────────────────────────────────────╮</span> <span style=\"color: #000080; text-decoration-color: #000080\">│</span>\n",
       "<span style=\"color: #000080; text-decoration-color: #000080\">│</span> <span style=\"color: #008000; text-decoration-color: #008000\">│</span> <span style=\"color: #800080; text-decoration-color: #800080; font-weight: bold\">Filing</span><span style=\"font-weight: bold\">(</span><span style=\"color: #808000; text-decoration-color: #808000\">form</span>=<span style=\"color: #008000; text-decoration-color: #008000\">'10-Q'</span>, <span style=\"color: #808000; text-decoration-color: #808000\">company</span>=<span style=\"color: #008000; text-decoration-color: #008000\">'Snowflake Inc.'</span>, <span style=\"color: #808000; text-decoration-color: #808000\">cik</span>=<span style=\"color: #008080; text-decoration-color: #008080; font-weight: bold\">1640147</span>, <span style=\"color: #808000; text-decoration-color: #808000\">date</span>=<span style=\"color: #008000; text-decoration-color: #008000\">'2022-12-02'</span>,                               <span style=\"color: #008000; text-decoration-color: #008000\">│</span> <span style=\"color: #000080; text-decoration-color: #000080\">│</span>\n",
       "<span style=\"color: #000080; text-decoration-color: #000080\">│</span> <span style=\"color: #008000; text-decoration-color: #008000\">│</span> <span style=\"color: #808000; text-decoration-color: #808000\">accession_no</span>=<span style=\"color: #008000; text-decoration-color: #008000\">'0001640147-22-000100'</span><span style=\"font-weight: bold\">)</span>                                                                        <span style=\"color: #008000; text-decoration-color: #008000\">│</span> <span style=\"color: #000080; text-decoration-color: #000080\">│</span>\n",
       "<span style=\"color: #000080; text-decoration-color: #000080\">│</span> <span style=\"color: #008000; text-decoration-color: #008000\">╰─────────────────────────────────────────────────────────────────────────────────────────────────────────────╯</span> <span style=\"color: #000080; text-decoration-color: #000080\">│</span>\n",
       "<span style=\"color: #000080; text-decoration-color: #000080\">│</span>                                                                                                                 <span style=\"color: #000080; text-decoration-color: #000080\">│</span>\n",
       "<span style=\"color: #000080; text-decoration-color: #000080\">│</span> <span style=\"color: #808000; text-decoration-color: #808000; font-style: italic\">accession_no</span> = <span style=\"color: #008000; text-decoration-color: #008000\">'0001640147-22-000100'</span>                                                                           <span style=\"color: #000080; text-decoration-color: #000080\">│</span>\n",
       "<span style=\"color: #000080; text-decoration-color: #000080\">│</span>          <span style=\"color: #808000; text-decoration-color: #808000; font-style: italic\">cik</span> = <span style=\"color: #008080; text-decoration-color: #008080; font-weight: bold\">1640147</span>                                                                                          <span style=\"color: #000080; text-decoration-color: #000080\">│</span>\n",
       "<span style=\"color: #000080; text-decoration-color: #000080\">│</span>      <span style=\"color: #808000; text-decoration-color: #808000; font-style: italic\">company</span> = <span style=\"color: #008000; text-decoration-color: #008000\">'Snowflake Inc.'</span>                                                                                 <span style=\"color: #000080; text-decoration-color: #000080\">│</span>\n",
       "<span style=\"color: #000080; text-decoration-color: #000080\">│</span>         <span style=\"color: #808000; text-decoration-color: #808000; font-style: italic\">date</span> = <span style=\"color: #008000; text-decoration-color: #008000\">'2022-12-02'</span>                                                                                     <span style=\"color: #000080; text-decoration-color: #000080\">│</span>\n",
       "<span style=\"color: #000080; text-decoration-color: #000080\">│</span>         <span style=\"color: #808000; text-decoration-color: #808000; font-style: italic\">form</span> = <span style=\"color: #008000; text-decoration-color: #008000\">'10-Q'</span>                                                                                           <span style=\"color: #000080; text-decoration-color: #000080\">│</span>\n",
       "<span style=\"color: #000080; text-decoration-color: #000080\">│</span> <span style=\"color: #808000; text-decoration-color: #808000; font-style: italic\">homepage_url</span> = <span style=\"color: #008000; text-decoration-color: #008000\">'https://www.sec.gov/Archives/edgar/data/1640147/0001640147-22-000100-index.html'</span>                <span style=\"color: #000080; text-decoration-color: #000080\">│</span>\n",
       "<span style=\"color: #000080; text-decoration-color: #000080\">╰─────────────────────────────────────────────────────────────────────────────────────────────────────────────────╯</span>\n",
       "</pre>\n"
      ],
      "text/plain": [
       "\u001b[34m╭─\u001b[0m\u001b[34m────────────────────────────────────────\u001b[0m\u001b[34m \u001b[0m\u001b[1;34m<\u001b[0m\u001b[1;95mclass\u001b[0m\u001b[39m \u001b[0m\u001b[32m'edgar.filing.Filing'\u001b[0m\u001b[1;34m>\u001b[0m\u001b[34m \u001b[0m\u001b[34m────────────────────────────────────────\u001b[0m\u001b[34m─╮\u001b[0m\n",
       "\u001b[34m│\u001b[0m \u001b[36mAn SEC filing\u001b[0m                                                                                                   \u001b[34m│\u001b[0m\n",
       "\u001b[34m│\u001b[0m                                                                                                                 \u001b[34m│\u001b[0m\n",
       "\u001b[34m│\u001b[0m \u001b[32m╭─────────────────────────────────────────────────────────────────────────────────────────────────────────────╮\u001b[0m \u001b[34m│\u001b[0m\n",
       "\u001b[34m│\u001b[0m \u001b[32m│\u001b[0m \u001b[1;35mFiling\u001b[0m\u001b[1m(\u001b[0m\u001b[33mform\u001b[0m=\u001b[32m'10-Q'\u001b[0m, \u001b[33mcompany\u001b[0m=\u001b[32m'Snowflake Inc.'\u001b[0m, \u001b[33mcik\u001b[0m=\u001b[1;36m1640147\u001b[0m, \u001b[33mdate\u001b[0m=\u001b[32m'2022-12-02'\u001b[0m,                               \u001b[32m│\u001b[0m \u001b[34m│\u001b[0m\n",
       "\u001b[34m│\u001b[0m \u001b[32m│\u001b[0m \u001b[33maccession_no\u001b[0m=\u001b[32m'0001640147-22-000100'\u001b[0m\u001b[1m)\u001b[0m                                                                        \u001b[32m│\u001b[0m \u001b[34m│\u001b[0m\n",
       "\u001b[34m│\u001b[0m \u001b[32m╰─────────────────────────────────────────────────────────────────────────────────────────────────────────────╯\u001b[0m \u001b[34m│\u001b[0m\n",
       "\u001b[34m│\u001b[0m                                                                                                                 \u001b[34m│\u001b[0m\n",
       "\u001b[34m│\u001b[0m \u001b[3;33maccession_no\u001b[0m = \u001b[32m'0001640147-22-000100'\u001b[0m                                                                           \u001b[34m│\u001b[0m\n",
       "\u001b[34m│\u001b[0m          \u001b[3;33mcik\u001b[0m = \u001b[1;36m1640147\u001b[0m                                                                                          \u001b[34m│\u001b[0m\n",
       "\u001b[34m│\u001b[0m      \u001b[3;33mcompany\u001b[0m = \u001b[32m'Snowflake Inc.'\u001b[0m                                                                                 \u001b[34m│\u001b[0m\n",
       "\u001b[34m│\u001b[0m         \u001b[3;33mdate\u001b[0m = \u001b[32m'2022-12-02'\u001b[0m                                                                                     \u001b[34m│\u001b[0m\n",
       "\u001b[34m│\u001b[0m         \u001b[3;33mform\u001b[0m = \u001b[32m'10-Q'\u001b[0m                                                                                           \u001b[34m│\u001b[0m\n",
       "\u001b[34m│\u001b[0m \u001b[3;33mhomepage_url\u001b[0m = \u001b[32m'https://www.sec.gov/Archives/edgar/data/1640147/0001640147-22-000100-index.html'\u001b[0m                \u001b[34m│\u001b[0m\n",
       "\u001b[34m╰─────────────────────────────────────────────────────────────────────────────────────────────────────────────────╯\u001b[0m\n"
      ]
     },
     "metadata": {},
     "output_type": "display_data"
    }
   ],
   "source": [
    "inspect(filing)"
   ]
  },
  {
   "cell_type": "code",
   "execution_count": 32,
   "metadata": {},
   "outputs": [
    {
     "data": {
      "text/html": [
       "<pre style=\"white-space:pre;overflow-x:auto;line-height:normal;font-family:Menlo,'DejaVu Sans Mono',consolas,'Courier New',monospace\">Filing <span style=\"color: #800080; text-decoration-color: #800080; font-weight: bold\">XBRL</span><span style=\"font-weight: bold\">(</span>SNOWFLAKE INC. <span style=\"color: #008080; text-decoration-color: #008080; font-weight: bold\">0001640147</span> <span style=\"color: #008080; text-decoration-color: #008080; font-weight: bold\">10</span>-Q<span style=\"font-weight: bold\">)</span>\n",
       "</pre>\n"
      ],
      "text/plain": [
       "Filing \u001b[1;35mXBRL\u001b[0m\u001b[1m(\u001b[0mSNOWFLAKE INC. \u001b[1;36m0001640147\u001b[0m \u001b[1;36m10\u001b[0m-Q\u001b[1m)\u001b[0m\n"
      ]
     },
     "metadata": {},
     "output_type": "display_data"
    }
   ],
   "source": [
    "filing_xbrl = filing.xbrl()\n",
    "filing_xbrl"
   ]
  },
  {
   "cell_type": "code",
   "execution_count": 28,
   "metadata": {},
   "outputs": [
    {
     "data": {
      "text/html": [
       "<div>\n",
       "<style scoped>\n",
       "    .dataframe tbody tr th:only-of-type {\n",
       "        vertical-align: middle;\n",
       "    }\n",
       "\n",
       "    .dataframe tbody tr th {\n",
       "        vertical-align: top;\n",
       "    }\n",
       "\n",
       "    .dataframe thead th {\n",
       "        text-align: right;\n",
       "    }\n",
       "</style>\n",
       "<table border=\"1\" class=\"dataframe\">\n",
       "  <thead>\n",
       "    <tr style=\"text-align: right;\">\n",
       "      <th></th>\n",
       "      <th>namespace</th>\n",
       "      <th>fact</th>\n",
       "      <th>value</th>\n",
       "      <th>units</th>\n",
       "      <th>start_date</th>\n",
       "      <th>end_date</th>\n",
       "      <th>dimensions</th>\n",
       "    </tr>\n",
       "  </thead>\n",
       "  <tbody>\n",
       "    <tr>\n",
       "      <th>0</th>\n",
       "      <td>dei</td>\n",
       "      <td>EntityCentralIndexKey</td>\n",
       "      <td>0001640147</td>\n",
       "      <td>None</td>\n",
       "      <td>2022-02-01</td>\n",
       "      <td>2022-10-31</td>\n",
       "      <td>None</td>\n",
       "    </tr>\n",
       "    <tr>\n",
       "      <th>1</th>\n",
       "      <td>dei</td>\n",
       "      <td>CurrentFiscalYearEndDate</td>\n",
       "      <td>--01-31</td>\n",
       "      <td>None</td>\n",
       "      <td>2022-02-01</td>\n",
       "      <td>2022-10-31</td>\n",
       "      <td>None</td>\n",
       "    </tr>\n",
       "    <tr>\n",
       "      <th>2</th>\n",
       "      <td>dei</td>\n",
       "      <td>DocumentFiscalYearFocus</td>\n",
       "      <td>2023</td>\n",
       "      <td>None</td>\n",
       "      <td>2022-02-01</td>\n",
       "      <td>2022-10-31</td>\n",
       "      <td>None</td>\n",
       "    </tr>\n",
       "    <tr>\n",
       "      <th>3</th>\n",
       "      <td>dei</td>\n",
       "      <td>DocumentFiscalPeriodFocus</td>\n",
       "      <td>Q3</td>\n",
       "      <td>None</td>\n",
       "      <td>2022-02-01</td>\n",
       "      <td>2022-10-31</td>\n",
       "      <td>None</td>\n",
       "    </tr>\n",
       "    <tr>\n",
       "      <th>4</th>\n",
       "      <td>dei</td>\n",
       "      <td>AmendmentFlag</td>\n",
       "      <td>False</td>\n",
       "      <td>None</td>\n",
       "      <td>2022-02-01</td>\n",
       "      <td>2022-10-31</td>\n",
       "      <td>None</td>\n",
       "    </tr>\n",
       "    <tr>\n",
       "      <th>5</th>\n",
       "      <td>dei</td>\n",
       "      <td>DocumentType</td>\n",
       "      <td>10-Q</td>\n",
       "      <td>None</td>\n",
       "      <td>2022-02-01</td>\n",
       "      <td>2022-10-31</td>\n",
       "      <td>None</td>\n",
       "    </tr>\n",
       "    <tr>\n",
       "      <th>6</th>\n",
       "      <td>dei</td>\n",
       "      <td>DocumentQuarterlyReport</td>\n",
       "      <td>True</td>\n",
       "      <td>None</td>\n",
       "      <td>2022-02-01</td>\n",
       "      <td>2022-10-31</td>\n",
       "      <td>None</td>\n",
       "    </tr>\n",
       "    <tr>\n",
       "      <th>7</th>\n",
       "      <td>dei</td>\n",
       "      <td>DocumentPeriodEndDate</td>\n",
       "      <td>2022-10-31</td>\n",
       "      <td>None</td>\n",
       "      <td>2022-02-01</td>\n",
       "      <td>2022-10-31</td>\n",
       "      <td>None</td>\n",
       "    </tr>\n",
       "    <tr>\n",
       "      <th>8</th>\n",
       "      <td>dei</td>\n",
       "      <td>DocumentTransitionReport</td>\n",
       "      <td>False</td>\n",
       "      <td>None</td>\n",
       "      <td>2022-02-01</td>\n",
       "      <td>2022-10-31</td>\n",
       "      <td>None</td>\n",
       "    </tr>\n",
       "    <tr>\n",
       "      <th>9</th>\n",
       "      <td>dei</td>\n",
       "      <td>EntityFileNumber</td>\n",
       "      <td>001-39504</td>\n",
       "      <td>None</td>\n",
       "      <td>2022-02-01</td>\n",
       "      <td>2022-10-31</td>\n",
       "      <td>None</td>\n",
       "    </tr>\n",
       "    <tr>\n",
       "      <th>10</th>\n",
       "      <td>dei</td>\n",
       "      <td>EntityRegistrantName</td>\n",
       "      <td>SNOWFLAKE INC.</td>\n",
       "      <td>None</td>\n",
       "      <td>2022-02-01</td>\n",
       "      <td>2022-10-31</td>\n",
       "      <td>None</td>\n",
       "    </tr>\n",
       "    <tr>\n",
       "      <th>11</th>\n",
       "      <td>dei</td>\n",
       "      <td>EntityIncorporationStateCountryCode</td>\n",
       "      <td>DE</td>\n",
       "      <td>None</td>\n",
       "      <td>2022-02-01</td>\n",
       "      <td>2022-10-31</td>\n",
       "      <td>None</td>\n",
       "    </tr>\n",
       "    <tr>\n",
       "      <th>12</th>\n",
       "      <td>dei</td>\n",
       "      <td>EntityTaxIdentificationNumber</td>\n",
       "      <td>46-0636374</td>\n",
       "      <td>None</td>\n",
       "      <td>2022-02-01</td>\n",
       "      <td>2022-10-31</td>\n",
       "      <td>None</td>\n",
       "    </tr>\n",
       "    <tr>\n",
       "      <th>13</th>\n",
       "      <td>dei</td>\n",
       "      <td>EntityAddressAddressLine1</td>\n",
       "      <td>Suite 3A</td>\n",
       "      <td>None</td>\n",
       "      <td>2022-02-01</td>\n",
       "      <td>2022-10-31</td>\n",
       "      <td>None</td>\n",
       "    </tr>\n",
       "    <tr>\n",
       "      <th>14</th>\n",
       "      <td>dei</td>\n",
       "      <td>EntityAddressAddressLine2</td>\n",
       "      <td>106 East Babcock Street</td>\n",
       "      <td>None</td>\n",
       "      <td>2022-02-01</td>\n",
       "      <td>2022-10-31</td>\n",
       "      <td>None</td>\n",
       "    </tr>\n",
       "    <tr>\n",
       "      <th>15</th>\n",
       "      <td>dei</td>\n",
       "      <td>EntityAddressCityOrTown</td>\n",
       "      <td>Bozeman</td>\n",
       "      <td>None</td>\n",
       "      <td>2022-02-01</td>\n",
       "      <td>2022-10-31</td>\n",
       "      <td>None</td>\n",
       "    </tr>\n",
       "    <tr>\n",
       "      <th>16</th>\n",
       "      <td>dei</td>\n",
       "      <td>EntityAddressStateOrProvince</td>\n",
       "      <td>MT</td>\n",
       "      <td>None</td>\n",
       "      <td>2022-02-01</td>\n",
       "      <td>2022-10-31</td>\n",
       "      <td>None</td>\n",
       "    </tr>\n",
       "    <tr>\n",
       "      <th>17</th>\n",
       "      <td>dei</td>\n",
       "      <td>EntityAddressPostalZipCode</td>\n",
       "      <td>59715</td>\n",
       "      <td>None</td>\n",
       "      <td>2022-02-01</td>\n",
       "      <td>2022-10-31</td>\n",
       "      <td>None</td>\n",
       "    </tr>\n",
       "    <tr>\n",
       "      <th>18</th>\n",
       "      <td>dei</td>\n",
       "      <td>CityAreaCode</td>\n",
       "      <td>844</td>\n",
       "      <td>None</td>\n",
       "      <td>2022-02-01</td>\n",
       "      <td>2022-10-31</td>\n",
       "      <td>None</td>\n",
       "    </tr>\n",
       "    <tr>\n",
       "      <th>19</th>\n",
       "      <td>dei</td>\n",
       "      <td>LocalPhoneNumber</td>\n",
       "      <td>766-9355</td>\n",
       "      <td>None</td>\n",
       "      <td>2022-02-01</td>\n",
       "      <td>2022-10-31</td>\n",
       "      <td>None</td>\n",
       "    </tr>\n",
       "    <tr>\n",
       "      <th>20</th>\n",
       "      <td>dei</td>\n",
       "      <td>Security12bTitle</td>\n",
       "      <td>Class A Common Stock, $0.0001 par value</td>\n",
       "      <td>None</td>\n",
       "      <td>2022-02-01</td>\n",
       "      <td>2022-10-31</td>\n",
       "      <td>None</td>\n",
       "    </tr>\n",
       "    <tr>\n",
       "      <th>21</th>\n",
       "      <td>dei</td>\n",
       "      <td>TradingSymbol</td>\n",
       "      <td>SNOW</td>\n",
       "      <td>None</td>\n",
       "      <td>2022-02-01</td>\n",
       "      <td>2022-10-31</td>\n",
       "      <td>None</td>\n",
       "    </tr>\n",
       "    <tr>\n",
       "      <th>22</th>\n",
       "      <td>dei</td>\n",
       "      <td>SecurityExchangeName</td>\n",
       "      <td>NYSE</td>\n",
       "      <td>None</td>\n",
       "      <td>2022-02-01</td>\n",
       "      <td>2022-10-31</td>\n",
       "      <td>None</td>\n",
       "    </tr>\n",
       "    <tr>\n",
       "      <th>23</th>\n",
       "      <td>dei</td>\n",
       "      <td>EntityCurrentReportingStatus</td>\n",
       "      <td>Yes</td>\n",
       "      <td>None</td>\n",
       "      <td>2022-02-01</td>\n",
       "      <td>2022-10-31</td>\n",
       "      <td>None</td>\n",
       "    </tr>\n",
       "    <tr>\n",
       "      <th>24</th>\n",
       "      <td>dei</td>\n",
       "      <td>EntityInteractiveDataCurrent</td>\n",
       "      <td>Yes</td>\n",
       "      <td>None</td>\n",
       "      <td>2022-02-01</td>\n",
       "      <td>2022-10-31</td>\n",
       "      <td>None</td>\n",
       "    </tr>\n",
       "    <tr>\n",
       "      <th>25</th>\n",
       "      <td>dei</td>\n",
       "      <td>EntityFilerCategory</td>\n",
       "      <td>Large Accelerated Filer</td>\n",
       "      <td>None</td>\n",
       "      <td>2022-02-01</td>\n",
       "      <td>2022-10-31</td>\n",
       "      <td>None</td>\n",
       "    </tr>\n",
       "    <tr>\n",
       "      <th>26</th>\n",
       "      <td>dei</td>\n",
       "      <td>EntitySmallBusiness</td>\n",
       "      <td>False</td>\n",
       "      <td>None</td>\n",
       "      <td>2022-02-01</td>\n",
       "      <td>2022-10-31</td>\n",
       "      <td>None</td>\n",
       "    </tr>\n",
       "    <tr>\n",
       "      <th>27</th>\n",
       "      <td>dei</td>\n",
       "      <td>EntityEmergingGrowthCompany</td>\n",
       "      <td>False</td>\n",
       "      <td>None</td>\n",
       "      <td>2022-02-01</td>\n",
       "      <td>2022-10-31</td>\n",
       "      <td>None</td>\n",
       "    </tr>\n",
       "    <tr>\n",
       "      <th>28</th>\n",
       "      <td>dei</td>\n",
       "      <td>EntityShellCompany</td>\n",
       "      <td>False</td>\n",
       "      <td>None</td>\n",
       "      <td>2022-02-01</td>\n",
       "      <td>2022-10-31</td>\n",
       "      <td>None</td>\n",
       "    </tr>\n",
       "    <tr>\n",
       "      <th>29</th>\n",
       "      <td>dei</td>\n",
       "      <td>EntityCommonStockSharesOutstanding</td>\n",
       "      <td>321600000</td>\n",
       "      <td>shares</td>\n",
       "      <td>None</td>\n",
       "      <td>None</td>\n",
       "      <td>None</td>\n",
       "    </tr>\n",
       "  </tbody>\n",
       "</table>\n",
       "</div>"
      ]
     },
     "execution_count": 28,
     "metadata": {},
     "output_type": "execute_result"
    }
   ],
   "source": [
    "filing_xbrl.facts.query(\"namespace=='dei'\")"
   ]
  },
  {
   "cell_type": "markdown",
   "metadata": {},
   "source": [
    "## Company Facts"
   ]
  },
  {
   "cell_type": "code",
   "execution_count": 10,
   "metadata": {},
   "outputs": [
    {
     "data": {
      "text/html": [
       "<pre style=\"white-space:pre;overflow-x:auto;line-height:normal;font-family:Menlo,'DejaVu Sans Mono',consolas,'Courier New',monospace\">Company <span style=\"color: #800080; text-decoration-color: #800080; font-weight: bold\">Facts</span><span style=\"font-weight: bold\">(</span>SNOWFLAKE INC. <span style=\"font-weight: bold\">[</span><span style=\"color: #008080; text-decoration-color: #008080; font-weight: bold\">1640147</span><span style=\"font-weight: bold\">]</span> <span style=\"color: #008080; text-decoration-color: #008080; font-weight: bold\">3</span>,<span style=\"color: #008080; text-decoration-color: #008080; font-weight: bold\">672</span> total facts<span style=\"font-weight: bold\">)</span>\n",
       "</pre>\n"
      ],
      "text/plain": [
       "Company \u001b[1;35mFacts\u001b[0m\u001b[1m(\u001b[0mSNOWFLAKE INC. \u001b[1m[\u001b[0m\u001b[1;36m1640147\u001b[0m\u001b[1m]\u001b[0m \u001b[1;36m3\u001b[0m,\u001b[1;36m672\u001b[0m total facts\u001b[1m)\u001b[0m\n"
      ]
     },
     "metadata": {},
     "output_type": "display_data"
    }
   ],
   "source": [
    "facts = snow.get_facts()\n",
    "facts"
   ]
  },
  {
   "cell_type": "markdown",
   "metadata": {},
   "source": [
    "### Get facts as a DuckDB"
   ]
  },
  {
   "cell_type": "code",
   "execution_count": 11,
   "metadata": {},
   "outputs": [],
   "source": [
    "db = snow.get_facts().db()"
   ]
  },
  {
   "cell_type": "code",
   "execution_count": 12,
   "metadata": {},
   "outputs": [
    {
     "data": {
      "text/html": [
       "<div>\n",
       "<style scoped>\n",
       "    .dataframe tbody tr th:only-of-type {\n",
       "        vertical-align: middle;\n",
       "    }\n",
       "\n",
       "    .dataframe tbody tr th {\n",
       "        vertical-align: top;\n",
       "    }\n",
       "\n",
       "    .dataframe thead th {\n",
       "        text-align: right;\n",
       "    }\n",
       "</style>\n",
       "<table border=\"1\" class=\"dataframe\">\n",
       "  <thead>\n",
       "    <tr style=\"text-align: right;\">\n",
       "      <th></th>\n",
       "      <th>fact</th>\n",
       "      <th>val</th>\n",
       "      <th>filed</th>\n",
       "    </tr>\n",
       "  </thead>\n",
       "  <tbody>\n",
       "    <tr>\n",
       "      <th>0</th>\n",
       "      <td>EntityCommonStockSharesOutstanding</td>\n",
       "      <td>2.887000e+08</td>\n",
       "      <td>2021-03-31</td>\n",
       "    </tr>\n",
       "    <tr>\n",
       "      <th>1</th>\n",
       "      <td>EntityCommonStockSharesOutstanding</td>\n",
       "      <td>2.961000e+08</td>\n",
       "      <td>2021-06-04</td>\n",
       "    </tr>\n",
       "    <tr>\n",
       "      <th>2</th>\n",
       "      <td>EntityCommonStockSharesOutstanding</td>\n",
       "      <td>3.009000e+08</td>\n",
       "      <td>2021-09-02</td>\n",
       "    </tr>\n",
       "    <tr>\n",
       "      <th>3</th>\n",
       "      <td>EntityCommonStockSharesOutstanding</td>\n",
       "      <td>3.063000e+08</td>\n",
       "      <td>2021-12-03</td>\n",
       "    </tr>\n",
       "    <tr>\n",
       "      <th>4</th>\n",
       "      <td>EntityCommonStockSharesOutstanding</td>\n",
       "      <td>3.146000e+08</td>\n",
       "      <td>2022-03-30</td>\n",
       "    </tr>\n",
       "    <tr>\n",
       "      <th>...</th>\n",
       "      <td>...</td>\n",
       "      <td>...</td>\n",
       "      <td>...</td>\n",
       "    </tr>\n",
       "    <tr>\n",
       "      <th>3667</th>\n",
       "      <td>StockholdersEquityIncludingPortionAttributable...</td>\n",
       "      <td>4.964965e+09</td>\n",
       "      <td>2022-12-02</td>\n",
       "    </tr>\n",
       "    <tr>\n",
       "      <th>3668</th>\n",
       "      <td>StockholdersEquityIncludingPortionAttributable...</td>\n",
       "      <td>5.006682e+09</td>\n",
       "      <td>2022-12-02</td>\n",
       "    </tr>\n",
       "    <tr>\n",
       "      <th>3669</th>\n",
       "      <td>StockholdersEquityIncludingPortionAttributable...</td>\n",
       "      <td>5.049045e+09</td>\n",
       "      <td>2022-12-02</td>\n",
       "    </tr>\n",
       "    <tr>\n",
       "      <th>3670</th>\n",
       "      <td>StockholdersEquityIncludingPortionAttributable...</td>\n",
       "      <td>5.426323e+09</td>\n",
       "      <td>2022-12-02</td>\n",
       "    </tr>\n",
       "    <tr>\n",
       "      <th>3671</th>\n",
       "      <td>StockholdersEquityIncludingPortionAttributable...</td>\n",
       "      <td>5.423271e+09</td>\n",
       "      <td>2022-12-02</td>\n",
       "    </tr>\n",
       "  </tbody>\n",
       "</table>\n",
       "<p>3672 rows × 3 columns</p>\n",
       "</div>"
      ]
     },
     "execution_count": 12,
     "metadata": {},
     "output_type": "execute_result"
    }
   ],
   "source": [
    "db.execute(\n",
    "\"select fact, val, filed from facts\"\n",
    ").df()"
   ]
  },
  {
   "cell_type": "markdown",
   "metadata": {},
   "source": [
    "### Facts to pandas dataframe"
   ]
  },
  {
   "cell_type": "code",
   "execution_count": 13,
   "metadata": {},
   "outputs": [
    {
     "data": {
      "text/html": [
       "<div>\n",
       "<style scoped>\n",
       "    .dataframe tbody tr th:only-of-type {\n",
       "        vertical-align: middle;\n",
       "    }\n",
       "\n",
       "    .dataframe tbody tr th {\n",
       "        vertical-align: top;\n",
       "    }\n",
       "\n",
       "    .dataframe thead th {\n",
       "        text-align: right;\n",
       "    }\n",
       "</style>\n",
       "<table border=\"1\" class=\"dataframe\">\n",
       "  <thead>\n",
       "    <tr style=\"text-align: right;\">\n",
       "      <th></th>\n",
       "      <th>namespace</th>\n",
       "      <th>fact</th>\n",
       "      <th>val</th>\n",
       "      <th>accn</th>\n",
       "      <th>end</th>\n",
       "      <th>fy</th>\n",
       "      <th>fp</th>\n",
       "      <th>form</th>\n",
       "      <th>filed</th>\n",
       "      <th>frame</th>\n",
       "      <th>start</th>\n",
       "    </tr>\n",
       "  </thead>\n",
       "  <tbody>\n",
       "    <tr>\n",
       "      <th>0</th>\n",
       "      <td>dei</td>\n",
       "      <td>EntityCommonStockSharesOutstanding</td>\n",
       "      <td>2.887000e+08</td>\n",
       "      <td>0001640147-21-000073</td>\n",
       "      <td>2021-03-01</td>\n",
       "      <td>2020</td>\n",
       "      <td>FY</td>\n",
       "      <td>10-K</td>\n",
       "      <td>2021-03-31</td>\n",
       "      <td>CY2021Q1I</td>\n",
       "      <td>None</td>\n",
       "    </tr>\n",
       "    <tr>\n",
       "      <th>1</th>\n",
       "      <td>dei</td>\n",
       "      <td>EntityCommonStockSharesOutstanding</td>\n",
       "      <td>2.961000e+08</td>\n",
       "      <td>0001640147-21-000122</td>\n",
       "      <td>2021-05-14</td>\n",
       "      <td>2022</td>\n",
       "      <td>Q1</td>\n",
       "      <td>10-Q</td>\n",
       "      <td>2021-06-04</td>\n",
       "      <td>None</td>\n",
       "      <td>None</td>\n",
       "    </tr>\n",
       "    <tr>\n",
       "      <th>2</th>\n",
       "      <td>dei</td>\n",
       "      <td>EntityCommonStockSharesOutstanding</td>\n",
       "      <td>3.009000e+08</td>\n",
       "      <td>0001640147-21-000212</td>\n",
       "      <td>2021-08-20</td>\n",
       "      <td>2022</td>\n",
       "      <td>Q2</td>\n",
       "      <td>10-Q</td>\n",
       "      <td>2021-09-02</td>\n",
       "      <td>CY2021Q3I</td>\n",
       "      <td>None</td>\n",
       "    </tr>\n",
       "    <tr>\n",
       "      <th>3</th>\n",
       "      <td>dei</td>\n",
       "      <td>EntityCommonStockSharesOutstanding</td>\n",
       "      <td>3.063000e+08</td>\n",
       "      <td>0001640147-21-000271</td>\n",
       "      <td>2021-11-19</td>\n",
       "      <td>2022</td>\n",
       "      <td>Q3</td>\n",
       "      <td>10-Q</td>\n",
       "      <td>2021-12-03</td>\n",
       "      <td>CY2021Q4I</td>\n",
       "      <td>None</td>\n",
       "    </tr>\n",
       "    <tr>\n",
       "      <th>4</th>\n",
       "      <td>dei</td>\n",
       "      <td>EntityCommonStockSharesOutstanding</td>\n",
       "      <td>3.146000e+08</td>\n",
       "      <td>0001640147-22-000023</td>\n",
       "      <td>2022-03-18</td>\n",
       "      <td>2022</td>\n",
       "      <td>FY</td>\n",
       "      <td>10-K</td>\n",
       "      <td>2022-03-30</td>\n",
       "      <td>CY2022Q1I</td>\n",
       "      <td>None</td>\n",
       "    </tr>\n",
       "    <tr>\n",
       "      <th>...</th>\n",
       "      <td>...</td>\n",
       "      <td>...</td>\n",
       "      <td>...</td>\n",
       "      <td>...</td>\n",
       "      <td>...</td>\n",
       "      <td>...</td>\n",
       "      <td>...</td>\n",
       "      <td>...</td>\n",
       "      <td>...</td>\n",
       "      <td>...</td>\n",
       "      <td>...</td>\n",
       "    </tr>\n",
       "    <tr>\n",
       "      <th>3667</th>\n",
       "      <td>us-gaap</td>\n",
       "      <td>StockholdersEquityIncludingPortionAttributable...</td>\n",
       "      <td>4.964965e+09</td>\n",
       "      <td>0001640147-22-000100</td>\n",
       "      <td>2021-07-31</td>\n",
       "      <td>2023</td>\n",
       "      <td>Q3</td>\n",
       "      <td>10-Q</td>\n",
       "      <td>2022-12-02</td>\n",
       "      <td>CY2021Q2I</td>\n",
       "      <td>None</td>\n",
       "    </tr>\n",
       "    <tr>\n",
       "      <th>3668</th>\n",
       "      <td>us-gaap</td>\n",
       "      <td>StockholdersEquityIncludingPortionAttributable...</td>\n",
       "      <td>5.006682e+09</td>\n",
       "      <td>0001640147-22-000100</td>\n",
       "      <td>2021-10-31</td>\n",
       "      <td>2023</td>\n",
       "      <td>Q3</td>\n",
       "      <td>10-Q</td>\n",
       "      <td>2022-12-02</td>\n",
       "      <td>CY2021Q3I</td>\n",
       "      <td>None</td>\n",
       "    </tr>\n",
       "    <tr>\n",
       "      <th>3669</th>\n",
       "      <td>us-gaap</td>\n",
       "      <td>StockholdersEquityIncludingPortionAttributable...</td>\n",
       "      <td>5.049045e+09</td>\n",
       "      <td>0001640147-22-000100</td>\n",
       "      <td>2022-01-31</td>\n",
       "      <td>2023</td>\n",
       "      <td>Q3</td>\n",
       "      <td>10-Q</td>\n",
       "      <td>2022-12-02</td>\n",
       "      <td>CY2021Q4I</td>\n",
       "      <td>None</td>\n",
       "    </tr>\n",
       "    <tr>\n",
       "      <th>3670</th>\n",
       "      <td>us-gaap</td>\n",
       "      <td>StockholdersEquityIncludingPortionAttributable...</td>\n",
       "      <td>5.426323e+09</td>\n",
       "      <td>0001640147-22-000100</td>\n",
       "      <td>2022-07-31</td>\n",
       "      <td>2023</td>\n",
       "      <td>Q3</td>\n",
       "      <td>10-Q</td>\n",
       "      <td>2022-12-02</td>\n",
       "      <td>CY2022Q2I</td>\n",
       "      <td>None</td>\n",
       "    </tr>\n",
       "    <tr>\n",
       "      <th>3671</th>\n",
       "      <td>us-gaap</td>\n",
       "      <td>StockholdersEquityIncludingPortionAttributable...</td>\n",
       "      <td>5.423271e+09</td>\n",
       "      <td>0001640147-22-000100</td>\n",
       "      <td>2022-10-31</td>\n",
       "      <td>2023</td>\n",
       "      <td>Q3</td>\n",
       "      <td>10-Q</td>\n",
       "      <td>2022-12-02</td>\n",
       "      <td>CY2022Q3I</td>\n",
       "      <td>None</td>\n",
       "    </tr>\n",
       "  </tbody>\n",
       "</table>\n",
       "<p>3672 rows × 11 columns</p>\n",
       "</div>"
      ]
     },
     "execution_count": 13,
     "metadata": {},
     "output_type": "execute_result"
    }
   ],
   "source": [
    "facts.to_pandas()"
   ]
  },
  {
   "cell_type": "code",
   "execution_count": 14,
   "metadata": {},
   "outputs": [],
   "source": [
    "from edgar.company import Company, get_company_tickers\n",
    "tickers = get_company_tickers()"
   ]
  },
  {
   "cell_type": "code",
   "execution_count": 15,
   "metadata": {},
   "outputs": [
    {
     "data": {
      "text/html": [
       "<div>\n",
       "<style scoped>\n",
       "    .dataframe tbody tr th:only-of-type {\n",
       "        vertical-align: middle;\n",
       "    }\n",
       "\n",
       "    .dataframe tbody tr th {\n",
       "        vertical-align: top;\n",
       "    }\n",
       "\n",
       "    .dataframe thead th {\n",
       "        text-align: right;\n",
       "    }\n",
       "</style>\n",
       "<table border=\"1\" class=\"dataframe\">\n",
       "  <thead>\n",
       "    <tr style=\"text-align: right;\">\n",
       "      <th></th>\n",
       "      <th>CIK</th>\n",
       "    </tr>\n",
       "  </thead>\n",
       "  <tbody>\n",
       "    <tr>\n",
       "      <th>312070</th>\n",
       "      <td>41</td>\n",
       "    </tr>\n",
       "    <tr>\n",
       "      <th>1114446</th>\n",
       "      <td>29</td>\n",
       "    </tr>\n",
       "    <tr>\n",
       "      <th>1026214</th>\n",
       "      <td>24</td>\n",
       "    </tr>\n",
       "    <tr>\n",
       "      <th>927971</th>\n",
       "      <td>17</td>\n",
       "    </tr>\n",
       "    <tr>\n",
       "      <th>70858</th>\n",
       "      <td>17</td>\n",
       "    </tr>\n",
       "    <tr>\n",
       "      <th>...</th>\n",
       "      <td>...</td>\n",
       "    </tr>\n",
       "    <tr>\n",
       "      <th>877463</th>\n",
       "      <td>1</td>\n",
       "    </tr>\n",
       "    <tr>\n",
       "      <th>1403475</th>\n",
       "      <td>1</td>\n",
       "    </tr>\n",
       "    <tr>\n",
       "      <th>1609809</th>\n",
       "      <td>1</td>\n",
       "    </tr>\n",
       "    <tr>\n",
       "      <th>1487952</th>\n",
       "      <td>1</td>\n",
       "    </tr>\n",
       "    <tr>\n",
       "      <th>3545</th>\n",
       "      <td>1</td>\n",
       "    </tr>\n",
       "  </tbody>\n",
       "</table>\n",
       "<p>8911 rows × 1 columns</p>\n",
       "</div>"
      ]
     },
     "execution_count": 15,
     "metadata": {},
     "output_type": "execute_result"
    }
   ],
   "source": [
    "tickers.CIK.value_counts().to_frame()"
   ]
  },
  {
   "cell_type": "code",
   "execution_count": 16,
   "metadata": {},
   "outputs": [
    {
     "data": {
      "text/html": [
       "\n",
       "        <h3>Kernel Group Holdings, Inc.</h3>\n",
       "        <style type=\"text/css\">\n",
       "</style>\n",
       "<table id=\"T_ae1a3\">\n",
       "  <thead>\n",
       "    <tr>\n",
       "      <th id=\"T_ae1a3_level0_col0\" class=\"col_heading level0 col0\" >CIK</th>\n",
       "      <th id=\"T_ae1a3_level0_col1\" class=\"col_heading level0 col1\" >Industry</th>\n",
       "      <th id=\"T_ae1a3_level0_col2\" class=\"col_heading level0 col2\" >Category</th>\n",
       "    </tr>\n",
       "  </thead>\n",
       "  <tbody>\n",
       "    <tr>\n",
       "      <td id=\"T_ae1a3_row0_col0\" class=\"data row0 col0\" >1832950</td>\n",
       "      <td id=\"T_ae1a3_row0_col1\" class=\"data row0 col1\" >Blank Checks</td>\n",
       "      <td id=\"T_ae1a3_row0_col2\" class=\"data row0 col2\" >Non-accelerated filer<br>Smaller reporting company<br>Emerging growth company</td>\n",
       "    </tr>\n",
       "  </tbody>\n",
       "</table>\n",
       "\n",
       "        <style type=\"text/css\">\n",
       "</style>\n",
       "<table id=\"T_ba16b\">\n",
       "  <thead>\n",
       "    <tr>\n",
       "      <th id=\"T_ba16b_level0_col0\" class=\"col_heading level0 col0\" >Exchange</th>\n",
       "      <th id=\"T_ba16b_level0_col1\" class=\"col_heading level0 col1\" >Ticker</th>\n",
       "    </tr>\n",
       "  </thead>\n",
       "  <tbody>\n",
       "    <tr>\n",
       "      <td id=\"T_ba16b_row0_col0\" class=\"data row0 col0\" >Nasdaq</td>\n",
       "      <td id=\"T_ba16b_row0_col1\" class=\"data row0 col1\" >KRNL</td>\n",
       "    </tr>\n",
       "    <tr>\n",
       "      <td id=\"T_ba16b_row1_col0\" class=\"data row1 col0\" >Nasdaq</td>\n",
       "      <td id=\"T_ba16b_row1_col1\" class=\"data row1 col1\" >KRNLU</td>\n",
       "    </tr>\n",
       "    <tr>\n",
       "      <td id=\"T_ba16b_row2_col0\" class=\"data row2 col0\" >Nasdaq</td>\n",
       "      <td id=\"T_ba16b_row2_col1\" class=\"data row2 col1\" >KRNLW</td>\n",
       "    </tr>\n",
       "  </tbody>\n",
       "</table>\n",
       "\n",
       "        "
      ]
     },
     "execution_count": 16,
     "metadata": {},
     "output_type": "execute_result"
    }
   ],
   "source": [
    "Company.for_cik(1832950)"
   ]
  },
  {
   "cell_type": "code",
   "execution_count": 17,
   "metadata": {},
   "outputs": [
    {
     "data": {
      "text/html": [
       "\n",
       "        <h3>Snowflake Inc.</h3>\n",
       "        <style type=\"text/css\">\n",
       "</style>\n",
       "<table id=\"T_3fc35\">\n",
       "  <thead>\n",
       "    <tr>\n",
       "      <th id=\"T_3fc35_level0_col0\" class=\"col_heading level0 col0\" >CIK</th>\n",
       "      <th id=\"T_3fc35_level0_col1\" class=\"col_heading level0 col1\" >Industry</th>\n",
       "      <th id=\"T_3fc35_level0_col2\" class=\"col_heading level0 col2\" >Category</th>\n",
       "    </tr>\n",
       "  </thead>\n",
       "  <tbody>\n",
       "    <tr>\n",
       "      <td id=\"T_3fc35_row0_col0\" class=\"data row0 col0\" >1640147</td>\n",
       "      <td id=\"T_3fc35_row0_col1\" class=\"data row0 col1\" >Services-Prepackaged Software</td>\n",
       "      <td id=\"T_3fc35_row0_col2\" class=\"data row0 col2\" >Large accelerated filer</td>\n",
       "    </tr>\n",
       "  </tbody>\n",
       "</table>\n",
       "\n",
       "        <style type=\"text/css\">\n",
       "</style>\n",
       "<table id=\"T_033b7\">\n",
       "  <thead>\n",
       "    <tr>\n",
       "      <th id=\"T_033b7_level0_col0\" class=\"col_heading level0 col0\" >Exchange</th>\n",
       "      <th id=\"T_033b7_level0_col1\" class=\"col_heading level0 col1\" >Ticker</th>\n",
       "    </tr>\n",
       "  </thead>\n",
       "  <tbody>\n",
       "    <tr>\n",
       "      <td id=\"T_033b7_row0_col0\" class=\"data row0 col0\" >NYSE</td>\n",
       "      <td id=\"T_033b7_row0_col1\" class=\"data row0 col1\" >SNOW</td>\n",
       "    </tr>\n",
       "  </tbody>\n",
       "</table>\n",
       "\n",
       "        "
      ]
     },
     "execution_count": 17,
     "metadata": {},
     "output_type": "execute_result"
    }
   ],
   "source": [
    "Company.for_ticker('SNOW')"
   ]
  },
  {
   "cell_type": "code",
   "execution_count": 18,
   "metadata": {},
   "outputs": [
    {
     "data": {
      "text/html": [
       "<div>\n",
       "<style scoped>\n",
       "    .dataframe tbody tr th:only-of-type {\n",
       "        vertical-align: middle;\n",
       "    }\n",
       "\n",
       "    .dataframe tbody tr th {\n",
       "        vertical-align: top;\n",
       "    }\n",
       "\n",
       "    .dataframe thead th {\n",
       "        text-align: right;\n",
       "    }\n",
       "</style>\n",
       "<table border=\"1\" class=\"dataframe\">\n",
       "  <thead>\n",
       "    <tr style=\"text-align: right;\">\n",
       "      <th></th>\n",
       "      <th>CIK</th>\n",
       "      <th>Ticker</th>\n",
       "      <th>Company</th>\n",
       "    </tr>\n",
       "  </thead>\n",
       "  <tbody>\n",
       "    <tr>\n",
       "      <th>0</th>\n",
       "      <td>320193</td>\n",
       "      <td>AAPL</td>\n",
       "      <td>Apple Inc.</td>\n",
       "    </tr>\n",
       "    <tr>\n",
       "      <th>1</th>\n",
       "      <td>789019</td>\n",
       "      <td>MSFT</td>\n",
       "      <td>MICROSOFT CORP</td>\n",
       "    </tr>\n",
       "    <tr>\n",
       "      <th>2</th>\n",
       "      <td>1067983</td>\n",
       "      <td>BRK-B</td>\n",
       "      <td>BERKSHIRE HATHAWAY INC</td>\n",
       "    </tr>\n",
       "    <tr>\n",
       "      <th>3</th>\n",
       "      <td>731766</td>\n",
       "      <td>UNH</td>\n",
       "      <td>UNITEDHEALTH GROUP INC</td>\n",
       "    </tr>\n",
       "    <tr>\n",
       "      <th>4</th>\n",
       "      <td>200406</td>\n",
       "      <td>JNJ</td>\n",
       "      <td>JOHNSON &amp; JOHNSON</td>\n",
       "    </tr>\n",
       "    <tr>\n",
       "      <th>...</th>\n",
       "      <td>...</td>\n",
       "      <td>...</td>\n",
       "      <td>...</td>\n",
       "    </tr>\n",
       "    <tr>\n",
       "      <th>11606</th>\n",
       "      <td>1885754</td>\n",
       "      <td>MTVC-UN</td>\n",
       "      <td>Motive Capital Corp II</td>\n",
       "    </tr>\n",
       "    <tr>\n",
       "      <th>11607</th>\n",
       "      <td>1885754</td>\n",
       "      <td>MTVC-WT</td>\n",
       "      <td>Motive Capital Corp II</td>\n",
       "    </tr>\n",
       "    <tr>\n",
       "      <th>11608</th>\n",
       "      <td>1909152</td>\n",
       "      <td>KALWW</td>\n",
       "      <td>Kalera Public Ltd Co</td>\n",
       "    </tr>\n",
       "    <tr>\n",
       "      <th>11609</th>\n",
       "      <td>1913210</td>\n",
       "      <td>BRSHW</td>\n",
       "      <td>Bruush Oral Care Inc.</td>\n",
       "    </tr>\n",
       "    <tr>\n",
       "      <th>11610</th>\n",
       "      <td>1936258</td>\n",
       "      <td>NAMSW</td>\n",
       "      <td>NewAmsterdam Pharma Co N.V.</td>\n",
       "    </tr>\n",
       "  </tbody>\n",
       "</table>\n",
       "<p>11611 rows × 3 columns</p>\n",
       "</div>"
      ]
     },
     "execution_count": 18,
     "metadata": {},
     "output_type": "execute_result"
    }
   ],
   "source": [
    "tickers"
   ]
  }
 ],
 "metadata": {
  "kernelspec": {
   "display_name": "edgar",
   "language": "python",
   "name": "edgar"
  },
  "language_info": {
   "codemirror_mode": {
    "name": "ipython",
    "version": 3
   },
   "file_extension": ".py",
   "mimetype": "text/x-python",
   "name": "python",
   "nbconvert_exporter": "python",
   "pygments_lexer": "ipython3",
   "version": "3.10.5"
  }
 },
 "nbformat": 4,
 "nbformat_minor": 1
}
