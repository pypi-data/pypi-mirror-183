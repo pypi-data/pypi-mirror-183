{
 "cells": [
  {
   "cell_type": "markdown",
   "id": "a659dfab",
   "metadata": {},
   "source": [
    "# Filings"
   ]
  },
  {
   "cell_type": "code",
   "execution_count": 1,
   "id": "9550db37",
   "metadata": {},
   "outputs": [],
   "source": [
    "%load_ext autoreload\n",
    "%autoreload 2\n",
    "%load_ext rich\n",
    "from rich import inspect\n",
    "import sys\n",
    "\n",
    "if not '..' in sys.path: sys.path.append('..')"
   ]
  },
  {
   "cell_type": "code",
   "execution_count": 2,
   "id": "19a4cbfc",
   "metadata": {},
   "outputs": [
    {
     "data": {
      "text/html": [
       "<pre style=\"white-space:pre;overflow-x:auto;line-height:normal;font-family:Menlo,'DejaVu Sans Mono',consolas,'Courier New',monospace\"><span style=\"color: #7fbfbf; text-decoration-color: #7fbfbf\">[15:18:10] </span><span style=\"color: #000080; text-decoration-color: #000080\">INFO    </span> Identity of the Edgar REST client set to <span style=\"font-weight: bold\">[</span>Dwight Gunning dgunning@gmail.com<span style=\"font-weight: bold\">]</span>         <a href=\"file://C:\\Users\\dwight\\PycharmProjects\\edgar\\notebooks\\..\\edgar\\core.py\" target=\"_blank\"><span style=\"color: #7f7f7f; text-decoration-color: #7f7f7f\">core.py</span></a><span style=\"color: #7f7f7f; text-decoration-color: #7f7f7f\">:</span><a href=\"file://C:\\Users\\dwight\\PycharmProjects\\edgar\\notebooks\\..\\edgar\\core.py#46\" target=\"_blank\"><span style=\"color: #7f7f7f; text-decoration-color: #7f7f7f\">46</span></a>\n",
       "</pre>\n"
      ],
      "text/plain": [
       "\u001b[2;36m[15:18:10]\u001b[0m\u001b[2;36m \u001b[0m\u001b[34mINFO    \u001b[0m Identity of the Edgar REST client set to \u001b[1m[\u001b[0mDwight Gunning dgunning@gmail.com\u001b[1m]\u001b[0m         \u001b]8;id=901078;file://C:\\Users\\dwight\\PycharmProjects\\edgar\\notebooks\\..\\edgar\\core.py\u001b\\\u001b[2mcore.py\u001b[0m\u001b]8;;\u001b\\\u001b[2m:\u001b[0m\u001b]8;id=734152;file://C:\\Users\\dwight\\PycharmProjects\\edgar\\notebooks\\..\\edgar\\core.py#46\u001b\\\u001b[2m46\u001b[0m\u001b]8;;\u001b\\\n"
      ]
     },
     "metadata": {},
     "output_type": "display_data"
    }
   ],
   "source": [
    "from edgar import set_identity, get_filings\n",
    "set_identity(\"Dwight Gunning dgunning@gmail.com\")"
   ]
  },
  {
   "cell_type": "markdown",
   "id": "b21b9961",
   "metadata": {},
   "source": [
    "## Get Filings"
   ]
  },
  {
   "cell_type": "code",
   "execution_count": 3,
   "id": "25cbfa25",
   "metadata": {},
   "outputs": [
    {
     "name": "stdout",
     "output_type": "stream",
     "text": [
      "CPU times: total: 12.7 s\n",
      "Wall time: 11.5 s\n"
     ]
    }
   ],
   "source": [
    "%time filings = get_filings(year=range(2018, 2021))"
   ]
  },
  {
   "cell_type": "code",
   "execution_count": 4,
   "id": "97f993fe",
   "metadata": {},
   "outputs": [
    {
     "data": {
      "text/html": [
       "<pre style=\"white-space:pre;overflow-x:auto;line-height:normal;font-family:Menlo,'DejaVu Sans Mono',consolas,'Courier New',monospace\">Filings - <span style=\"color: #008080; text-decoration-color: #008080; font-weight: bold\">2</span>,<span style=\"color: #008080; text-decoration-color: #008080; font-weight: bold\">946</span>,<span style=\"color: #008080; text-decoration-color: #008080; font-weight: bold\">981</span> in total from <span style=\"color: #008080; text-decoration-color: #008080; font-weight: bold\">2018</span>-<span style=\"color: #008080; text-decoration-color: #008080; font-weight: bold\">01</span>-<span style=\"color: #008080; text-decoration-color: #008080; font-weight: bold\">02</span> to <span style=\"color: #008080; text-decoration-color: #008080; font-weight: bold\">2020</span>-<span style=\"color: #008080; text-decoration-color: #008080; font-weight: bold\">12</span>-<span style=\"color: #008080; text-decoration-color: #008080; font-weight: bold\">31</span>\n",
       "</pre>\n"
      ],
      "text/plain": [
       "Filings - \u001b[1;36m2\u001b[0m,\u001b[1;36m946\u001b[0m,\u001b[1;36m981\u001b[0m in total from \u001b[1;36m2018\u001b[0m-\u001b[1;36m01\u001b[0m-\u001b[1;36m02\u001b[0m to \u001b[1;36m2020\u001b[0m-\u001b[1;36m12\u001b[0m-\u001b[1;36m31\u001b[0m\n"
      ]
     },
     "metadata": {},
     "output_type": "display_data"
    }
   ],
   "source": [
    "filings"
   ]
  },
  {
   "cell_type": "code",
   "execution_count": 5,
   "id": "5fffdc6b",
   "metadata": {},
   "outputs": [
    {
     "data": {
      "text/html": [
       "<pre style=\"white-space:pre;overflow-x:auto;line-height:normal;font-family:Menlo,'DejaVu Sans Mono',consolas,'Courier New',monospace\"><span style=\"color: #800080; text-decoration-color: #800080; font-weight: bold\">Filing</span><span style=\"font-weight: bold\">(</span><span style=\"color: #808000; text-decoration-color: #808000\">form</span>=<span style=\"color: #008000; text-decoration-color: #008000\">'1-A'</span>, <span style=\"color: #808000; text-decoration-color: #808000\">company</span>=<span style=\"color: #008000; text-decoration-color: #008000\">'20/20 GeneSystems, Inc.'</span>, <span style=\"color: #808000; text-decoration-color: #808000\">cik</span>=<span style=\"color: #008080; text-decoration-color: #008080; font-weight: bold\">1139685</span>, <span style=\"color: #808000; text-decoration-color: #808000\">date</span>=<span style=\"color: #008000; text-decoration-color: #008000\">'2018-03-09'</span>, <span style=\"color: #808000; text-decoration-color: #808000\">accession_no</span>=<span style=\"color: #008000; text-decoration-color: #008000\">'0001213900-18-002777'</span><span style=\"font-weight: bold\">)</span>\n",
       "</pre>\n"
      ],
      "text/plain": [
       "\u001b[1;35mFiling\u001b[0m\u001b[1m(\u001b[0m\u001b[33mform\u001b[0m=\u001b[32m'1-A'\u001b[0m, \u001b[33mcompany\u001b[0m=\u001b[32m'20/20 GeneSystems, Inc.'\u001b[0m, \u001b[33mcik\u001b[0m=\u001b[1;36m1139685\u001b[0m, \u001b[33mdate\u001b[0m=\u001b[32m'2018-03-09'\u001b[0m, \u001b[33maccession_no\u001b[0m=\u001b[32m'0001213900-18-002777'\u001b[0m\u001b[1m)\u001b[0m\n"
      ]
     },
     "metadata": {},
     "output_type": "display_data"
    }
   ],
   "source": [
    "filings[0]"
   ]
  },
  {
   "cell_type": "code",
   "execution_count": 6,
   "id": "420aa162",
   "metadata": {},
   "outputs": [
    {
     "data": {
      "text/html": [
       "<pre style=\"white-space:pre;overflow-x:auto;line-height:normal;font-family:Menlo,'DejaVu Sans Mono',consolas,'Courier New',monospace\"><span style=\"color: #000080; text-decoration-color: #000080\">╭──────────────────────────────────────── </span><span style=\"color: #000080; text-decoration-color: #000080; font-weight: bold\">&lt;</span><span style=\"color: #ff00ff; text-decoration-color: #ff00ff; font-weight: bold\">class</span><span style=\"color: #000000; text-decoration-color: #000000\"> </span><span style=\"color: #008000; text-decoration-color: #008000\">'edgar.filing.Filings'</span><span style=\"color: #000080; text-decoration-color: #000080; font-weight: bold\">&gt;</span><span style=\"color: #000080; text-decoration-color: #000080\"> ─────────────────────────────────────────╮</span>\n",
       "<span style=\"color: #000080; text-decoration-color: #000080\">│</span> <span style=\"color: #008080; text-decoration-color: #008080\">A container for filings</span>                                                                                         <span style=\"color: #000080; text-decoration-color: #000080\">│</span>\n",
       "<span style=\"color: #000080; text-decoration-color: #000080\">│</span>                                                                                                                 <span style=\"color: #000080; text-decoration-color: #000080\">│</span>\n",
       "<span style=\"color: #000080; text-decoration-color: #000080\">│</span> <span style=\"color: #008000; text-decoration-color: #008000\">╭─────────────────────────────────────────────────────────────────────────────────────────────────────────────╮</span> <span style=\"color: #000080; text-decoration-color: #000080\">│</span>\n",
       "<span style=\"color: #000080; text-decoration-color: #000080\">│</span> <span style=\"color: #008000; text-decoration-color: #008000\">│</span> Filings - <span style=\"color: #008080; text-decoration-color: #008080; font-weight: bold\">2</span>,<span style=\"color: #008080; text-decoration-color: #008080; font-weight: bold\">946</span>,<span style=\"color: #008080; text-decoration-color: #008080; font-weight: bold\">981</span> in total from <span style=\"color: #008080; text-decoration-color: #008080; font-weight: bold\">2018</span>-<span style=\"color: #008080; text-decoration-color: #008080; font-weight: bold\">01</span>-<span style=\"color: #008080; text-decoration-color: #008080; font-weight: bold\">02</span> to <span style=\"color: #008080; text-decoration-color: #008080; font-weight: bold\">2020</span>-<span style=\"color: #008080; text-decoration-color: #008080; font-weight: bold\">12</span>-<span style=\"color: #008080; text-decoration-color: #008080; font-weight: bold\">31</span>                                                  <span style=\"color: #008000; text-decoration-color: #008000\">│</span> <span style=\"color: #000080; text-decoration-color: #000080\">│</span>\n",
       "<span style=\"color: #000080; text-decoration-color: #000080\">│</span> <span style=\"color: #008000; text-decoration-color: #008000\">╰─────────────────────────────────────────────────────────────────────────────────────────────────────────────╯</span> <span style=\"color: #000080; text-decoration-color: #000080\">│</span>\n",
       "<span style=\"color: #000080; text-decoration-color: #000080\">│</span>                                                                                                                 <span style=\"color: #000080; text-decoration-color: #000080\">│</span>\n",
       "<span style=\"color: #000080; text-decoration-color: #000080\">│</span>       <span style=\"color: #808000; text-decoration-color: #808000; font-style: italic\">data</span> = pyarrow.Table                                                                                      <span style=\"color: #000080; text-decoration-color: #000080\">│</span>\n",
       "<span style=\"color: #000080; text-decoration-color: #000080\">│</span>              form: string                                                                                       <span style=\"color: #000080; text-decoration-color: #000080\">│</span>\n",
       "<span style=\"color: #000080; text-decoration-color: #000080\">│</span>              company: string                                                                                    <span style=\"color: #000080; text-decoration-color: #000080\">│</span>\n",
       "<span style=\"color: #000080; text-decoration-color: #000080\">│</span>              cik: int32                                                                                         <span style=\"color: #000080; text-decoration-color: #000080\">│</span>\n",
       "<span style=\"color: #000080; text-decoration-color: #000080\">│</span>              filingDate: string                                                                                 <span style=\"color: #000080; text-decoration-color: #000080\">│</span>\n",
       "<span style=\"color: #000080; text-decoration-color: #000080\">│</span>              accessionNumber: string                                                                            <span style=\"color: #000080; text-decoration-color: #000080\">│</span>\n",
       "<span style=\"color: #000080; text-decoration-color: #000080\">│</span>              ----                                                                                               <span style=\"color: #000080; text-decoration-color: #000080\">│</span>\n",
       "<span style=\"color: #000080; text-decoration-color: #000080\">│</span>              form:                                                                                              <span style=\"color: #000080; text-decoration-color: #000080\">│</span>\n",
       "<span style=\"color: #000080; text-decoration-color: #000080\">│</span>              <span style=\"font-weight: bold\">[[</span><span style=\"color: #008000; text-decoration-color: #008000\">\"1-A\"</span>,<span style=\"color: #008000; text-decoration-color: #008000\">\"1-A\"</span>,<span style=\"color: #008000; text-decoration-color: #008000\">\"1-A\"</span>,<span style=\"color: #008000; text-decoration-color: #008000\">\"1-A\"</span>,<span style=\"color: #008000; text-decoration-color: #008000\">\"1-A\"</span>,<span style=\"color: #808000; text-decoration-color: #808000\">...</span>,<span style=\"color: #008000; text-decoration-color: #008000\">\"X-17A-5/A\"</span>,<span style=\"color: #008000; text-decoration-color: #008000\">\"X-17A-5/A\"</span>,<span style=\"color: #008000; text-decoration-color: #008000\">\"X-17A-5/A\"</span>,<span style=\"color: #008000; text-decoration-color: #008000\">\"X-17A-5/A\"</span>,<span style=\"color: #008000; text-decoration-color: #008000\">\"X-17A-5/A\"</span><span style=\"font-weight: bold\">]</span>,<span style=\"font-weight: bold\">…</span> <span style=\"color: #000080; text-decoration-color: #000080\">│</span>\n",
       "<span style=\"color: #000080; text-decoration-color: #000080\">│</span>              company: <span style=\"font-weight: bold\">[[</span><span style=\"color: #008000; text-decoration-color: #008000\">\"20/20 GeneSystems, Inc.\"</span>,<span style=\"color: #008000; text-decoration-color: #008000\">\"ADiTx Therapeutics, Inc.\"</span>,<span style=\"color: #008000; text-decoration-color: #008000\">\"AMERICAN PREMIUM WATER </span>           <span style=\"color: #000080; text-decoration-color: #000080\">│</span>\n",
       "<span style=\"color: #000080; text-decoration-color: #000080\">│</span>              <span style=\"color: #008000; text-decoration-color: #008000\">Corp\"</span>,<span style=\"color: #008000; text-decoration-color: #008000\">\"Armada Nano Technologies Group, Inc.\"</span>,<span style=\"color: #008000; text-decoration-color: #008000\">\"BITFRONTIER CAPITAL HOLDINGS, INC.\"</span>,<span style=\"color: #808000; text-decoration-color: #808000\">...</span>,<span style=\"color: #008000; text-decoration-color: #008000\">\"WELLINGTON </span> <span style=\"color: #000080; text-decoration-color: #000080\">│</span>\n",
       "<span style=\"color: #000080; text-decoration-color: #000080\">│</span>              <span style=\"color: #008000; text-decoration-color: #008000\">MANAGEMENT ADVISERS, INC\"</span>,<span style=\"color: #008000; text-decoration-color: #008000\">\"WELLINGTON MANAGEMENT ADVISERS, INC\"</span>,<span style=\"color: #008000; text-decoration-color: #008000\">\"WESTPAC CAPITAL MARKETS </span>          <span style=\"color: #000080; text-decoration-color: #000080\">│</span>\n",
       "<span style=\"color: #000080; text-decoration-color: #000080\">│</span>              <span style=\"color: #008000; text-decoration-color: #008000\">LLC\"</span>,<span style=\"color: #008000; text-decoration-color: #008000\">\"WILLIAM BLAIR &amp; COMPANY L.L.C.\"</span>,<span style=\"color: #008000; text-decoration-color: #008000\">\"WILLIAM BLAIR &amp; COMPANY L.L.C.\"</span><span style=\"font-weight: bold\">]</span>,<span style=\"font-weight: bold\">[</span><span style=\"color: #008000; text-decoration-color: #008000\">\"Alchemy Kings, </span>          <span style=\"color: #000080; text-decoration-color: #000080\">│</span>\n",
       "<span style=\"color: #000080; text-decoration-color: #000080\">│</span>              <span style=\"color: #008000; text-decoration-color: #008000\">Inc.\"</span>,<span style=\"color: #008000; text-decoration-color: #008000\">\"Apex Farms Corp.\"</span>,<span style=\"color: #008000; text-decoration-color: #008000\">\"BITFRONTIER CAPITAL HOLDINGS, INC.\"</span>,<span style=\"color: #008000; text-decoration-color: #008000\">\"Building Bits Properties I, </span>        <span style=\"color: #000080; text-decoration-color: #000080\">│</span>\n",
       "<span style=\"color: #000080; text-decoration-color: #000080\">│</span>              <span style=\"color: #008000; text-decoration-color: #008000\">LLC\"</span>,<span style=\"color: #008000; text-decoration-color: #008000\">\"CNS Pharmaceuticals, Inc.\"</span>,<span style=\"color: #808000; text-decoration-color: #808000\">...</span>,<span style=\"color: #008000; text-decoration-color: #008000\">\"SHEARSON FINANCIAL SERVICES, LLC\"</span>,<span style=\"color: #008000; text-decoration-color: #008000\">\"TEMPLUM MARKETS LLC\"</span>,<span style=\"color: #008000; text-decoration-color: #008000\">\"TLS</span> <span style=\"color: #000080; text-decoration-color: #000080\">│</span>\n",
       "<span style=\"color: #000080; text-decoration-color: #000080\">│</span>              <span style=\"color: #008000; text-decoration-color: #008000\">FINANCIAL SERVICES, INC.\"</span>,<span style=\"color: #008000; text-decoration-color: #008000\">\"WILLOW COVE INVESTMENT GROUP, INC.\"</span>,<span style=\"color: #008000; text-decoration-color: #008000\">\"WOODROCK SECURITIES, </span>              <span style=\"color: #000080; text-decoration-color: #000080\">│</span>\n",
       "<span style=\"color: #000080; text-decoration-color: #000080\">│</span>              <span style=\"color: #008000; text-decoration-color: #008000\">L.P.\"</span><span style=\"font-weight: bold\">]</span>,<span style=\"color: #808000; text-decoration-color: #808000\">...</span>,<span style=\"font-weight: bold\">[</span><span style=\"color: #008000; text-decoration-color: #008000\">\"10SION ENERGY INC\"</span>,<span style=\"color: #008000; text-decoration-color: #008000\">\"1st stREIT Office Inc.\"</span>,<span style=\"color: #008000; text-decoration-color: #008000\">\"4Less Group, Inc.\"</span>,<span style=\"color: #008000; text-decoration-color: #008000\">\"Arrived Homes, </span>      <span style=\"color: #000080; text-decoration-color: #000080\">│</span>\n",
       "<span style=\"color: #000080; text-decoration-color: #000080\">│</span>              <span style=\"color: #008000; text-decoration-color: #008000\">LLC\"</span>,<span style=\"color: #008000; text-decoration-color: #008000\">\"BRAIN SCIENTIFIC INC.\"</span>,<span style=\"color: #808000; text-decoration-color: #808000\">...</span>,<span style=\"color: #008000; text-decoration-color: #008000\">\"AVALON WEALTH MANAGEMENT LLC\"</span>,<span style=\"color: #008000; text-decoration-color: #008000\">\"AVALON WEALTH MANAGEMENT </span>         <span style=\"color: #000080; text-decoration-color: #000080\">│</span>\n",
       "<span style=\"color: #000080; text-decoration-color: #000080\">│</span>              <span style=\"color: #008000; text-decoration-color: #008000\">LLC\"</span>,<span style=\"color: #008000; text-decoration-color: #008000\">\"IFM (US) SECURITIES, LLC\"</span>,<span style=\"color: #008000; text-decoration-color: #008000\">\"R.M. DUNCAN SECURITIES, INC.\"</span>,<span style=\"color: #008000; text-decoration-color: #008000\">\"STONECASTLE SECURITIES, </span>           <span style=\"color: #000080; text-decoration-color: #000080\">│</span>\n",
       "<span style=\"color: #000080; text-decoration-color: #000080\">│</span>              <span style=\"color: #008000; text-decoration-color: #008000\">LLC\"</span><span style=\"font-weight: bold\">]</span>,<span style=\"font-weight: bold\">[</span><span style=\"color: #008000; text-decoration-color: #008000\">\"181 High Street LLC\"</span>,<span style=\"color: #008000; text-decoration-color: #008000\">\"1st stREIT Office Inc.\"</span>,<span style=\"color: #008000; text-decoration-color: #008000\">\"370 Markets LLC\"</span>,<span style=\"color: #008000; text-decoration-color: #008000\">\"B2Digital, Inc.\"</span>,<span style=\"color: #008000; text-decoration-color: #008000\">\"Baroma,</span> <span style=\"color: #000080; text-decoration-color: #000080\">│</span>\n",
       "<span style=\"color: #000080; text-decoration-color: #000080\">│</span>              <span style=\"color: #008000; text-decoration-color: #008000\">Inc.\"</span>,<span style=\"color: #808000; text-decoration-color: #808000\">...</span>,<span style=\"color: #008000; text-decoration-color: #008000\">\"ZANBATO SECURITIES LLC\"</span>,<span style=\"color: #008000; text-decoration-color: #008000\">\"AMHERST PIERPONT SECURITIES LLC\"</span>,<span style=\"color: #008000; text-decoration-color: #008000\">\"LIEBLONG &amp; ASSOCIATES, </span>      <span style=\"color: #000080; text-decoration-color: #000080\">│</span>\n",
       "<span style=\"color: #000080; text-decoration-color: #000080\">│</span>              <span style=\"color: #008000; text-decoration-color: #008000\">INC.\"</span>,<span style=\"color: #008000; text-decoration-color: #008000\">\"MUTUAL SECURITIES, INC.\"</span>,<span style=\"color: #008000; text-decoration-color: #008000\">\"PERTH ADVISORS LLC\"</span><span style=\"font-weight: bold\">]]</span>                                             <span style=\"color: #000080; text-decoration-color: #000080\">│</span>\n",
       "<span style=\"color: #000080; text-decoration-color: #000080\">│</span>              cik:                                                                                               <span style=\"color: #000080; text-decoration-color: #000080\">│</span>\n",
       "<span style=\"color: #000080; text-decoration-color: #000080\">│</span>              <span style=\"font-weight: bold\">[[</span><span style=\"color: #008080; text-decoration-color: #008080; font-weight: bold\">1139685</span>,<span style=\"color: #008080; text-decoration-color: #008080; font-weight: bold\">1726711</span>,<span style=\"color: #008080; text-decoration-color: #008080; font-weight: bold\">1096328</span>,<span style=\"color: #008080; text-decoration-color: #008080; font-weight: bold\">1724578</span>,<span style=\"color: #008080; text-decoration-color: #008080; font-weight: bold\">1395005</span>,<span style=\"color: #808000; text-decoration-color: #808000\">...</span>,<span style=\"color: #008080; text-decoration-color: #008080; font-weight: bold\">1480302</span>,<span style=\"color: #008080; text-decoration-color: #008080; font-weight: bold\">1480302</span>,<span style=\"color: #008080; text-decoration-color: #008080; font-weight: bold\">1553017</span>,<span style=\"color: #008080; text-decoration-color: #008080; font-weight: bold\">12518</span>,<span style=\"color: #008080; text-decoration-color: #008080; font-weight: bold\">12518</span><span style=\"font-weight: bold\">]</span>,<span style=\"font-weight: bold\">[</span><span style=\"color: #008080; text-decoration-color: #008080; font-weight: bold\">1738818</span>,<span style=\"color: #008080; text-decoration-color: #008080; font-weight: bold\">17294…</span> <span style=\"color: #000080; text-decoration-color: #000080\">│</span>\n",
       "<span style=\"color: #000080; text-decoration-color: #000080\">│</span>              filingDate:                                                                                        <span style=\"color: #000080; text-decoration-color: #000080\">│</span>\n",
       "<span style=\"color: #000080; text-decoration-color: #000080\">│</span>              <span style=\"font-weight: bold\">[[</span><span style=\"color: #008000; text-decoration-color: #008000\">\"2018-03-09\"</span>,<span style=\"color: #008000; text-decoration-color: #008000\">\"2018-03-30\"</span>,<span style=\"color: #008000; text-decoration-color: #008000\">\"2018-03-26\"</span>,<span style=\"color: #008000; text-decoration-color: #008000\">\"2018-01-12\"</span>,<span style=\"color: #008000; text-decoration-color: #008000\">\"2018-02-07\"</span>,<span style=\"color: #808000; text-decoration-color: #808000\">...</span>,<span style=\"color: #008000; text-decoration-color: #008000\">\"2018-02-28\"</span>,<span style=\"color: #008000; text-decoration-color: #008000\">\"2018-03-01\"</span>,<span style=\"color: #008000; text-decoration-color: #008000\">…</span> <span style=\"color: #000080; text-decoration-color: #000080\">│</span>\n",
       "<span style=\"color: #000080; text-decoration-color: #000080\">│</span>              accessionNumber:                                                                                   <span style=\"color: #000080; text-decoration-color: #000080\">│</span>\n",
       "<span style=\"color: #000080; text-decoration-color: #000080\">│</span>              <span style=\"font-weight: bold\">[[</span><span style=\"color: #008000; text-decoration-color: #008000\">\"0001213900-18-002777\"</span>,<span style=\"color: #008000; text-decoration-color: #008000\">\"0001615774-18-002234\"</span>,<span style=\"color: #008000; text-decoration-color: #008000\">\"0001264931-18-000025\"</span>,<span style=\"color: #008000; text-decoration-color: #008000\">\"0001477932-18-000158\"</span>,<span style=\"color: #008000; text-decoration-color: #008000\">\"00…</span> <span style=\"color: #000080; text-decoration-color: #000080\">│</span>\n",
       "<span style=\"color: #000080; text-decoration-color: #000080\">│</span> <span style=\"color: #808000; text-decoration-color: #808000; font-style: italic\">date_range</span> = <span style=\"font-weight: bold\">(</span><span style=\"color: #008000; text-decoration-color: #008000\">'2018-01-02'</span>, <span style=\"color: #008000; text-decoration-color: #008000\">'2020-12-31'</span><span style=\"font-weight: bold\">)</span>                                                                       <span style=\"color: #000080; text-decoration-color: #000080\">│</span>\n",
       "<span style=\"color: #000080; text-decoration-color: #000080\">╰─────────────────────────────────────────────────────────────────────────────────────────────────────────────────╯</span>\n",
       "</pre>\n"
      ],
      "text/plain": [
       "\u001b[34m╭─\u001b[0m\u001b[34m───────────────────────────────────────\u001b[0m\u001b[34m \u001b[0m\u001b[1;34m<\u001b[0m\u001b[1;95mclass\u001b[0m\u001b[39m \u001b[0m\u001b[32m'edgar.filing.Filings'\u001b[0m\u001b[1;34m>\u001b[0m\u001b[34m \u001b[0m\u001b[34m────────────────────────────────────────\u001b[0m\u001b[34m─╮\u001b[0m\n",
       "\u001b[34m│\u001b[0m \u001b[36mA container for filings\u001b[0m                                                                                         \u001b[34m│\u001b[0m\n",
       "\u001b[34m│\u001b[0m                                                                                                                 \u001b[34m│\u001b[0m\n",
       "\u001b[34m│\u001b[0m \u001b[32m╭─────────────────────────────────────────────────────────────────────────────────────────────────────────────╮\u001b[0m \u001b[34m│\u001b[0m\n",
       "\u001b[34m│\u001b[0m \u001b[32m│\u001b[0m Filings - \u001b[1;36m2\u001b[0m,\u001b[1;36m946\u001b[0m,\u001b[1;36m981\u001b[0m in total from \u001b[1;36m2018\u001b[0m-\u001b[1;36m01\u001b[0m-\u001b[1;36m02\u001b[0m to \u001b[1;36m2020\u001b[0m-\u001b[1;36m12\u001b[0m-\u001b[1;36m31\u001b[0m                                                  \u001b[32m│\u001b[0m \u001b[34m│\u001b[0m\n",
       "\u001b[34m│\u001b[0m \u001b[32m╰─────────────────────────────────────────────────────────────────────────────────────────────────────────────╯\u001b[0m \u001b[34m│\u001b[0m\n",
       "\u001b[34m│\u001b[0m                                                                                                                 \u001b[34m│\u001b[0m\n",
       "\u001b[34m│\u001b[0m       \u001b[3;33mdata\u001b[0m = pyarrow.Table                                                                                      \u001b[34m│\u001b[0m\n",
       "\u001b[34m│\u001b[0m              form: string                                                                                       \u001b[34m│\u001b[0m\n",
       "\u001b[34m│\u001b[0m              company: string                                                                                    \u001b[34m│\u001b[0m\n",
       "\u001b[34m│\u001b[0m              cik: int32                                                                                         \u001b[34m│\u001b[0m\n",
       "\u001b[34m│\u001b[0m              filingDate: string                                                                                 \u001b[34m│\u001b[0m\n",
       "\u001b[34m│\u001b[0m              accessionNumber: string                                                                            \u001b[34m│\u001b[0m\n",
       "\u001b[34m│\u001b[0m              ----                                                                                               \u001b[34m│\u001b[0m\n",
       "\u001b[34m│\u001b[0m              form:                                                                                              \u001b[34m│\u001b[0m\n",
       "\u001b[34m│\u001b[0m              \u001b[1m[\u001b[0m\u001b[1m[\u001b[0m\u001b[32m\"1-A\"\u001b[0m,\u001b[32m\"1-A\"\u001b[0m,\u001b[32m\"1-A\"\u001b[0m,\u001b[32m\"1-A\"\u001b[0m,\u001b[32m\"1-A\"\u001b[0m,\u001b[33m...\u001b[0m,\u001b[32m\"X-17A-5/A\"\u001b[0m,\u001b[32m\"X-17A-5/A\"\u001b[0m,\u001b[32m\"X-17A-5/A\"\u001b[0m,\u001b[32m\"X-17A-5/A\"\u001b[0m,\u001b[32m\"X-17A-5/A\"\u001b[0m\u001b[1m]\u001b[0m,\u001b[1m…\u001b[0m \u001b[34m│\u001b[0m\n",
       "\u001b[34m│\u001b[0m              company: \u001b[1m[\u001b[0m\u001b[1m[\u001b[0m\u001b[32m\"20/20 GeneSystems, Inc.\"\u001b[0m,\u001b[32m\"ADiTx Therapeutics, Inc.\"\u001b[0m,\u001b[32m\"AMERICAN PREMIUM WATER \u001b[0m           \u001b[34m│\u001b[0m\n",
       "\u001b[34m│\u001b[0m              \u001b[32mCorp\"\u001b[0m,\u001b[32m\"Armada Nano Technologies Group, Inc.\"\u001b[0m,\u001b[32m\"BITFRONTIER CAPITAL HOLDINGS, INC.\"\u001b[0m,\u001b[33m...\u001b[0m,\u001b[32m\"WELLINGTON \u001b[0m \u001b[34m│\u001b[0m\n",
       "\u001b[34m│\u001b[0m              \u001b[32mMANAGEMENT ADVISERS, INC\"\u001b[0m,\u001b[32m\"WELLINGTON MANAGEMENT ADVISERS, INC\"\u001b[0m,\u001b[32m\"WESTPAC CAPITAL MARKETS \u001b[0m          \u001b[34m│\u001b[0m\n",
       "\u001b[34m│\u001b[0m              \u001b[32mLLC\"\u001b[0m,\u001b[32m\"WILLIAM BLAIR & COMPANY L.L.C.\"\u001b[0m,\u001b[32m\"WILLIAM BLAIR & COMPANY L.L.C.\"\u001b[0m\u001b[1m]\u001b[0m,\u001b[1m[\u001b[0m\u001b[32m\"Alchemy Kings, \u001b[0m          \u001b[34m│\u001b[0m\n",
       "\u001b[34m│\u001b[0m              \u001b[32mInc.\"\u001b[0m,\u001b[32m\"Apex Farms Corp.\"\u001b[0m,\u001b[32m\"BITFRONTIER CAPITAL HOLDINGS, INC.\"\u001b[0m,\u001b[32m\"Building Bits Properties I, \u001b[0m        \u001b[34m│\u001b[0m\n",
       "\u001b[34m│\u001b[0m              \u001b[32mLLC\"\u001b[0m,\u001b[32m\"CNS Pharmaceuticals, Inc.\"\u001b[0m,\u001b[33m...\u001b[0m,\u001b[32m\"SHEARSON FINANCIAL SERVICES, LLC\"\u001b[0m,\u001b[32m\"TEMPLUM MARKETS LLC\"\u001b[0m,\u001b[32m\"TLS\u001b[0m \u001b[34m│\u001b[0m\n",
       "\u001b[34m│\u001b[0m              \u001b[32mFINANCIAL SERVICES, INC.\"\u001b[0m,\u001b[32m\"WILLOW COVE INVESTMENT GROUP, INC.\"\u001b[0m,\u001b[32m\"WOODROCK SECURITIES, \u001b[0m              \u001b[34m│\u001b[0m\n",
       "\u001b[34m│\u001b[0m              \u001b[32mL.P.\"\u001b[0m\u001b[1m]\u001b[0m,\u001b[33m...\u001b[0m,\u001b[1m[\u001b[0m\u001b[32m\"10SION ENERGY INC\"\u001b[0m,\u001b[32m\"1st stREIT Office Inc.\"\u001b[0m,\u001b[32m\"4Less Group, Inc.\"\u001b[0m,\u001b[32m\"Arrived Homes, \u001b[0m      \u001b[34m│\u001b[0m\n",
       "\u001b[34m│\u001b[0m              \u001b[32mLLC\"\u001b[0m,\u001b[32m\"BRAIN SCIENTIFIC INC.\"\u001b[0m,\u001b[33m...\u001b[0m,\u001b[32m\"AVALON WEALTH MANAGEMENT LLC\"\u001b[0m,\u001b[32m\"AVALON WEALTH MANAGEMENT \u001b[0m         \u001b[34m│\u001b[0m\n",
       "\u001b[34m│\u001b[0m              \u001b[32mLLC\"\u001b[0m,\u001b[32m\"IFM \u001b[0m\u001b[32m(\u001b[0m\u001b[32mUS\u001b[0m\u001b[32m)\u001b[0m\u001b[32m SECURITIES, LLC\"\u001b[0m,\u001b[32m\"R.M. DUNCAN SECURITIES, INC.\"\u001b[0m,\u001b[32m\"STONECASTLE SECURITIES, \u001b[0m           \u001b[34m│\u001b[0m\n",
       "\u001b[34m│\u001b[0m              \u001b[32mLLC\"\u001b[0m\u001b[1m]\u001b[0m,\u001b[1m[\u001b[0m\u001b[32m\"181 High Street LLC\"\u001b[0m,\u001b[32m\"1st stREIT Office Inc.\"\u001b[0m,\u001b[32m\"370 Markets LLC\"\u001b[0m,\u001b[32m\"B2Digital, Inc.\"\u001b[0m,\u001b[32m\"Baroma,\u001b[0m \u001b[34m│\u001b[0m\n",
       "\u001b[34m│\u001b[0m              \u001b[32mInc.\"\u001b[0m,\u001b[33m...\u001b[0m,\u001b[32m\"ZANBATO SECURITIES LLC\"\u001b[0m,\u001b[32m\"AMHERST PIERPONT SECURITIES LLC\"\u001b[0m,\u001b[32m\"LIEBLONG & ASSOCIATES, \u001b[0m      \u001b[34m│\u001b[0m\n",
       "\u001b[34m│\u001b[0m              \u001b[32mINC.\"\u001b[0m,\u001b[32m\"MUTUAL SECURITIES, INC.\"\u001b[0m,\u001b[32m\"PERTH ADVISORS LLC\"\u001b[0m\u001b[1m]\u001b[0m\u001b[1m]\u001b[0m                                             \u001b[34m│\u001b[0m\n",
       "\u001b[34m│\u001b[0m              cik:                                                                                               \u001b[34m│\u001b[0m\n",
       "\u001b[34m│\u001b[0m              \u001b[1m[\u001b[0m\u001b[1m[\u001b[0m\u001b[1;36m1139685\u001b[0m,\u001b[1;36m1726711\u001b[0m,\u001b[1;36m1096328\u001b[0m,\u001b[1;36m1724578\u001b[0m,\u001b[1;36m1395005\u001b[0m,\u001b[33m...\u001b[0m,\u001b[1;36m1480302\u001b[0m,\u001b[1;36m1480302\u001b[0m,\u001b[1;36m1553017\u001b[0m,\u001b[1;36m12518\u001b[0m,\u001b[1;36m12518\u001b[0m\u001b[1m]\u001b[0m,\u001b[1m[\u001b[0m\u001b[1;36m1738818\u001b[0m,\u001b[1;36m17294…\u001b[0m \u001b[34m│\u001b[0m\n",
       "\u001b[34m│\u001b[0m              filingDate:                                                                                        \u001b[34m│\u001b[0m\n",
       "\u001b[34m│\u001b[0m              \u001b[1m[\u001b[0m\u001b[1m[\u001b[0m\u001b[32m\"2018-03-09\"\u001b[0m,\u001b[32m\"2018-03-30\"\u001b[0m,\u001b[32m\"2018-03-26\"\u001b[0m,\u001b[32m\"2018-01-12\"\u001b[0m,\u001b[32m\"2018-02-07\"\u001b[0m,\u001b[33m...\u001b[0m,\u001b[32m\"2018-02-28\"\u001b[0m,\u001b[32m\"2018-03-01\"\u001b[0m,\u001b[32m…\u001b[0m \u001b[34m│\u001b[0m\n",
       "\u001b[34m│\u001b[0m              accessionNumber:                                                                                   \u001b[34m│\u001b[0m\n",
       "\u001b[34m│\u001b[0m              \u001b[1m[\u001b[0m\u001b[1m[\u001b[0m\u001b[32m\"0001213900-18-002777\"\u001b[0m,\u001b[32m\"0001615774-18-002234\"\u001b[0m,\u001b[32m\"0001264931-18-000025\"\u001b[0m,\u001b[32m\"0001477932-18-000158\"\u001b[0m,\u001b[32m\"00…\u001b[0m \u001b[34m│\u001b[0m\n",
       "\u001b[34m│\u001b[0m \u001b[3;33mdate_range\u001b[0m = \u001b[1m(\u001b[0m\u001b[32m'2018-01-02'\u001b[0m, \u001b[32m'2020-12-31'\u001b[0m\u001b[1m)\u001b[0m                                                                       \u001b[34m│\u001b[0m\n",
       "\u001b[34m╰─────────────────────────────────────────────────────────────────────────────────────────────────────────────────╯\u001b[0m\n"
      ]
     },
     "metadata": {},
     "output_type": "display_data"
    }
   ],
   "source": [
    "inspect(filings)"
   ]
  },
  {
   "cell_type": "code",
   "execution_count": 7,
   "id": "16c3fda9",
   "metadata": {},
   "outputs": [
    {
     "data": {
      "text/html": [
       "<pre style=\"white-space:pre;overflow-x:auto;line-height:normal;font-family:Menlo,'DejaVu Sans Mono',consolas,'Courier New',monospace\">Filings - <span style=\"color: #008080; text-decoration-color: #008080; font-weight: bold\">5</span> in total from <span style=\"color: #008080; text-decoration-color: #008080; font-weight: bold\">2018</span>-<span style=\"color: #008080; text-decoration-color: #008080; font-weight: bold\">01</span>-<span style=\"color: #008080; text-decoration-color: #008080; font-weight: bold\">12</span> to <span style=\"color: #008080; text-decoration-color: #008080; font-weight: bold\">2018</span>-<span style=\"color: #008080; text-decoration-color: #008080; font-weight: bold\">03</span>-<span style=\"color: #008080; text-decoration-color: #008080; font-weight: bold\">30</span>\n",
       "</pre>\n"
      ],
      "text/plain": [
       "Filings - \u001b[1;36m5\u001b[0m in total from \u001b[1;36m2018\u001b[0m-\u001b[1;36m01\u001b[0m-\u001b[1;36m12\u001b[0m to \u001b[1;36m2018\u001b[0m-\u001b[1;36m03\u001b[0m-\u001b[1;36m30\u001b[0m\n"
      ]
     },
     "metadata": {},
     "output_type": "display_data"
    }
   ],
   "source": [
    "filings.head(5)"
   ]
  },
  {
   "cell_type": "code",
   "execution_count": 8,
   "id": "b4ae094c",
   "metadata": {},
   "outputs": [
    {
     "data": {
      "text/html": [
       "<pre style=\"white-space:pre;overflow-x:auto;line-height:normal;font-family:Menlo,'DejaVu Sans Mono',consolas,'Courier New',monospace\"><span style=\"color: #7fbfbf; text-decoration-color: #7fbfbf\">[15:18:25] </span><span style=\"color: #000080; text-decoration-color: #000080\">INFO    </span> Created an in-memory DuckDB database with table <span style=\"color: #008000; text-decoration-color: #008000\">'filings'</span>                         <a href=\"file://C:\\Users\\dwight\\PycharmProjects\\edgar\\notebooks\\..\\edgar\\filing.py\" target=\"_blank\"><span style=\"color: #7f7f7f; text-decoration-color: #7f7f7f\">filing.py</span></a><span style=\"color: #7f7f7f; text-decoration-color: #7f7f7f\">:</span><a href=\"file://C:\\Users\\dwight\\PycharmProjects\\edgar\\notebooks\\..\\edgar\\filing.py#223\" target=\"_blank\"><span style=\"color: #7f7f7f; text-decoration-color: #7f7f7f\">223</span></a>\n",
       "</pre>\n"
      ],
      "text/plain": [
       "\u001b[2;36m[15:18:25]\u001b[0m\u001b[2;36m \u001b[0m\u001b[34mINFO    \u001b[0m Created an in-memory DuckDB database with table \u001b[32m'filings'\u001b[0m                         \u001b]8;id=388964;file://C:\\Users\\dwight\\PycharmProjects\\edgar\\notebooks\\..\\edgar\\filing.py\u001b\\\u001b[2mfiling.py\u001b[0m\u001b]8;;\u001b\\\u001b[2m:\u001b[0m\u001b]8;id=927779;file://C:\\Users\\dwight\\PycharmProjects\\edgar\\notebooks\\..\\edgar\\filing.py#223\u001b\\\u001b[2m223\u001b[0m\u001b]8;;\u001b\\\n"
      ]
     },
     "metadata": {},
     "output_type": "display_data"
    },
    {
     "data": {
      "text/html": [
       "<pre style=\"white-space:pre;overflow-x:auto;line-height:normal;font-family:Menlo,'DejaVu Sans Mono',consolas,'Courier New',monospace\"><span style=\"font-weight: bold\">&lt;</span><span style=\"color: #ff00ff; text-decoration-color: #ff00ff; font-weight: bold\">duckdb.DuckDBPyConnection</span><span style=\"color: #000000; text-decoration-color: #000000\"> object at </span><span style=\"color: #008080; text-decoration-color: #008080; font-weight: bold\">0x000001E8727342F0</span><span style=\"font-weight: bold\">&gt;</span>\n",
       "</pre>\n"
      ],
      "text/plain": [
       "\u001b[1m<\u001b[0m\u001b[1;95mduckdb.DuckDBPyConnection\u001b[0m\u001b[39m object at \u001b[0m\u001b[1;36m0x000001E8727342F0\u001b[0m\u001b[1m>\u001b[0m\n"
      ]
     },
     "metadata": {},
     "output_type": "display_data"
    }
   ],
   "source": [
    "db = filings.to_duckdb()\n",
    "db"
   ]
  },
  {
   "cell_type": "code",
   "execution_count": 19,
   "id": "5b979f86",
   "metadata": {},
   "outputs": [
    {
     "data": {
      "text/html": [
       "<div>\n",
       "<style scoped>\n",
       "    .dataframe tbody tr th:only-of-type {\n",
       "        vertical-align: middle;\n",
       "    }\n",
       "\n",
       "    .dataframe tbody tr th {\n",
       "        vertical-align: top;\n",
       "    }\n",
       "\n",
       "    .dataframe thead th {\n",
       "        text-align: right;\n",
       "    }\n",
       "</style>\n",
       "<table border=\"1\" class=\"dataframe\">\n",
       "  <thead>\n",
       "    <tr style=\"text-align: right;\">\n",
       "      <th></th>\n",
       "      <th>form</th>\n",
       "      <th>company</th>\n",
       "      <th>cik</th>\n",
       "      <th>filingDate</th>\n",
       "      <th>accessionNumber</th>\n",
       "    </tr>\n",
       "  </thead>\n",
       "  <tbody>\n",
       "    <tr>\n",
       "      <th>0</th>\n",
       "      <td>S-1</td>\n",
       "      <td>84 Financial, L.P.</td>\n",
       "      <td>1499252</td>\n",
       "      <td>2011-02-15</td>\n",
       "      <td>0001144204-11-009053</td>\n",
       "    </tr>\n",
       "    <tr>\n",
       "      <th>1</th>\n",
       "      <td>S-1</td>\n",
       "      <td>ACCENTIA BIOPHARMACEUTICALS INC</td>\n",
       "      <td>1310094</td>\n",
       "      <td>2011-02-18</td>\n",
       "      <td>0001193125-11-040329</td>\n",
       "    </tr>\n",
       "    <tr>\n",
       "      <th>2</th>\n",
       "      <td>S-1</td>\n",
       "      <td>ACTIVE NETWORK INC</td>\n",
       "      <td>1163932</td>\n",
       "      <td>2011-02-14</td>\n",
       "      <td>0001193125-11-035573</td>\n",
       "    </tr>\n",
       "    <tr>\n",
       "      <th>3</th>\n",
       "      <td>S-1</td>\n",
       "      <td>ADS Tactical, Inc.</td>\n",
       "      <td>1496129</td>\n",
       "      <td>2011-02-08</td>\n",
       "      <td>0000950123-11-010328</td>\n",
       "    </tr>\n",
       "    <tr>\n",
       "      <th>4</th>\n",
       "      <td>S-1</td>\n",
       "      <td>ADVANCED CELL TECHNOLOGY, INC.</td>\n",
       "      <td>1140098</td>\n",
       "      <td>2011-02-14</td>\n",
       "      <td>0001013762-11-000371</td>\n",
       "    </tr>\n",
       "    <tr>\n",
       "      <th>...</th>\n",
       "      <td>...</td>\n",
       "      <td>...</td>\n",
       "      <td>...</td>\n",
       "      <td>...</td>\n",
       "      <td>...</td>\n",
       "    </tr>\n",
       "    <tr>\n",
       "      <th>10041</th>\n",
       "      <td>S-1</td>\n",
       "      <td>fuboTV Inc. /FL</td>\n",
       "      <td>1484769</td>\n",
       "      <td>2020-10-30</td>\n",
       "      <td>0001493152-20-020255</td>\n",
       "    </tr>\n",
       "    <tr>\n",
       "      <th>10042</th>\n",
       "      <td>S-1</td>\n",
       "      <td>iFresh Inc</td>\n",
       "      <td>1681941</td>\n",
       "      <td>2020-12-22</td>\n",
       "      <td>0001213900-20-043923</td>\n",
       "    </tr>\n",
       "    <tr>\n",
       "      <th>10043</th>\n",
       "      <td>S-1</td>\n",
       "      <td>iSpecimen Inc.</td>\n",
       "      <td>1558569</td>\n",
       "      <td>2020-11-19</td>\n",
       "      <td>0001104659-20-127325</td>\n",
       "    </tr>\n",
       "    <tr>\n",
       "      <th>10044</th>\n",
       "      <td>S-1</td>\n",
       "      <td>urban-gro, Inc.</td>\n",
       "      <td>1706524</td>\n",
       "      <td>2020-11-16</td>\n",
       "      <td>0001683168-20-003956</td>\n",
       "    </tr>\n",
       "    <tr>\n",
       "      <th>10045</th>\n",
       "      <td>S-1</td>\n",
       "      <td>vTv Therapeutics Inc.</td>\n",
       "      <td>1641489</td>\n",
       "      <td>2020-11-24</td>\n",
       "      <td>0001564590-20-055088</td>\n",
       "    </tr>\n",
       "  </tbody>\n",
       "</table>\n",
       "<p>10046 rows × 5 columns</p>\n",
       "</div>"
      ]
     },
     "execution_count": 19,
     "metadata": {},
     "output_type": "execute_result"
    }
   ],
   "source": [
    "db.execute(\"\"\"\n",
    "select * from filings where Form == 'S-1'\n",
    "\"\"\").df()"
   ]
  },
  {
   "cell_type": "markdown",
   "id": "130ec33a",
   "metadata": {},
   "source": [
    "## Filing XBRL"
   ]
  },
  {
   "cell_type": "code",
   "execution_count": null,
   "id": "8c47cbda",
   "metadata": {},
   "outputs": [],
   "source": []
  }
 ],
 "metadata": {
  "kernelspec": {
   "display_name": "edgar",
   "language": "python",
   "name": "edgar"
  },
  "language_info": {
   "codemirror_mode": {
    "name": "ipython",
    "version": 3
   },
   "file_extension": ".py",
   "mimetype": "text/x-python",
   "name": "python",
   "nbconvert_exporter": "python",
   "pygments_lexer": "ipython3",
   "version": "3.10.5"
  }
 },
 "nbformat": 4,
 "nbformat_minor": 5
}
