{
 "cells": [
  {
   "cell_type": "markdown",
   "id": "11597639",
   "metadata": {},
   "source": [
    "# v-patients: Storage-Server Comparision Notebook"
   ]
  },
  {
   "cell_type": "markdown",
   "id": "3cb0f4e4",
   "metadata": {},
   "source": [
    "This notebook quickly checks, if there are the same files in both v-patients. Please add the connection string when running the cells."
   ]
  },
  {
   "cell_type": "code",
   "execution_count": 1,
   "id": "f99d1af2",
   "metadata": {},
   "outputs": [],
   "source": [
    "from azure.storage.blob import BlobServiceClient, BlobClient, ContainerClient\n",
    "import os"
   ]
  },
  {
   "cell_type": "code",
   "execution_count": 2,
   "id": "357bfcd0",
   "metadata": {},
   "outputs": [],
   "source": [
    "connect_str = \"\"\n",
    "container_name=\"v-patients\"\n",
    "root_dir_server = \"/home/database/v-patients/\""
   ]
  },
  {
   "cell_type": "code",
   "execution_count": 3,
   "id": "22cd3459",
   "metadata": {},
   "outputs": [],
   "source": [
    "blob_service_client = BlobServiceClient.from_connection_string(connect_str)\n",
    "container_client=blob_service_client.get_container_client(container_name)"
   ]
  },
  {
   "cell_type": "code",
   "execution_count": 4,
   "id": "8162291b",
   "metadata": {},
   "outputs": [],
   "source": [
    "def getListOfFiles(dirName):\n",
    "    # create a list of file and sub directories \n",
    "    # names in the given directory \n",
    "    listOfFile = os.listdir(dirName)\n",
    "    allFiles = list()\n",
    "    # Iterate over all the entries\n",
    "    for entry in listOfFile:\n",
    "        # Create full path\n",
    "        fullPath = os.path.join(dirName, entry)\n",
    "        # If entry is a directory then get the list of files in this directory \n",
    "        if os.path.isdir(fullPath):\n",
    "            allFiles = allFiles + getListOfFiles(fullPath)\n",
    "        else:\n",
    "            allFiles.append(fullPath)\n",
    "                \n",
    "    return allFiles"
   ]
  },
  {
   "cell_type": "code",
   "execution_count": 5,
   "id": "8d04cf0a",
   "metadata": {},
   "outputs": [
    {
     "name": "stdout",
     "output_type": "stream",
     "text": [
      "Files do not match for patient: 00006\n",
      "Files do not match for patient: 00007\n",
      "Files do not match for patient: 00047\n",
      "Files do not match for patient: 00106\n",
      "Files do not match for patient: 00123\n",
      "Files do not match for patient: 00137\n",
      "Files do not match for patient: 00172\n",
      "Files do not match for patient: 00692\n",
      "Files do not match for patient: 00708\n",
      "Files do not match for patient: 00720\n",
      "Files do not match for patient: 00722\n",
      "Files do not match for patient: 00730\n",
      "Files do not match for patient: 00732\n",
      "Files do not match for patient: 00741\n",
      "Files do not match for patient: 00746\n",
      "Files do not match for patient: 00812\n",
      "Files do not match for patient: 00815\n",
      "Files do not match for patient: 00819\n",
      "Files do not match for patient: 00834\n",
      "Files do not match for patient: 00836\n"
     ]
    }
   ],
   "source": [
    "current_patient = \"xxx\"\n",
    "files = []\n",
    "\n",
    "for i in container_client.list_blobs():\n",
    "    patient = i[\"name\"][0:5]   \n",
    "    if i[\"name\"][0:5] != current_patient:\n",
    "        if current_patient != \"xxx\":\n",
    "            files_storage = sorted(files_storage)\n",
    "            if files_storage != files_server:\n",
    "                print(\"Files do not match for patient: \" + current_patient)\n",
    "        current_patient = i[\"name\"][0:5]\n",
    "        files_storage = []\n",
    "        files_storage.append(i[\"name\"])\n",
    "        files_server = sorted(getListOfFiles(os.path.join(root_dir_server, current_patient)))\n",
    "        files_server = [x[26:] for x in files_server]\n",
    "    else:\n",
    "        files_storage.append(i[\"name\"])"
   ]
  }
 ],
 "metadata": {
  "kernelspec": {
   "display_name": "Python 3 (ipykernel)",
   "language": "python",
   "name": "python3"
  },
  "language_info": {
   "codemirror_mode": {
    "name": "ipython",
    "version": 3
   },
   "file_extension": ".py",
   "mimetype": "text/x-python",
   "name": "python",
   "nbconvert_exporter": "python",
   "pygments_lexer": "ipython3",
   "version": "3.8.10"
  }
 },
 "nbformat": 4,
 "nbformat_minor": 5
}
