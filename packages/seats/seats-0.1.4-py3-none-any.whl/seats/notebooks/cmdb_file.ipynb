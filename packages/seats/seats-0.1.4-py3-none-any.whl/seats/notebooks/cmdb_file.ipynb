{
 "cells": [
  {
   "cell_type": "code",
   "execution_count": 1,
   "metadata": {
    "collapsed": true,
    "pycharm": {
     "name": "#%%\n"
    }
   },
   "outputs": [
    {
     "name": "stdout",
     "output_type": "stream",
     "text": [
      "Customer01 1\n",
      "   firewall01 1\n",
      "    firewall address: [{'name': 'HOST_10.0.0.1', 'subnet': '10.0.0.1 255.255.255.255'}]\n",
      "   firewall02 2\n",
      "    firewall address: [{'name': 'HOST_10.0.0.2', 'subnet': '10.0.0.2 255.255.255.255'}]\n",
      "Customer02 2\n",
      "   firewall01 1\n",
      "    firewall address: [{'name': 'HOST_10.0.0.1', 'subnet': '10.0.0.1 255.255.255.255'}]\n",
      "   firewall02 2\n",
      "    firewall address: [{'name': 'HOST_10.0.0.2', 'subnet': '10.0.0.2 255.255.255.255'}]\n"
     ]
    }
   ],
   "source": [
    "from seats.cmdbs.file import FromFile\n",
    "\n",
    "cmdb = FromFile(config=None, config_path=\"cmdb.json\")\n",
    "customers = cmdb.get_customers()\n",
    "for customer in customers:\n",
    "    hosts = cmdb.get_hosts(customer.id)\n",
    "    print(customer, customer.id)\n",
    "    for host in hosts:\n",
    "        print(\"  \", host.get(\"name\"), host.get(\"id\"))\n",
    "        config = cmdb.get_host_config(customer.id, host.get(\"id\"))\n",
    "        for k, v in config.items():\n",
    "            print(f\"    {k}: {v}\")\n"
   ]
  }
 ],
 "metadata": {
  "kernelspec": {
   "display_name": "Python 3",
   "language": "python",
   "name": "python3"
  },
  "language_info": {
   "codemirror_mode": {
    "name": "ipython",
    "version": 2
   },
   "file_extension": ".py",
   "mimetype": "text/x-python",
   "name": "python",
   "nbconvert_exporter": "python",
   "pygments_lexer": "ipython2",
   "version": "2.7.6"
  }
 },
 "nbformat": 4,
 "nbformat_minor": 0
}