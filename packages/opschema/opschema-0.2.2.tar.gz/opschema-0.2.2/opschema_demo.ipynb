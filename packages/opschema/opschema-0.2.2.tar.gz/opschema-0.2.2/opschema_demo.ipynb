{
 "cells": [
  {
   "cell_type": "markdown",
   "metadata": {
    "id": "md82b7e1VfSJ"
   },
   "source": [
    "# The problem\n",
    "\n",
    "TensorFlow Python ops give cryptic error messages. Often the exceptions arise from several stack levels down the TensorFlow codebase. Because of this, it is frequently not clear to the user what input constraints are violated and what should be done to correct the error.\n",
    "\n",
    "This is particularly challenging for ops that are highly polymorphic in the combinations of shapes and dtypes they accept. Documentation often does not fully describe the legal inputs to ops. Finding out whether a particular call is legal must be done by trial and error in many cases.\n",
    "\n",
    "\n",
    "# Some Examples\n",
    "\n",
    "\n",
    "\n"
   ]
  },
  {
   "cell_type": "code",
   "execution_count": null,
   "metadata": {
    "id": "KOipeNoiBH6I"
   },
   "outputs": [],
   "source": [
    "!pip install ipywidgets\n",
    "!pip install -e ./\n",
    "!pip install pyctb\n",
    "#!pip install --upgrade opschema"
   ]
  },
  {
   "cell_type": "code",
   "execution_count": 1,
   "metadata": {
    "id": "V3N9Yb5VXBVM"
   },
   "outputs": [
    {
     "name": "stdout",
     "output_type": "stream",
     "text": [
      "Schema for tf.gather_nd\n",
      "\n",
      "Indexes\n",
      "\n",
      "Index  Description           \n",
      "b      batch                 \n",
      "r      read location         \n",
      "w      write location        \n",
      "e      slice element         \n",
      "c      read address component\n",
      "\n",
      "Signatures\n",
      "\n",
      "params  indices  return[0]\n",
      "bre     bwc      bwe      \n",
      "\n",
      "Index ranks\n",
      "\n",
      "rank(b) Unconstrained                          \n",
      "rank(r) in [1, 7]                              \n",
      "rank(w) Unconstrained                          \n",
      "rank(e) Unconstrained                          \n",
      "rank(c) = 1                                    \n",
      "rank(b,c,w) in [0, 10]     sum-range constraint\n",
      "rank(b,e,r) in [0, 10]     sum-range constraint\n",
      "\n",
      "Computed dimensions\n",
      "\n",
      "\n",
      "\n",
      "DType Rules\n",
      "\n",
      "indices.dtype in (int32, int64)\n",
      "params.dtype in (int32, int64, float16, float32, float64)\n"
     ]
    }
   ],
   "source": [
    "import opschema\n",
    "opschema.explain('tf.gather_nd')"
   ]
  },
  {
   "cell_type": "code",
   "execution_count": 2,
   "metadata": {
    "id": "du-udjMiwnft"
   },
   "outputs": [
    {
     "data": {
      "text/plain": [
       "'Choose one of the available Op Schemas to see its definition'"
      ]
     },
     "metadata": {},
     "output_type": "display_data"
    },
    {
     "data": {
      "application/vnd.jupyter.widget-view+json": {
       "model_id": "ed4922ac840d49f6aef43187c625f8a1",
       "version_major": 2,
       "version_minor": 0
      },
      "text/plain": [
       "Dropdown(description='Ops:', options=('tf.gather_nd', 'tf.nn.atrous_conv2d', 'tf.nn.atrous_conv2d_transpose', …"
      ]
     },
     "metadata": {},
     "output_type": "display_data"
    },
    {
     "data": {
      "application/vnd.jupyter.widget-view+json": {
       "model_id": "d9fefb7e7d544dd0b5dc6f5585d853ec",
       "version_major": 2,
       "version_minor": 0
      },
      "text/plain": [
       "Output()"
      ]
     },
     "metadata": {},
     "output_type": "display_data"
    }
   ],
   "source": [
    "import sys\n",
    "from IPython.display import display\n",
    "import ipywidgets as widgets\n",
    "import opschema\n",
    "import pyctb\n",
    "\n",
    "# pyctb.on()\n",
    "\n",
    "schema_list = opschema.list_schemas()\n",
    "explain_out = widgets.Output()\n",
    "\n",
    "dropdown = widgets.Dropdown(\n",
    "    options=schema_list,\n",
    "    value=schema_list[0],\n",
    "    description='Ops:',\n",
    "    disabled=False,\n",
    ")\n",
    "\n",
    "def explain_op(change):\n",
    "  explain_out.clear_output()\n",
    "  with explain_out:\n",
    "    print(change.new)\n",
    "    opschema.explain(change.new)\n",
    "\n",
    "dropdown.observe(explain_op, names='value')\n",
    "\n",
    "display('Choose one of the available Op Schemas to see its definition')\n",
    "display(dropdown)\n",
    "display(explain_out)"
   ]
  },
  {
   "cell_type": "code",
   "execution_count": null,
   "metadata": {
    "id": "HBYVjNaD47yg"
   },
   "outputs": [],
   "source": [
    "# Instantiate a Schema (but do not wrap the TensorFlow op\n",
    "wrapped_out = widgets.Output()\n",
    "\n",
    "def run_wrapped(change):\n",
    "  opschema.register(change.new)\n",
    "  op = opschema.get(change.new)\n",
    "  gen = op.generate_args()\n",
    "  for _ in range(10):\n",
    "    next(gen)\n",
    "  input = next(gen)\n",
    "  input = { k: v.value() for k, v in input.items() }\n",
    "  wrapped_out.clear_output()\n",
    "  with wrapped_out:\n",
    "    try:\n",
    "      op.wrapped_op(**input)\n",
    "    except:\n",
    "      print('\\n')\n",
    "      sys.excepthook(*sys.exc_info())\n",
    "\n",
    "dropdown.observe(run_wrapped, names='value')\n",
    "\n",
    "display(dropdown)\n",
    "display(wrapped_out)\n",
    "\n"
   ]
  },
  {
   "cell_type": "markdown",
   "metadata": {
    "id": "JFwKss9mBKvl"
   },
   "source": [
    "# The solution\n",
    "\n",
    "OpCheck provides an API for defining the legal inputs to TensorFlow ops.  Using the API, one can create a 'schema' for a given op.  Once created, the schema can be used to generate legal and illegal inputs for the op, produce descriptions of the various constraints, and check the validity of a given set of inputs and issue an informative error message.\n",
    "\n",
    "\n",
    "\n",
    "The schema definition itself must be tested against the TensorFlow op to confirm that it accurately reflects TensorFlow's own constraints.  To do this, the \n",
    "\n",
    "\n",
    "\n",
    "\n",
    "\n",
    "## The Inputs Generator\n",
    "\n",
    "Once a TensorFlow op is registered, it is represented as an instance of `opcheck.api`, which provides the function `generate_args()`.  This is a generator that generates sets of input arguments for the op.  It will generate a complete set of valid inputs, as well as a defined set of invalid inputs.\n",
    "\n",
    "## An API for concisely defining the schema for the op\n",
    "\n",
    "\n"
   ]
  }
 ],
 "metadata": {
  "accelerator": "GPU",
  "colab": {
   "private_outputs": true,
   "provenance": []
  },
  "gpuClass": "standard",
  "kernelspec": {
   "display_name": "Python 3 (ipykernel)",
   "language": "python",
   "name": "python3"
  },
  "language_info": {
   "codemirror_mode": {
    "name": "ipython",
    "version": 3
   },
   "file_extension": ".py",
   "mimetype": "text/x-python",
   "name": "python",
   "nbconvert_exporter": "python",
   "pygments_lexer": "ipython3",
   "version": "3.7.2"
  }
 },
 "nbformat": 4,
 "nbformat_minor": 1
}
